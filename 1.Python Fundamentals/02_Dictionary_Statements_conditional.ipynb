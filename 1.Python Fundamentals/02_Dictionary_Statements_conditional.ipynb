{
  "nbformat": 4,
  "nbformat_minor": 0,
  "metadata": {
    "colab": {
      "provenance": []
    },
    "kernelspec": {
      "name": "python3",
      "display_name": "Python 3"
    },
    "language_info": {
      "name": "python"
    }
  },
  "cells": [
    {
      "cell_type": "code",
      "execution_count": null,
      "metadata": {
        "id": "4zH9dyxJKEVO"
      },
      "outputs": [],
      "source": [
        "d = {}"
      ]
    },
    {
      "cell_type": "code",
      "source": [
        "type(d)"
      ],
      "metadata": {
        "colab": {
          "base_uri": "https://localhost:8080/"
        },
        "id": "3olFuk_YKqUM",
        "outputId": "8c953967-9879-4e5c-e3ab-188a93c2c989"
      },
      "execution_count": null,
      "outputs": [
        {
          "output_type": "execute_result",
          "data": {
            "text/plain": [
              "dict"
            ]
          },
          "metadata": {},
          "execution_count": 2
        }
      ]
    },
    {
      "cell_type": "code",
      "source": [
        "d1 = {'key' : 'value'}"
      ],
      "metadata": {
        "id": "0Kr_S8wlKwzf"
      },
      "execution_count": null,
      "outputs": []
    },
    {
      "cell_type": "code",
      "source": [
        "d1"
      ],
      "metadata": {
        "colab": {
          "base_uri": "https://localhost:8080/"
        },
        "id": "GajsMH3tLRWn",
        "outputId": "873dfd7c-282b-476f-e919-b7bf22a0a8cc"
      },
      "execution_count": null,
      "outputs": [
        {
          "output_type": "execute_result",
          "data": {
            "text/plain": [
              "{'key': 'value'}"
            ]
          },
          "metadata": {},
          "execution_count": 4
        }
      ]
    },
    {
      "cell_type": "code",
      "source": [
        "d2 = {'name' : \"shubham\", 'email' : \"shiv@aa.com\", 'numbe' : 97892662}"
      ],
      "metadata": {
        "id": "TXJOmbcALSX7"
      },
      "execution_count": null,
      "outputs": []
    },
    {
      "cell_type": "code",
      "source": [
        "d2"
      ],
      "metadata": {
        "colab": {
          "base_uri": "https://localhost:8080/"
        },
        "id": "SMVWD4rjLrLn",
        "outputId": "6536cf57-75b5-4e30-cc19-d8bdecf7d167"
      },
      "execution_count": null,
      "outputs": [
        {
          "output_type": "execute_result",
          "data": {
            "text/plain": [
              "{'name': 'shubham', 'email': 'shiv@aa.com', 'numbe': 97892662}"
            ]
          },
          "metadata": {},
          "execution_count": 6
        }
      ]
    },
    {
      "cell_type": "code",
      "source": [
        "d3 = {123 : \"shubham\", \"_wer\" : \"shiv\", True : 9229}"
      ],
      "metadata": {
        "id": "0rQWuySPLsco"
      },
      "execution_count": null,
      "outputs": []
    },
    {
      "cell_type": "code",
      "source": [
        "d3"
      ],
      "metadata": {
        "colab": {
          "base_uri": "https://localhost:8080/"
        },
        "id": "E23eQ6XoMkvK",
        "outputId": "80840cd3-4d49-4bb7-8f4d-31bece14c794"
      },
      "execution_count": null,
      "outputs": [
        {
          "output_type": "execute_result",
          "data": {
            "text/plain": [
              "{123: 'shubham', '_wer': 'shiv', True: 9229}"
            ]
          },
          "metadata": {},
          "execution_count": 8
        }
      ]
    },
    {
      "cell_type": "code",
      "source": [
        "d3[123]"
      ],
      "metadata": {
        "colab": {
          "base_uri": "https://localhost:8080/",
          "height": 36
        },
        "id": "MRvopRZvMmAr",
        "outputId": "90ea7d7f-18a5-493a-b14c-8793e7145e06"
      },
      "execution_count": null,
      "outputs": [
        {
          "output_type": "execute_result",
          "data": {
            "text/plain": [
              "'shubham'"
            ],
            "application/vnd.google.colaboratory.intrinsic+json": {
              "type": "string"
            }
          },
          "metadata": {},
          "execution_count": 9
        }
      ]
    },
    {
      "cell_type": "code",
      "source": [
        "d3[1]"
      ],
      "metadata": {
        "colab": {
          "base_uri": "https://localhost:8080/"
        },
        "id": "11g9qpsUNHby",
        "outputId": "22a3adb8-bed6-45a8-cbd0-4791aedf0330"
      },
      "execution_count": null,
      "outputs": [
        {
          "output_type": "execute_result",
          "data": {
            "text/plain": [
              "9229"
            ]
          },
          "metadata": {},
          "execution_count": 10
        }
      ]
    },
    {
      "cell_type": "code",
      "source": [
        "d4 = {'name' : \"shubham\", 'mail_id' : \"shiv@aa.com\", 'name' : \"shiv\"}"
      ],
      "metadata": {
        "id": "Nr05XGdwNYF9"
      },
      "execution_count": null,
      "outputs": []
    },
    {
      "cell_type": "code",
      "source": [
        "d4"
      ],
      "metadata": {
        "colab": {
          "base_uri": "https://localhost:8080/"
        },
        "id": "ExMSjm1oNivP",
        "outputId": "b8d28618-3367-42f1-8f98-3a8bcf67716a"
      },
      "execution_count": null,
      "outputs": [
        {
          "output_type": "execute_result",
          "data": {
            "text/plain": [
              "{'name': 'shiv', 'mail_id': 'shiv@aa.com'}"
            ]
          },
          "metadata": {},
          "execution_count": 12
        }
      ]
    },
    {
      "cell_type": "code",
      "source": [
        "d5 = {'company' : \"pwskills\", 'course' : [\"web dev\", \"data science\", \"java with dsa system design\"]}"
      ],
      "metadata": {
        "id": "yMg36bsFNlJK"
      },
      "execution_count": null,
      "outputs": []
    },
    {
      "cell_type": "code",
      "source": [
        "d5"
      ],
      "metadata": {
        "colab": {
          "base_uri": "https://localhost:8080/"
        },
        "id": "JPmzHpUFO1mw",
        "outputId": "2d9d8024-4fcc-4815-8e46-c176a9b58955"
      },
      "execution_count": null,
      "outputs": [
        {
          "output_type": "execute_result",
          "data": {
            "text/plain": [
              "{'company': 'pwskills',\n",
              " 'course': ['web dev', 'data science', 'java with dsa system design']}"
            ]
          },
          "metadata": {},
          "execution_count": 14
        }
      ]
    },
    {
      "cell_type": "code",
      "source": [
        "d5['course']"
      ],
      "metadata": {
        "colab": {
          "base_uri": "https://localhost:8080/"
        },
        "id": "2W0TxkWnO2rX",
        "outputId": "7d4cd665-73da-4304-e6f3-ecdcd5dd1717"
      },
      "execution_count": null,
      "outputs": [
        {
          "output_type": "execute_result",
          "data": {
            "text/plain": [
              "['web dev', 'data science', 'java with dsa system design']"
            ]
          },
          "metadata": {},
          "execution_count": 15
        }
      ]
    },
    {
      "cell_type": "code",
      "source": [
        "d5['course'][2]"
      ],
      "metadata": {
        "colab": {
          "base_uri": "https://localhost:8080/",
          "height": 36
        },
        "id": "Wm7tS7YZO-Eo",
        "outputId": "e5f8bf3c-abe7-4d85-a895-ddd791541996"
      },
      "execution_count": null,
      "outputs": [
        {
          "output_type": "execute_result",
          "data": {
            "text/plain": [
              "'java with dsa system design'"
            ],
            "application/vnd.google.colaboratory.intrinsic+json": {
              "type": "string"
            }
          },
          "metadata": {},
          "execution_count": 16
        }
      ]
    },
    {
      "cell_type": "code",
      "source": [
        "d6 = {\"number\" : [3, 43, 343, 43, 23, 23], \"assignment\" : (1, 43, 3, 32, 433, 2, 2), \"launched_date\" : {23,3,24}, \"class_time\" : {\"webdev\":8, \"data science\":8, \"java with dsa\":9} }"
      ],
      "metadata": {
        "id": "sTPG4OtpPJN9"
      },
      "execution_count": null,
      "outputs": []
    },
    {
      "cell_type": "code",
      "source": [
        "d6"
      ],
      "metadata": {
        "colab": {
          "base_uri": "https://localhost:8080/"
        },
        "id": "t3nro1KmQEIb",
        "outputId": "0a89b2a4-5e66-48fa-e3fb-7c3606812dac"
      },
      "execution_count": null,
      "outputs": [
        {
          "output_type": "execute_result",
          "data": {
            "text/plain": [
              "{'number': [3, 43, 343, 43, 23, 23],\n",
              " 'assignment': (1, 43, 3, 32, 433, 2, 2),\n",
              " 'launched_date': {3, 23, 24},\n",
              " 'class_time': {'webdev': 8, 'data science': 8, 'java with dsa': 9}}"
            ]
          },
          "metadata": {},
          "execution_count": 18
        }
      ]
    },
    {
      "cell_type": "code",
      "source": [
        "d6['class_time']['java with dsa']"
      ],
      "metadata": {
        "colab": {
          "base_uri": "https://localhost:8080/"
        },
        "id": "B13b6uQQQ2jc",
        "outputId": "458eca2a-d013-47e5-9796-c0c8948a06f1"
      },
      "execution_count": null,
      "outputs": [
        {
          "output_type": "execute_result",
          "data": {
            "text/plain": [
              "9"
            ]
          },
          "metadata": {},
          "execution_count": 19
        }
      ]
    },
    {
      "cell_type": "code",
      "source": [
        "d6['mentor'] = [\"shubham\", \"shiv\", \"navin\"]"
      ],
      "metadata": {
        "id": "c4_xZTZXUoAq"
      },
      "execution_count": null,
      "outputs": []
    },
    {
      "cell_type": "code",
      "source": [
        "d6"
      ],
      "metadata": {
        "colab": {
          "base_uri": "https://localhost:8080/"
        },
        "id": "JPz15VL8VgPs",
        "outputId": "a3b7b59d-af6d-42a4-ddff-42d128b9a9e1"
      },
      "execution_count": null,
      "outputs": [
        {
          "output_type": "execute_result",
          "data": {
            "text/plain": [
              "{'number': [3, 43, 343, 43, 23, 23],\n",
              " 'assignment': (1, 43, 3, 32, 433, 2, 2),\n",
              " 'launched_date': {3, 23, 24},\n",
              " 'class_time': {'webdev': 8, 'data science': 8, 'java with dsa': 9},\n",
              " 'mentor': ['shubham', 'shiv', 'navin']}"
            ]
          },
          "metadata": {},
          "execution_count": 21
        }
      ]
    },
    {
      "cell_type": "code",
      "source": [
        "del d6['number']"
      ],
      "metadata": {
        "id": "TNN-_FfVVhwy"
      },
      "execution_count": null,
      "outputs": []
    },
    {
      "cell_type": "code",
      "source": [
        "d6"
      ],
      "metadata": {
        "colab": {
          "base_uri": "https://localhost:8080/"
        },
        "id": "82vs1VjmV1YZ",
        "outputId": "f4c5e330-7411-42c7-f0e4-cddce6adf516"
      },
      "execution_count": null,
      "outputs": [
        {
          "output_type": "execute_result",
          "data": {
            "text/plain": [
              "{'assignment': (1, 43, 3, 32, 433, 2, 2),\n",
              " 'launched_date': {3, 23, 24},\n",
              " 'class_time': {'webdev': 8, 'data science': 8, 'java with dsa': 9},\n",
              " 'mentor': ['shubham', 'shiv', 'navin']}"
            ]
          },
          "metadata": {},
          "execution_count": 23
        }
      ]
    },
    {
      "cell_type": "code",
      "source": [
        "list(d6.keys())"
      ],
      "metadata": {
        "colab": {
          "base_uri": "https://localhost:8080/"
        },
        "id": "JkX-RsxGV3eA",
        "outputId": "cd7c59a1-0d32-4f41-94bd-d4c50441af06"
      },
      "execution_count": null,
      "outputs": [
        {
          "output_type": "execute_result",
          "data": {
            "text/plain": [
              "['assignment', 'launched_date', 'class_time', 'mentor']"
            ]
          },
          "metadata": {},
          "execution_count": 24
        }
      ]
    },
    {
      "cell_type": "code",
      "source": [
        "list(d6.values())"
      ],
      "metadata": {
        "colab": {
          "base_uri": "https://localhost:8080/"
        },
        "id": "nqzj9wPoWP0f",
        "outputId": "571e1924-1442-47ba-d126-178f42133908"
      },
      "execution_count": null,
      "outputs": [
        {
          "output_type": "execute_result",
          "data": {
            "text/plain": [
              "[(1, 43, 3, 32, 433, 2, 2),\n",
              " {3, 23, 24},\n",
              " {'webdev': 8, 'data science': 8, 'java with dsa': 9},\n",
              " ['shubham', 'shiv', 'navin']]"
            ]
          },
          "metadata": {},
          "execution_count": 25
        }
      ]
    },
    {
      "cell_type": "code",
      "source": [
        "list(d6.items())"
      ],
      "metadata": {
        "colab": {
          "base_uri": "https://localhost:8080/"
        },
        "id": "HFUkb1sjWq3O",
        "outputId": "2ad45d5b-e242-4e21-e067-4aa0d40649b4"
      },
      "execution_count": null,
      "outputs": [
        {
          "output_type": "execute_result",
          "data": {
            "text/plain": [
              "[('assignment', (1, 43, 3, 32, 433, 2, 2)),\n",
              " ('launched_date', {3, 23, 24}),\n",
              " ('class_time', {'webdev': 8, 'data science': 8, 'java with dsa': 9}),\n",
              " ('mentor', ['shubham', 'shiv', 'navin'])]"
            ]
          },
          "metadata": {},
          "execution_count": 26
        }
      ]
    },
    {
      "cell_type": "code",
      "source": [
        "d6.pop('assignment')"
      ],
      "metadata": {
        "colab": {
          "base_uri": "https://localhost:8080/"
        },
        "id": "R8WchXmFW3Cl",
        "outputId": "d7bbd9a7-0e73-41d0-8a92-65cd22265859"
      },
      "execution_count": null,
      "outputs": [
        {
          "output_type": "execute_result",
          "data": {
            "text/plain": [
              "(1, 43, 3, 32, 433, 2, 2)"
            ]
          },
          "metadata": {},
          "execution_count": 27
        }
      ]
    },
    {
      "cell_type": "code",
      "source": [
        "d6"
      ],
      "metadata": {
        "colab": {
          "base_uri": "https://localhost:8080/"
        },
        "id": "xpBSHLInXubN",
        "outputId": "8fab8a64-cc91-4f90-e159-42fe4660d3a3"
      },
      "execution_count": null,
      "outputs": [
        {
          "output_type": "execute_result",
          "data": {
            "text/plain": [
              "{'launched_date': {3, 23, 24},\n",
              " 'class_time': {'webdev': 8, 'data science': 8, 'java with dsa': 9},\n",
              " 'mentor': ['shubham', 'shiv', 'navin']}"
            ]
          },
          "metadata": {},
          "execution_count": 28
        }
      ]
    },
    {
      "cell_type": "code",
      "source": [
        "marks = int(input(\"enter your marks : \"))\n",
        "if marks >= 90 :\n",
        "  print(\"you wll be part of A0 batch\")\n",
        "elif marks >= 80 and marks < 90 :\n",
        "    print(\"you will be part of A1 batch\")\n",
        "elif marks >= 60 and marks < 80 :\n",
        "  print(\"you will be part of A2 batch\")\n",
        "else :\n",
        "  print(\"you will be part of A3 batch\")"
      ],
      "metadata": {
        "id": "LR7klXxZX8v_",
        "colab": {
          "base_uri": "https://localhost:8080/"
        },
        "outputId": "54aaa20b-9b39-4a12-c06b-279708b4c810"
      },
      "execution_count": null,
      "outputs": [
        {
          "output_type": "stream",
          "name": "stdout",
          "text": [
            "enter your marks : 37\n",
            "you will be part of A3 batch\n"
          ]
        }
      ]
    },
    {
      "cell_type": "code",
      "source": [
        "price = int(input(\"enter price : \"))\n",
        "if price > 1000 :\n",
        "  print(\"i will not purchase\")\n",
        "else :\n",
        "  print(\"i will purchase\")"
      ],
      "metadata": {
        "colab": {
          "base_uri": "https://localhost:8080/"
        },
        "id": "euEl8DezOUy_",
        "outputId": "bb394e6f-8a2a-4ef0-b38b-b706571ce943"
      },
      "execution_count": null,
      "outputs": [
        {
          "output_type": "stream",
          "name": "stdout",
          "text": [
            "enter price : 937\n",
            "i will purchase\n"
          ]
        }
      ]
    },
    {
      "cell_type": "code",
      "source": [
        "l = [1, 2, 3, 4, 5, 6, 7, 8]"
      ],
      "metadata": {
        "id": "6Xo148AKOWj2"
      },
      "execution_count": null,
      "outputs": []
    },
    {
      "cell_type": "code",
      "source": [
        "l1 = []\n",
        "for i in l :\n",
        "  print(i+1)\n",
        "  l1.append(i+1)"
      ],
      "metadata": {
        "colab": {
          "base_uri": "https://localhost:8080/"
        },
        "id": "iLroLC3fRtJD",
        "outputId": "fa3cae25-2035-4700-9cea-f3fd5f3f3792"
      },
      "execution_count": null,
      "outputs": [
        {
          "output_type": "stream",
          "name": "stdout",
          "text": [
            "2\n",
            "3\n",
            "4\n",
            "5\n",
            "6\n",
            "7\n",
            "8\n",
            "9\n"
          ]
        }
      ]
    },
    {
      "cell_type": "code",
      "source": [
        "l1"
      ],
      "metadata": {
        "colab": {
          "base_uri": "https://localhost:8080/"
        },
        "id": "ZsGlMAZtR2sC",
        "outputId": "d4318f89-9e51-408b-89c4-9fcf732963db"
      },
      "execution_count": null,
      "outputs": [
        {
          "output_type": "execute_result",
          "data": {
            "text/plain": [
              "[2, 3, 4, 5, 6, 7, 8, 9]"
            ]
          },
          "metadata": {},
          "execution_count": 51
        }
      ]
    },
    {
      "cell_type": "code",
      "source": [
        "l = [\"shubham\", \"shiv\", \"navin\", \"pwskills\", \"course\"]"
      ],
      "metadata": {
        "id": "Zh_-GL5kV9F8"
      },
      "execution_count": null,
      "outputs": []
    },
    {
      "cell_type": "code",
      "source": [
        "l2 = []\n",
        "for i in l :\n",
        "  print(i.upper())\n",
        "  l2.append(i.upper())\n",
        "l2"
      ],
      "metadata": {
        "colab": {
          "base_uri": "https://localhost:8080/"
        },
        "id": "RJqOY8TDWmpH",
        "outputId": "5edcc0c5-4f5b-4902-bea5-4d37269acfd4"
      },
      "execution_count": null,
      "outputs": [
        {
          "output_type": "stream",
          "name": "stdout",
          "text": [
            "SHUBHAM\n",
            "SHIV\n",
            "NAVIN\n",
            "PWSKILLS\n",
            "COURSE\n"
          ]
        },
        {
          "output_type": "execute_result",
          "data": {
            "text/plain": [
              "['SHUBHAM', 'SHIV', 'NAVIN', 'PWSKILLS', 'COURSE']"
            ]
          },
          "metadata": {},
          "execution_count": 53
        }
      ]
    },
    {
      "cell_type": "code",
      "source": [
        "l = [1, 3, 4, 4, 322, 42, \"shubham\", 82.72, 9]"
      ],
      "metadata": {
        "id": "IuTGy2PHW2F3"
      },
      "execution_count": null,
      "outputs": []
    },
    {
      "cell_type": "code",
      "source": [
        "l3 = []\n",
        "l4 = []\n",
        "for i in l :\n",
        "  if type(i) == int or type(i) == float :\n",
        "    l3.append(i)\n",
        "  else :\n",
        "    l4.append(i)"
      ],
      "metadata": {
        "id": "NJs5L_McXXJw"
      },
      "execution_count": null,
      "outputs": []
    },
    {
      "cell_type": "code",
      "source": [
        "l3"
      ],
      "metadata": {
        "colab": {
          "base_uri": "https://localhost:8080/"
        },
        "id": "nIJy9tBNXu5F",
        "outputId": "53832c20-db7c-4008-83e2-ca8fc55f467e"
      },
      "execution_count": null,
      "outputs": [
        {
          "output_type": "execute_result",
          "data": {
            "text/plain": [
              "[1, 3, 4, 4, 322, 42, 82.72, 9]"
            ]
          },
          "metadata": {},
          "execution_count": 68
        }
      ]
    },
    {
      "cell_type": "code",
      "source": [
        "l4"
      ],
      "metadata": {
        "colab": {
          "base_uri": "https://localhost:8080/"
        },
        "id": "r2QM9GGMXxFm",
        "outputId": "ce7d8fef-f741-4d9f-9e63-cc853b87310a"
      },
      "execution_count": null,
      "outputs": [
        {
          "output_type": "execute_result",
          "data": {
            "text/plain": [
              "['shubham']"
            ]
          },
          "metadata": {},
          "execution_count": 69
        }
      ]
    },
    {
      "cell_type": "code",
      "source": [],
      "metadata": {
        "id": "1TvdDenMXzVP"
      },
      "execution_count": null,
      "outputs": []
    }
  ]
}