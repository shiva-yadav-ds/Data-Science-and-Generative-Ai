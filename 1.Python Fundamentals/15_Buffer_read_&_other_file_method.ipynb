{
  "nbformat": 4,
  "nbformat_minor": 0,
  "metadata": {
    "colab": {
      "provenance": []
    },
    "kernelspec": {
      "name": "python3",
      "display_name": "Python 3"
    },
    "language_info": {
      "name": "python"
    }
  },
  "cells": [
    {
      "cell_type": "code",
      "execution_count": 1,
      "metadata": {
        "id": "LTzSTKFHCEJ2"
      },
      "outputs": [],
      "source": [
        "import io"
      ]
    },
    {
      "cell_type": "code",
      "source": [
        "with open (\"text.txt\", \"wb\") as f:\n",
        "  file = io.BufferedWriter(f)\n",
        "\n",
        "  file.write(b\"This is my first line\\n\")\n",
        "  file.write(b\"This is my second line\\n\")\n",
        "  file.flush()"
      ],
      "metadata": {
        "id": "qnW6WHcqCqv-"
      },
      "execution_count": 3,
      "outputs": []
    },
    {
      "cell_type": "code",
      "source": [
        "with open (\"text.txt\", \"rb\") as f:\n",
        "  file = io.BufferedReader(f)\n",
        "  data = file.read(100)\n",
        "  print(data)"
      ],
      "metadata": {
        "colab": {
          "base_uri": "https://localhost:8080/"
        },
        "id": "kuLjxaR_DReD",
        "outputId": "33cb352e-bf21-41c4-e79e-5732aa22701f"
      },
      "execution_count": 5,
      "outputs": [
        {
          "output_type": "stream",
          "name": "stdout",
          "text": [
            "b'This is my first line\\nThis is my second line\\n'\n"
          ]
        }
      ]
    },
    {
      "cell_type": "code",
      "source": [],
      "metadata": {
        "id": "IctVS5XpEB_Y"
      },
      "execution_count": null,
      "outputs": []
    }
  ]
}