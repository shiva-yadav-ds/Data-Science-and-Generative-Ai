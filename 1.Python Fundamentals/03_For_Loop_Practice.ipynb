{
  "nbformat": 4,
  "nbformat_minor": 0,
  "metadata": {
    "colab": {
      "provenance": []
    },
    "kernelspec": {
      "name": "python3",
      "display_name": "Python 3"
    },
    "language_info": {
      "name": "python"
    }
  },
  "cells": [
    {
      "cell_type": "code",
      "execution_count": null,
      "metadata": {
        "id": "iOUmMcPmTN-R"
      },
      "outputs": [],
      "source": [
        "l = [1, 4, 4, 55, 65, 3, 53]"
      ]
    },
    {
      "cell_type": "code",
      "source": [
        "for i in l :\n",
        "  print(i, type(i))"
      ],
      "metadata": {
        "colab": {
          "base_uri": "https://localhost:8080/"
        },
        "id": "uVcnn8g1Tsu8",
        "outputId": "632eac14-14a5-4faa-b552-df2e0a963573"
      },
      "execution_count": null,
      "outputs": [
        {
          "output_type": "stream",
          "name": "stdout",
          "text": [
            "1 <class 'int'>\n",
            "4 <class 'int'>\n",
            "4 <class 'int'>\n",
            "55 <class 'int'>\n",
            "65 <class 'int'>\n",
            "3 <class 'int'>\n",
            "53 <class 'int'>\n"
          ]
        }
      ]
    },
    {
      "cell_type": "code",
      "source": [
        "l1 = [\"shubham\", \"Shiva\", \"Krish\", \"shivam\"]"
      ],
      "metadata": {
        "id": "CcssmXuGT_jT"
      },
      "execution_count": null,
      "outputs": []
    },
    {
      "cell_type": "code",
      "source": [
        "for i in l1 :\n",
        "  print(i)"
      ],
      "metadata": {
        "colab": {
          "base_uri": "https://localhost:8080/"
        },
        "id": "_gU4WajgUOih",
        "outputId": "60a1dea3-587e-4af1-95cc-89121f8edb8c"
      },
      "execution_count": null,
      "outputs": [
        {
          "output_type": "stream",
          "name": "stdout",
          "text": [
            "shubham\n",
            "Shiva\n",
            "Krish\n"
          ]
        }
      ]
    },
    {
      "cell_type": "code",
      "source": [
        "for i in l1 :\n",
        "  print(i)\n",
        "else :\n",
        "  print(\"if for loop is able to complete itself then only else will execute\")"
      ],
      "metadata": {
        "colab": {
          "base_uri": "https://localhost:8080/"
        },
        "id": "oDBz-yMAURy5",
        "outputId": "41d17a46-3937-459d-ea77-8a7d01f0ee52"
      },
      "execution_count": null,
      "outputs": [
        {
          "output_type": "stream",
          "name": "stdout",
          "text": [
            "shubham\n",
            "Shiva\n",
            "Krish\n",
            "if for loop is able to complete itself then only else will execute\n"
          ]
        }
      ]
    },
    {
      "cell_type": "code",
      "source": [
        "l1"
      ],
      "metadata": {
        "colab": {
          "base_uri": "https://localhost:8080/"
        },
        "id": "pz8QdSjNUi1y",
        "outputId": "a32979ac-28f6-4f1f-8030-485374be261c"
      },
      "execution_count": null,
      "outputs": [
        {
          "output_type": "execute_result",
          "data": {
            "text/plain": [
              "['shubham', 'Shiva', 'Krish', 'shivam']"
            ]
          },
          "metadata": {},
          "execution_count": 12
        }
      ]
    },
    {
      "cell_type": "code",
      "source": [
        "for i in l1:\n",
        "  if i  == \"Shiva\" :\n",
        "    break\n",
        "  print(i)"
      ],
      "metadata": {
        "colab": {
          "base_uri": "https://localhost:8080/"
        },
        "id": "yL4uMOaOU-hw",
        "outputId": "0a79ed08-1c36-4b76-a47a-299a5718ce5b"
      },
      "execution_count": null,
      "outputs": [
        {
          "output_type": "stream",
          "name": "stdout",
          "text": [
            "shubham\n"
          ]
        }
      ]
    },
    {
      "cell_type": "code",
      "source": [
        "for i in l1:\n",
        "  if i  == \"Krish\" :\n",
        "    break\n",
        "  print(i)\n",
        "else :\n",
        "  print(\"execute this if for loop is able to complete itself\")"
      ],
      "metadata": {
        "colab": {
          "base_uri": "https://localhost:8080/"
        },
        "id": "FI8ztSlXVJ3U",
        "outputId": "7754a135-1e3e-403b-99c7-a90b306053f2"
      },
      "execution_count": null,
      "outputs": [
        {
          "output_type": "stream",
          "name": "stdout",
          "text": [
            "shubham\n",
            "Shiva\n"
          ]
        }
      ]
    },
    {
      "cell_type": "code",
      "source": [
        "for i in l1:\n",
        "  if i  == \"Krish\" :\n",
        "    continue\n",
        "  print(i)\n",
        "else :\n",
        "  print(\"execute this if for loop is able to complete itself\")"
      ],
      "metadata": {
        "colab": {
          "base_uri": "https://localhost:8080/"
        },
        "id": "aqg5fKm1X39Q",
        "outputId": "6209594f-9455-4f0d-9d49-492fe28a3fa5"
      },
      "execution_count": null,
      "outputs": [
        {
          "output_type": "stream",
          "name": "stdout",
          "text": [
            "shubham\n",
            "Shiva\n",
            "shivam\n",
            "execute this if for loop is able to complete itself\n"
          ]
        }
      ]
    },
    {
      "cell_type": "code",
      "source": [
        "list(range(5))"
      ],
      "metadata": {
        "colab": {
          "base_uri": "https://localhost:8080/"
        },
        "id": "7ojMKdi7YvRB",
        "outputId": "c759c7e8-f6be-4842-d331-3da40864b498"
      },
      "execution_count": null,
      "outputs": [
        {
          "output_type": "execute_result",
          "data": {
            "text/plain": [
              "[0, 1, 2, 3, 4]"
            ]
          },
          "metadata": {},
          "execution_count": 18
        }
      ]
    },
    {
      "cell_type": "code",
      "source": [
        "list(range(0, 5, 1))"
      ],
      "metadata": {
        "colab": {
          "base_uri": "https://localhost:8080/"
        },
        "id": "G_Jpa4qAZ6ja",
        "outputId": "99b82bc4-f51a-4d8b-e543-f38295366325"
      },
      "execution_count": null,
      "outputs": [
        {
          "output_type": "execute_result",
          "data": {
            "text/plain": [
              "[0, 1, 2, 3, 4]"
            ]
          },
          "metadata": {},
          "execution_count": 19
        }
      ]
    },
    {
      "cell_type": "code",
      "source": [
        "list(range(0, 20, 2))"
      ],
      "metadata": {
        "colab": {
          "base_uri": "https://localhost:8080/"
        },
        "id": "wXpbkGJKaI1K",
        "outputId": "18932292-07ca-4a48-ea53-9553db82ec22"
      },
      "execution_count": null,
      "outputs": [
        {
          "output_type": "execute_result",
          "data": {
            "text/plain": [
              "[0, 2, 4, 6, 8, 10, 12, 14, 16, 18]"
            ]
          },
          "metadata": {},
          "execution_count": 20
        }
      ]
    },
    {
      "cell_type": "code",
      "source": [
        "list(range(-10, 0))"
      ],
      "metadata": {
        "colab": {
          "base_uri": "https://localhost:8080/"
        },
        "id": "JmMABltPaP6X",
        "outputId": "2d2f6c78-5921-406b-fe5d-42e8dfb86e8b"
      },
      "execution_count": null,
      "outputs": [
        {
          "output_type": "execute_result",
          "data": {
            "text/plain": [
              "[-10, -9, -8, -7, -6, -5, -4, -3, -2, -1]"
            ]
          },
          "metadata": {},
          "execution_count": 21
        }
      ]
    },
    {
      "cell_type": "code",
      "source": [
        "l1"
      ],
      "metadata": {
        "colab": {
          "base_uri": "https://localhost:8080/"
        },
        "id": "-U8u6VmxaTfn",
        "outputId": "92e8c0bd-77a2-480a-8e3f-a4bb91ee63af"
      },
      "execution_count": null,
      "outputs": [
        {
          "output_type": "execute_result",
          "data": {
            "text/plain": [
              "['shubham', 'Shiva', 'Krish', 'shivam']"
            ]
          },
          "metadata": {},
          "execution_count": 22
        }
      ]
    },
    {
      "cell_type": "code",
      "source": [
        "for i in range(len(l1)):\n",
        "  print(l1[i])"
      ],
      "metadata": {
        "colab": {
          "base_uri": "https://localhost:8080/"
        },
        "id": "GSq72juoacpL",
        "outputId": "08f8409a-3fa9-419e-f328-35bd4f6b4a88"
      },
      "execution_count": null,
      "outputs": [
        {
          "output_type": "stream",
          "name": "stdout",
          "text": [
            "shubham\n",
            "Shiva\n",
            "Krish\n",
            "shivam\n"
          ]
        }
      ]
    },
    {
      "cell_type": "code",
      "source": [
        "for i in range(len(l1)-1, -1, -1):\n",
        "  print(l1[i])"
      ],
      "metadata": {
        "colab": {
          "base_uri": "https://localhost:8080/"
        },
        "id": "iVue7s9eazO3",
        "outputId": "85db9bcc-f535-46ae-a9a9-1657208dd730"
      },
      "execution_count": null,
      "outputs": [
        {
          "output_type": "stream",
          "name": "stdout",
          "text": [
            "shivam\n",
            "Krish\n",
            "Shiva\n",
            "shubham\n"
          ]
        }
      ]
    },
    {
      "cell_type": "code",
      "source": [
        "l2 = [32, 42, 42, 3, 5, 2, 85, 46, 86, 24]"
      ],
      "metadata": {
        "id": "1cS_catZbVz2"
      },
      "execution_count": null,
      "outputs": []
    },
    {
      "cell_type": "code",
      "source": [
        "# even index data\n",
        "list(range(0, len(l2), 2))"
      ],
      "metadata": {
        "colab": {
          "base_uri": "https://localhost:8080/"
        },
        "id": "jrChDV3jcNpl",
        "outputId": "039766e4-5222-416a-b78d-8563a958b51c"
      },
      "execution_count": null,
      "outputs": [
        {
          "output_type": "execute_result",
          "data": {
            "text/plain": [
              "[0, 2, 4, 6, 8]"
            ]
          },
          "metadata": {},
          "execution_count": 30
        }
      ]
    },
    {
      "cell_type": "code",
      "source": [
        "for i in range(0, len(l2), 2) :\n",
        "  print(l2[i])"
      ],
      "metadata": {
        "colab": {
          "base_uri": "https://localhost:8080/"
        },
        "id": "ONa5R3OWcTFu",
        "outputId": "f604419d-67bd-44a8-8f72-93328b1e1e3a"
      },
      "execution_count": null,
      "outputs": [
        {
          "output_type": "stream",
          "name": "stdout",
          "text": [
            "32\n",
            "42\n",
            "5\n",
            "85\n",
            "86\n"
          ]
        }
      ]
    },
    {
      "cell_type": "code",
      "source": [
        "l = [12, 324, 3424, 532, 325, 242, 532]"
      ],
      "metadata": {
        "id": "_o5mXuhXc-PR"
      },
      "execution_count": null,
      "outputs": []
    },
    {
      "cell_type": "code",
      "source": [
        "result = 0\n",
        "for i in l :\n",
        "  result = result + i\n",
        "result"
      ],
      "metadata": {
        "colab": {
          "base_uri": "https://localhost:8080/"
        },
        "id": "T9AjI8FYdlBR",
        "outputId": "242dc2b9-c0dc-4a55-e100-b24a91d3ce36"
      },
      "execution_count": null,
      "outputs": [
        {
          "output_type": "execute_result",
          "data": {
            "text/plain": [
              "5391"
            ]
          },
          "metadata": {},
          "execution_count": 34
        }
      ]
    },
    {
      "cell_type": "code",
      "source": [
        "t = (1, 2, 3, 4, 5)"
      ],
      "metadata": {
        "id": "j93Cl7fHdxE1"
      },
      "execution_count": null,
      "outputs": []
    },
    {
      "cell_type": "code",
      "source": [
        "result = 0\n",
        "for i in t :\n",
        "  result = result + i\n",
        "result"
      ],
      "metadata": {
        "colab": {
          "base_uri": "https://localhost:8080/"
        },
        "id": "OKK7Nvd4e0Zb",
        "outputId": "b9de55cd-3169-4172-efb7-951e73798300"
      },
      "execution_count": null,
      "outputs": [
        {
          "output_type": "execute_result",
          "data": {
            "text/plain": [
              "15"
            ]
          },
          "metadata": {},
          "execution_count": 36
        }
      ]
    },
    {
      "cell_type": "code",
      "source": [
        "s = {\"shubham\", 12321, 21, 13, 144132, 4332, \"Shiva\", \"Krish\", \"shivam\"}"
      ],
      "metadata": {
        "id": "I5-KQDk-fBSN"
      },
      "execution_count": null,
      "outputs": []
    },
    {
      "cell_type": "code",
      "source": [
        "for i in s :\n",
        "  print(i)"
      ],
      "metadata": {
        "colab": {
          "base_uri": "https://localhost:8080/"
        },
        "id": "eZevyl-afTDG",
        "outputId": "f281d61c-3c81-404f-ffdc-6ff95c8c4edf"
      },
      "execution_count": null,
      "outputs": [
        {
          "output_type": "stream",
          "name": "stdout",
          "text": [
            "12321\n",
            "Krish\n",
            "144132\n",
            "shubham\n",
            "shivam\n",
            "4332\n",
            "13\n",
            "21\n",
            "Shiva\n"
          ]
        }
      ]
    },
    {
      "cell_type": "code",
      "source": [
        "s1 = \"pwskills\""
      ],
      "metadata": {
        "id": "INxknhZLfV3s"
      },
      "execution_count": null,
      "outputs": []
    },
    {
      "cell_type": "code",
      "source": [
        "for i in s1 :\n",
        "  print(i)\n"
      ],
      "metadata": {
        "colab": {
          "base_uri": "https://localhost:8080/"
        },
        "id": "XINfNyvTfaPG",
        "outputId": "995a09f6-6a80-404c-996b-f32d15e201dd"
      },
      "execution_count": null,
      "outputs": [
        {
          "output_type": "stream",
          "name": "stdout",
          "text": [
            "p\n",
            "w\n",
            "s\n",
            "k\n",
            "i\n",
            "l\n",
            "l\n",
            "s\n"
          ]
        }
      ]
    },
    {
      "cell_type": "code",
      "source": [
        "d={\"name\" : \"shubham\", \"class\" : \"data science master\", \"topic\" : [\"python\", \"stats\", \"machine learning\", \"DL\", \"CV\", \"NLP\", \"resume\", \"interview\"]}"
      ],
      "metadata": {
        "id": "O529Q1SDfc28"
      },
      "execution_count": null,
      "outputs": []
    },
    {
      "cell_type": "code",
      "source": [
        "d"
      ],
      "metadata": {
        "colab": {
          "base_uri": "https://localhost:8080/"
        },
        "id": "Z52AB885gEGn",
        "outputId": "fba95721-83c7-4985-dca3-0f82610e01c3"
      },
      "execution_count": null,
      "outputs": [
        {
          "output_type": "execute_result",
          "data": {
            "text/plain": [
              "{'name': 'shubham',\n",
              " 'class': 'data science master',\n",
              " 'topic': ['python',\n",
              "  'stats',\n",
              "  'machine learning',\n",
              "  'DL',\n",
              "  'CV',\n",
              "  'NLP',\n",
              "  'resume',\n",
              "  'interview']}"
            ]
          },
          "metadata": {},
          "execution_count": 42
        }
      ]
    },
    {
      "cell_type": "code",
      "source": [
        "d['name']"
      ],
      "metadata": {
        "colab": {
          "base_uri": "https://localhost:8080/",
          "height": 36
        },
        "id": "7buLFq1sgGJe",
        "outputId": "1b070385-abbb-482f-98ba-5325dd926ff0"
      },
      "execution_count": null,
      "outputs": [
        {
          "output_type": "execute_result",
          "data": {
            "text/plain": [
              "'shubham'"
            ],
            "application/vnd.google.colaboratory.intrinsic+json": {
              "type": "string"
            }
          },
          "metadata": {},
          "execution_count": 43
        }
      ]
    },
    {
      "cell_type": "code",
      "source": [
        "d.keys()"
      ],
      "metadata": {
        "colab": {
          "base_uri": "https://localhost:8080/"
        },
        "id": "NYWkwCYOgJpZ",
        "outputId": "678dd7bb-6f86-4cf0-9494-f2e83c4a0d39"
      },
      "execution_count": null,
      "outputs": [
        {
          "output_type": "execute_result",
          "data": {
            "text/plain": [
              "dict_keys(['name', 'class', 'topic'])"
            ]
          },
          "metadata": {},
          "execution_count": 44
        }
      ]
    },
    {
      "cell_type": "code",
      "source": [
        "for i in d.keys():\n",
        "  print(d[i])"
      ],
      "metadata": {
        "colab": {
          "base_uri": "https://localhost:8080/"
        },
        "id": "MCJo_OUqgQZc",
        "outputId": "672fbd95-8986-4a66-b69e-93f8e1cc408b"
      },
      "execution_count": null,
      "outputs": [
        {
          "output_type": "stream",
          "name": "stdout",
          "text": [
            "shubham\n",
            "data science master\n",
            "['python', 'stats', 'machine learning', 'DL', 'CV', 'NLP', 'resume', 'interview']\n"
          ]
        }
      ]
    },
    {
      "cell_type": "code",
      "source": [
        "d.values()"
      ],
      "metadata": {
        "colab": {
          "base_uri": "https://localhost:8080/"
        },
        "id": "yBIsT3eWgUEt",
        "outputId": "5dcf057b-399c-4ec6-9f71-a97008470c97"
      },
      "execution_count": null,
      "outputs": [
        {
          "output_type": "execute_result",
          "data": {
            "text/plain": [
              "dict_values(['shubham', 'data science master', ['python', 'stats', 'machine learning', 'DL', 'CV', 'NLP', 'resume', 'interview']])"
            ]
          },
          "metadata": {},
          "execution_count": 47
        }
      ]
    },
    {
      "cell_type": "code",
      "source": [
        "for i in d.values():\n",
        "  print(i)"
      ],
      "metadata": {
        "colab": {
          "base_uri": "https://localhost:8080/"
        },
        "id": "tGJa_e-agg2M",
        "outputId": "093cd6a5-c748-4062-f6ec-bf1ac737c9d7"
      },
      "execution_count": null,
      "outputs": [
        {
          "output_type": "stream",
          "name": "stdout",
          "text": [
            "shubham\n",
            "data science master\n",
            "['python', 'stats', 'machine learning', 'DL', 'CV', 'NLP', 'resume', 'interview']\n"
          ]
        }
      ]
    },
    {
      "cell_type": "code",
      "source": [
        "d.items()"
      ],
      "metadata": {
        "colab": {
          "base_uri": "https://localhost:8080/"
        },
        "id": "9_FNA6hxglYc",
        "outputId": "dd5462e8-d285-4e7d-eac4-aa9af2a62048"
      },
      "execution_count": null,
      "outputs": [
        {
          "output_type": "execute_result",
          "data": {
            "text/plain": [
              "dict_items([('name', 'shubham'), ('class', 'data science master'), ('topic', ['python', 'stats', 'machine learning', 'DL', 'CV', 'NLP', 'resume', 'interview'])])"
            ]
          },
          "metadata": {},
          "execution_count": 49
        }
      ]
    },
    {
      "cell_type": "code",
      "source": [
        "for i in d.items():\n",
        "  print(i)"
      ],
      "metadata": {
        "colab": {
          "base_uri": "https://localhost:8080/"
        },
        "id": "xX0a8kdsgouo",
        "outputId": "a05ef9d4-3776-48cc-a79c-d3f1848757ba"
      },
      "execution_count": null,
      "outputs": [
        {
          "output_type": "stream",
          "name": "stdout",
          "text": [
            "('name', 'shubham')\n",
            "('class', 'data science master')\n",
            "('topic', ['python', 'stats', 'machine learning', 'DL', 'CV', 'NLP', 'resume', 'interview'])\n"
          ]
        }
      ]
    },
    {
      "cell_type": "code",
      "source": [],
      "metadata": {
        "id": "gKMDBheQgrdu"
      },
      "execution_count": null,
      "outputs": []
    }
  ]
}