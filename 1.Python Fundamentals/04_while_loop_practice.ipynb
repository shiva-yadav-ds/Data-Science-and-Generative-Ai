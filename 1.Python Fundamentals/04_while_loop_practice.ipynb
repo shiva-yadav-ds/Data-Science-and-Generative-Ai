{
  "nbformat": 4,
  "nbformat_minor": 0,
  "metadata": {
    "colab": {
      "provenance": []
    },
    "kernelspec": {
      "name": "python3",
      "display_name": "Python 3"
    },
    "language_info": {
      "name": "python"
    }
  },
  "cells": [
    {
      "cell_type": "code",
      "execution_count": null,
      "metadata": {
        "id": "weVGc8ULJW6T",
        "colab": {
          "base_uri": "https://localhost:8080/"
        },
        "outputId": "dafbe21b-4625-46f6-92ea-7caef898c4da"
      },
      "outputs": [
        {
          "output_type": "stream",
          "name": "stdout",
          "text": [
            "1\n",
            "2\n",
            "3\n",
            "4\n",
            "5\n",
            "6\n",
            "7\n",
            "8\n",
            "9\n",
            "10\n"
          ]
        }
      ],
      "source": [
        "a = 1\n",
        "\n",
        "while a <= 10:\n",
        "  print(a)\n",
        "  a = a+1"
      ]
    },
    {
      "cell_type": "code",
      "source": [
        "# sum up the number till some point\n",
        "n= int(input(\"Enter your limit: \"))\n",
        "starting_point = 0\n",
        "counter = 1\n",
        "\n",
        "while counter <= n:\n",
        "  starting_point = starting_point + counter\n",
        "  counter = counter + 1\n",
        "starting_point"
      ],
      "metadata": {
        "id": "6hnVygoIKgAA",
        "colab": {
          "base_uri": "https://localhost:8080/"
        },
        "outputId": "48c6e8a5-bb5d-4511-e55f-928b08bcd752"
      },
      "execution_count": null,
      "outputs": [
        {
          "name": "stdout",
          "output_type": "stream",
          "text": [
            "Enter your limit: 5\n"
          ]
        },
        {
          "output_type": "execute_result",
          "data": {
            "text/plain": [
              "15"
            ]
          },
          "metadata": {},
          "execution_count": 6
        }
      ]
    },
    {
      "cell_type": "code",
      "source": [
        "number = int(input(\"Enter your number: \"))\n",
        "factorial = 1\n",
        "while number > 0:\n",
        "  factorial = factorial * number\n",
        "  number = number - 1\n",
        "factorial"
      ],
      "metadata": {
        "colab": {
          "base_uri": "https://localhost:8080/"
        },
        "id": "MgKw8u01POzN",
        "outputId": "feff8368-ef1d-4ec6-f18f-af07433162c8"
      },
      "execution_count": null,
      "outputs": [
        {
          "name": "stdout",
          "output_type": "stream",
          "text": [
            "Enter your number: 5\n"
          ]
        },
        {
          "output_type": "execute_result",
          "data": {
            "text/plain": [
              "120"
            ]
          },
          "metadata": {},
          "execution_count": 7
        }
      ]
    },
    {
      "cell_type": "code",
      "source": [
        "# Finonacci series\n",
        "\n",
        "number = int(input(\"Enter the number of element you are looking for: \"))\n",
        "a,b = 0,1\n",
        "counter = 0\n",
        "while counter < number:\n",
        "  print(a)\n",
        "  c = a+b\n",
        "  a = b\n",
        "  b = c\n",
        "  counter = counter+1"
      ],
      "metadata": {
        "colab": {
          "base_uri": "https://localhost:8080/"
        },
        "id": "AdGNfaJZPQFX",
        "outputId": "0dcec67c-4264-4f09-bb56-bdf07e318a45"
      },
      "execution_count": null,
      "outputs": [
        {
          "output_type": "stream",
          "name": "stdout",
          "text": [
            "Enter the number of element you are looking for: 10\n",
            "0\n",
            "1\n",
            "1\n",
            "2\n",
            "3\n",
            "5\n",
            "8\n",
            "13\n",
            "21\n",
            "34\n"
          ]
        }
      ]
    },
    {
      "cell_type": "code",
      "source": [
        "s = \"Shiva\""
      ],
      "metadata": {
        "id": "4qzuiHuvSJe0"
      },
      "execution_count": null,
      "outputs": []
    },
    {
      "cell_type": "code",
      "source": [
        "s[::-1]"
      ],
      "metadata": {
        "colab": {
          "base_uri": "https://localhost:8080/",
          "height": 35
        },
        "id": "Xyw2DEmMT-r7",
        "outputId": "4464e3c4-12e6-4568-ccc3-4787394da09f"
      },
      "execution_count": null,
      "outputs": [
        {
          "output_type": "execute_result",
          "data": {
            "text/plain": [
              "'avihS'"
            ],
            "application/vnd.google.colaboratory.intrinsic+json": {
              "type": "string"
            }
          },
          "metadata": {},
          "execution_count": 12
        }
      ]
    },
    {
      "cell_type": "code",
      "source": [
        "word = input(\"Enter your string for reversal: \")\n",
        "reverse = \"\"\n",
        "length = len(word)\n",
        "while length > 0:\n",
        "  reverse = reverse + word[length - 1]\n",
        "  length = length - 1\n",
        "print(reverse)"
      ],
      "metadata": {
        "colab": {
          "base_uri": "https://localhost:8080/"
        },
        "id": "LO5u8LH-UBVO",
        "outputId": "a3e7efb1-9299-4976-a3c0-4a181141ad27"
      },
      "execution_count": null,
      "outputs": [
        {
          "output_type": "stream",
          "name": "stdout",
          "text": [
            "Enter your string for reversal: shiva\n",
            "avihs\n"
          ]
        }
      ]
    },
    {
      "cell_type": "code",
      "source": [
        "# print table of number\n",
        "n = int(input(\"Enter your number: \"))\n",
        "i = 1\n",
        "\n",
        "while i <= 10 :\n",
        "  result = n*i\n",
        "  print(n, \"*\", i, \"=\", result)\n",
        "  i = i+1\n"
      ],
      "metadata": {
        "colab": {
          "base_uri": "https://localhost:8080/"
        },
        "id": "MrtmUUaiVoQ_",
        "outputId": "19834a5a-a35f-4b5d-eb83-1b62407dd0b2"
      },
      "execution_count": null,
      "outputs": [
        {
          "output_type": "stream",
          "name": "stdout",
          "text": [
            "Enter your number: 2\n",
            "2 * 1 = 2\n",
            "2 * 2 = 4\n",
            "2 * 3 = 6\n",
            "2 * 4 = 8\n",
            "2 * 5 = 10\n",
            "2 * 6 = 12\n",
            "2 * 7 = 14\n",
            "2 * 8 = 16\n",
            "2 * 9 = 18\n",
            "2 * 10 = 20\n"
          ]
        }
      ]
    },
    {
      "cell_type": "code",
      "source": [
        "n = 5\n",
        "i = 1\n",
        "while i < n :\n",
        "  print(i)\n",
        "  if i == 3 :\n",
        "    break\n",
        "  i = i+1\n",
        "else :\n",
        "  print(\"this will be excuted onc our while loop will complete it successfully\")\n"
      ],
      "metadata": {
        "colab": {
          "base_uri": "https://localhost:8080/"
        },
        "id": "0Wmfl0RhZFxi",
        "outputId": "ad4f960a-087a-4a55-d034-2b6e90bd8c81"
      },
      "execution_count": null,
      "outputs": [
        {
          "output_type": "stream",
          "name": "stdout",
          "text": [
            "1\n",
            "2\n",
            "3\n"
          ]
        }
      ]
    },
    {
      "cell_type": "code",
      "source": [],
      "metadata": {
        "id": "zjHcLoD-ZxNg"
      },
      "execution_count": null,
      "outputs": []
    }
  ]
}