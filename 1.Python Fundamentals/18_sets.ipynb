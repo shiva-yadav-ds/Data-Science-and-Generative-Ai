{
 "cells": [
  {
   "cell_type": "markdown",
   "id": "a17494ae",
   "metadata": {},
   "source": [
    "# =================== Introduction to Sets ===================\n",
    "# Sets are unordered collections of unique elements in Python.\n",
    "# They are mutable (can be changed) but the elements must be immutable (e.g., numbers, strings, tuples).\n"
   ]
  },
  {
   "cell_type": "code",
   "execution_count": null,
   "id": "541996bc",
   "metadata": {
    "vscode": {
     "languageId": "plaintext"
    }
   },
   "outputs": [],
   "source": [
    "# Creating Sets\n",
    "numbers_set = {1, 2, 3, 4, 5}\n",
    "mixed_set = {1, \"Hello\", 3.14, True}  # Booleans and numbers can coexist\n",
    "empty_set = set()  # Correct way to create an empty set (not {})\n",
    "print(\"Basic Sets:\")\n",
    "print(\"Numbers set:\", numbers_set)\n",
    "print(\"Mixed set:\", mixed_set)\n",
    "print(\"Empty set:\", empty_set)"
   ]
  },
  {
   "cell_type": "code",
   "execution_count": null,
   "id": "ed097bf4",
   "metadata": {
    "vscode": {
     "languageId": "plaintext"
    }
   },
   "outputs": [],
   "source": []
  }
 ],
 "metadata": {
  "language_info": {
   "name": "python"
  }
 },
 "nbformat": 4,
 "nbformat_minor": 5
}
