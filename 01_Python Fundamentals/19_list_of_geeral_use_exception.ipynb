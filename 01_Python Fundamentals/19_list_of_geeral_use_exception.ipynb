{
  "cells": [
    {
      "cell_type": "code",
      "execution_count": null,
      "metadata": {
        "colab": {
          "base_uri": "https://localhost:8080/"
        },
        "id": "dTM6NXIfJ4eX",
        "outputId": "2721eb7a-bc24-482e-c625-e4e3f952dc5d"
      },
      "outputs": [
        {
          "name": "stdout",
          "output_type": "stream",
          "text": [
            "division by zero\n"
          ]
        }
      ],
      "source": [
        "try :\n",
        "  a = 10/0\n",
        "except ZeroDivisionError as e:\n",
        "  print(e)\n"
      ]
    },
    {
      "cell_type": "code",
      "execution_count": null,
      "metadata": {
        "colab": {
          "base_uri": "https://localhost:8080/"
        },
        "id": "aIYiruvQK0Tb",
        "outputId": "58a54cc2-7d1f-4dbf-a3e2-7c2732feb791"
      },
      "outputs": [
        {
          "name": "stdout",
          "output_type": "stream",
          "text": [
            "invalid literal for int() with base 10: 'shiva'\n"
          ]
        }
      ],
      "source": [
        "try :\n",
        "  int(\"shiva\")\n",
        "except (ValueError, TypeError) as e:\n",
        "  print(e)\n"
      ]
    },
    {
      "cell_type": "code",
      "execution_count": 3,
      "metadata": {
        "colab": {
          "base_uri": "https://localhost:8080/"
        },
        "id": "Y5Dx-EkFLB6f",
        "outputId": "116dbaaa-3320-4e75-f88a-0b4b863752f5"
      },
      "outputs": [
        {
          "name": "stdout",
          "output_type": "stream",
          "text": [
            "this wi cach an error\n"
          ]
        }
      ],
      "source": [
        "try :\n",
        "  int(\"SHiva\")\n",
        "except:\n",
        "  print(\"this wi cach an error\")"
      ]
    },
    {
      "cell_type": "code",
      "execution_count": 5,
      "metadata": {
        "colab": {
          "base_uri": "https://localhost:8080/"
        },
        "id": "OO5YfG1pLRnH",
        "outputId": "66e66d11-f8e1-4cab-b8ac-53e9938f8a41"
      },
      "outputs": [
        {
          "name": "stdout",
          "output_type": "stream",
          "text": [
            "No module named 'shiva'\n"
          ]
        },
        {
          "data": {
            "text/plain": [
              "2.5"
            ]
          },
          "execution_count": 5,
          "metadata": {},
          "output_type": "execute_result"
        }
      ],
      "source": [
        "try:\n",
        "  import shiva\n",
        "except ImportError as e:\n",
        "  print(e)\n",
        "10/4"
      ]
    },
    {
      "cell_type": "code",
      "execution_count": 6,
      "metadata": {
        "colab": {
          "base_uri": "https://localhost:8080/"
        },
        "id": "QJ6Re-n5LVuI",
        "outputId": "612827d7-c663-46ba-95a2-72a71677a474"
      },
      "outputs": [
        {
          "name": "stdout",
          "output_type": "stream",
          "text": [
            "'key2'\n"
          ]
        }
      ],
      "source": [
        "try :\n",
        "  d = {'key': 'shiva', 1:[2,3,4,5]}\n",
        "  print(d['key2'])\n",
        "except KeyError as e:\n",
        "  print(e)"
      ]
    },
    {
      "cell_type": "code",
      "execution_count": 10,
      "metadata": {
        "colab": {
          "base_uri": "https://localhost:8080/"
        },
        "id": "uwQYDIa7LqIj",
        "outputId": "ec877a37-759a-43c1-9374-74082dbed5b0"
      },
      "outputs": [
        {
          "name": "stdout",
          "output_type": "stream",
          "text": [
            "'str' object has no attribute 'test'\n"
          ]
        }
      ],
      "source": [
        "try :\n",
        "  \"shiva\".test()\n",
        "except AttributeError as e:\n",
        "  print(e)"
      ]
    },
    {
      "cell_type": "code",
      "execution_count": 13,
      "metadata": {
        "colab": {
          "base_uri": "https://localhost:8080/"
        },
        "id": "EdbdOV9hMGYM",
        "outputId": "a2f4149b-2872-4185-b6e3-f47151a6c0c2"
      },
      "outputs": [
        {
          "name": "stdout",
          "output_type": "stream",
          "text": [
            "list index out of range\n"
          ]
        }
      ],
      "source": [
        "try :\n",
        "  l = [2, 3, 4, 5]\n",
        "  print(l[6])\n",
        "except IndexError as e:\n",
        "  print(e)"
      ]
    },
    {
      "cell_type": "code",
      "execution_count": 15,
      "metadata": {
        "colab": {
          "base_uri": "https://localhost:8080/"
        },
        "id": "CHU-bf3gMfAr",
        "outputId": "879b85d9-de30-4179-c88b-8c0aa71eebd3"
      },
      "outputs": [
        {
          "name": "stdout",
          "output_type": "stream",
          "text": [
            "unsupported operand type(s) for +: 'int' and 'str'\n"
          ]
        }
      ],
      "source": [
        "try:\n",
        "  123 + \"sudh\"\n",
        "except TypeError as e:\n",
        "  print(e)"
      ]
    },
    {
      "cell_type": "code",
      "execution_count": 16,
      "metadata": {
        "colab": {
          "base_uri": "https://localhost:8080/"
        },
        "id": "32-v36BINowF",
        "outputId": "b3487f9f-ff32-4821-9756-4d3771155161"
      },
      "outputs": [
        {
          "data": {
            "text/plain": [
              "['__cause__',\n",
              " '__class__',\n",
              " '__context__',\n",
              " '__delattr__',\n",
              " '__dict__',\n",
              " '__dir__',\n",
              " '__doc__',\n",
              " '__eq__',\n",
              " '__format__',\n",
              " '__ge__',\n",
              " '__getattribute__',\n",
              " '__getstate__',\n",
              " '__gt__',\n",
              " '__hash__',\n",
              " '__init__',\n",
              " '__init_subclass__',\n",
              " '__le__',\n",
              " '__lt__',\n",
              " '__ne__',\n",
              " '__new__',\n",
              " '__reduce__',\n",
              " '__reduce_ex__',\n",
              " '__repr__',\n",
              " '__setattr__',\n",
              " '__setstate__',\n",
              " '__sizeof__',\n",
              " '__str__',\n",
              " '__subclasshook__',\n",
              " '__suppress_context__',\n",
              " '__traceback__',\n",
              " 'add_note',\n",
              " 'args',\n",
              " 'with_traceback']"
            ]
          },
          "execution_count": 16,
          "metadata": {},
          "output_type": "execute_result"
        }
      ],
      "source": [
        "dir(Exception)"
      ]
    },
    {
      "cell_type": "code",
      "execution_count": null,
      "metadata": {
        "id": "ejoO1jRpOg1D"
      },
      "outputs": [],
      "source": []
    }
  ],
  "metadata": {
    "colab": {
      "provenance": []
    },
    "kernelspec": {
      "display_name": "Python 3",
      "name": "python3"
    },
    "language_info": {
      "name": "python"
    }
  },
  "nbformat": 4,
  "nbformat_minor": 0
}
