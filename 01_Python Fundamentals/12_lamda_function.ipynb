{
  "nbformat": 4,
  "nbformat_minor": 0,
  "metadata": {
    "colab": {
      "provenance": []
    },
    "kernelspec": {
      "name": "python3",
      "display_name": "Python 3"
    },
    "language_info": {
      "name": "python"
    }
  },
  "cells": [
    {
      "cell_type": "code",
      "execution_count": 3,
      "metadata": {
        "id": "Si2WUnS_vMyf"
      },
      "outputs": [],
      "source": [
        "n = 3\n",
        "p = 2"
      ]
    },
    {
      "cell_type": "code",
      "source": [
        "def test(n,p):\n",
        "  return n**p"
      ],
      "metadata": {
        "id": "h5Trr_8tvcDj"
      },
      "execution_count": 5,
      "outputs": []
    },
    {
      "cell_type": "code",
      "source": [
        "test(3,2)"
      ],
      "metadata": {
        "colab": {
          "base_uri": "https://localhost:8080/"
        },
        "id": "3ptqVXq3vln5",
        "outputId": "db8f9ef2-628f-4193-d2c8-56ce2a3b21a7"
      },
      "execution_count": 6,
      "outputs": [
        {
          "output_type": "execute_result",
          "data": {
            "text/plain": [
              "9"
            ]
          },
          "metadata": {},
          "execution_count": 6
        }
      ]
    },
    {
      "cell_type": "code",
      "source": [
        "a = lambda n, p:n**p"
      ],
      "metadata": {
        "id": "Qcik1e7mvrQj"
      },
      "execution_count": 8,
      "outputs": []
    },
    {
      "cell_type": "code",
      "source": [
        "a(3, 2)"
      ],
      "metadata": {
        "colab": {
          "base_uri": "https://localhost:8080/"
        },
        "id": "sJZtprqcv1YN",
        "outputId": "0937c04d-b3c1-4dbf-a5e4-4de8002c3264"
      },
      "execution_count": 9,
      "outputs": [
        {
          "output_type": "execute_result",
          "data": {
            "text/plain": [
              "9"
            ]
          },
          "metadata": {},
          "execution_count": 9
        }
      ]
    },
    {
      "cell_type": "code",
      "source": [
        "add = lambda x,y: x+y"
      ],
      "metadata": {
        "id": "6uWTj1Ihv-QM"
      },
      "execution_count": 10,
      "outputs": []
    },
    {
      "cell_type": "code",
      "source": [
        "add(223, 4242)"
      ],
      "metadata": {
        "colab": {
          "base_uri": "https://localhost:8080/"
        },
        "id": "8k3XW_NDwK8X",
        "outputId": "0707bf73-68ae-4525-d701-2812bc952856"
      },
      "execution_count": 11,
      "outputs": [
        {
          "output_type": "execute_result",
          "data": {
            "text/plain": [
              "4465"
            ]
          },
          "metadata": {},
          "execution_count": 11
        }
      ]
    },
    {
      "cell_type": "code",
      "source": [
        "c_to_f = lambda c:(9/5)*c + 32"
      ],
      "metadata": {
        "id": "98eUbrCFwNjU"
      },
      "execution_count": 12,
      "outputs": []
    },
    {
      "cell_type": "code",
      "source": [
        "c_to_f(45)"
      ],
      "metadata": {
        "colab": {
          "base_uri": "https://localhost:8080/"
        },
        "id": "ehtxH3Z2wm21",
        "outputId": "7753137a-5f72-4c3f-83d7-5ef9777322a0"
      },
      "execution_count": 13,
      "outputs": [
        {
          "output_type": "execute_result",
          "data": {
            "text/plain": [
              "113.0"
            ]
          },
          "metadata": {},
          "execution_count": 13
        }
      ]
    },
    {
      "cell_type": "code",
      "source": [
        "finding_max = lambda x,y: x if x>y else y"
      ],
      "metadata": {
        "id": "yM2Jvyg1wqqZ"
      },
      "execution_count": 17,
      "outputs": []
    },
    {
      "cell_type": "code",
      "source": [
        "finding_max(22,23)"
      ],
      "metadata": {
        "colab": {
          "base_uri": "https://localhost:8080/"
        },
        "id": "7K5ulHH_w7Wu",
        "outputId": "b3e53aa1-6d0f-4d29-94e2-a7484fc3ca4f"
      },
      "execution_count": 18,
      "outputs": [
        {
          "output_type": "execute_result",
          "data": {
            "text/plain": [
              "23"
            ]
          },
          "metadata": {},
          "execution_count": 18
        }
      ]
    },
    {
      "cell_type": "code",
      "source": [
        "s = \"shivaSkills\""
      ],
      "metadata": {
        "id": "BM99Pj0IxMde"
      },
      "execution_count": 19,
      "outputs": []
    },
    {
      "cell_type": "code",
      "source": [
        "find_len = lambda s: len(s)"
      ],
      "metadata": {
        "id": "-z8GMJIPxc0u"
      },
      "execution_count": 20,
      "outputs": []
    },
    {
      "cell_type": "code",
      "source": [
        "find_len(s)"
      ],
      "metadata": {
        "colab": {
          "base_uri": "https://localhost:8080/"
        },
        "id": "Qn8aNMv3xjUy",
        "outputId": "f0f432bd-516b-4973-b8b1-7331b8df6bd3"
      },
      "execution_count": 21,
      "outputs": [
        {
          "output_type": "execute_result",
          "data": {
            "text/plain": [
              "11"
            ]
          },
          "metadata": {},
          "execution_count": 21
        }
      ]
    },
    {
      "cell_type": "code",
      "source": [],
      "metadata": {
        "id": "HLWHc8Ngxn77"
      },
      "execution_count": null,
      "outputs": []
    }
  ]
}