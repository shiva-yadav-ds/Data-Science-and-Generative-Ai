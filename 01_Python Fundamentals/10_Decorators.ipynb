{
  "nbformat": 4,
  "nbformat_minor": 0,
  "metadata": {
    "colab": {
      "provenance": []
    },
    "kernelspec": {
      "name": "python3",
      "display_name": "Python 3"
    },
    "language_info": {
      "name": "python"
    }
  },
  "cells": [
    {
      "cell_type": "code",
      "execution_count": 4,
      "metadata": {
        "id": "aRSrfoPMJc1d"
      },
      "outputs": [],
      "source": [
        "def test():\n",
        "  print(\"This is my Start function to test\")\n",
        "  print(\"This is my fun to test\")\n",
        "  print(\"this is the end of this function\")"
      ]
    },
    {
      "cell_type": "code",
      "source": [
        "test()\n"
      ],
      "metadata": {
        "colab": {
          "base_uri": "https://localhost:8080/"
        },
        "id": "KeYJrjGFKBGg",
        "outputId": "cbfd3f71-3605-4d6c-c336-306be20fad16"
      },
      "execution_count": 5,
      "outputs": [
        {
          "output_type": "stream",
          "name": "stdout",
          "text": [
            "This is my Start function to test\n",
            "This is my fun to test\n",
            "this is the end of this function\n"
          ]
        }
      ]
    },
    {
      "cell_type": "code",
      "source": [
        "def deco(func):\n",
        "  def inner_dec():\n",
        "    print(\"This is the start of my function\")\n",
        "    func()\n",
        "    print(\"This is the end of my function\")\n",
        "  return inner_dec"
      ],
      "metadata": {
        "id": "mF2wGz87L89J"
      },
      "execution_count": 9,
      "outputs": []
    },
    {
      "cell_type": "markdown",
      "source": [],
      "metadata": {
        "id": "593gw2HuNkjt"
      }
    },
    {
      "cell_type": "code",
      "source": [
        "@deco\n",
        "def test1():\n",
        "  print(6+7)"
      ],
      "metadata": {
        "id": "5HgaQEcXNzIY"
      },
      "execution_count": 14,
      "outputs": []
    },
    {
      "cell_type": "code",
      "source": [
        "test1()"
      ],
      "metadata": {
        "colab": {
          "base_uri": "https://localhost:8080/"
        },
        "id": "OpR02ODcN1Q9",
        "outputId": "73144a50-8f33-4ebb-b40d-055695f5138a"
      },
      "execution_count": 15,
      "outputs": [
        {
          "output_type": "stream",
          "name": "stdout",
          "text": [
            "This is the start of my function\n",
            "13\n",
            "This is the end of my function\n"
          ]
        }
      ]
    },
    {
      "cell_type": "code",
      "source": [
        "import time\n",
        "def timer_test(func):\n",
        "  def timer_test_inner():\n",
        "    start = time.time()\n",
        "    func()\n",
        "    end = time.time()\n",
        "    print(end - start)\n",
        "  return timer_test_inner"
      ],
      "metadata": {
        "id": "Z2WD6stGN7-y"
      },
      "execution_count": 17,
      "outputs": []
    },
    {
      "cell_type": "code",
      "source": [
        "def test2():\n",
        "  print(45+84)"
      ],
      "metadata": {
        "id": "hfouleUpOoTN"
      },
      "execution_count": 18,
      "outputs": []
    },
    {
      "cell_type": "code",
      "source": [
        "test2()"
      ],
      "metadata": {
        "colab": {
          "base_uri": "https://localhost:8080/"
        },
        "id": "OrTAWv-XTNYK",
        "outputId": "ad9aa778-1b2f-4a33-dadf-9700d2be0b06"
      },
      "execution_count": 21,
      "outputs": [
        {
          "output_type": "stream",
          "name": "stdout",
          "text": [
            "129\n"
          ]
        }
      ]
    },
    {
      "cell_type": "code",
      "source": [
        "@timer_test\n",
        "def test2():\n",
        "  print(45+84)"
      ],
      "metadata": {
        "id": "I5GhNOSqTSz9"
      },
      "execution_count": 22,
      "outputs": []
    },
    {
      "cell_type": "code",
      "source": [
        "test2()"
      ],
      "metadata": {
        "colab": {
          "base_uri": "https://localhost:8080/"
        },
        "id": "nhHVOIPlTuk6",
        "outputId": "0b9b7fab-4de0-4eeb-c741-7a5b58a665ac"
      },
      "execution_count": 24,
      "outputs": [
        {
          "output_type": "stream",
          "name": "stdout",
          "text": [
            "129\n",
            "4.649162292480469e-05\n"
          ]
        }
      ]
    },
    {
      "cell_type": "code",
      "source": [
        "@timer_test\n",
        "def test2():\n",
        "  for i in range(1000000000):\n",
        "    pass"
      ],
      "metadata": {
        "id": "5kcyVjDOTyiW"
      },
      "execution_count": 29,
      "outputs": []
    },
    {
      "cell_type": "code",
      "source": [
        "test2()"
      ],
      "metadata": {
        "colab": {
          "base_uri": "https://localhost:8080/"
        },
        "id": "ZQjosqxSUEzn",
        "outputId": "1a114f82-f6d3-4821-ba78-f4f784b359d5"
      },
      "execution_count": 30,
      "outputs": [
        {
          "output_type": "stream",
          "name": "stdout",
          "text": [
            "22.401951551437378\n"
          ]
        }
      ]
    },
    {
      "cell_type": "code",
      "source": [
        ""
      ],
      "metadata": {
        "id": "uXL6nh3zUG_y"
      },
      "execution_count": null,
      "outputs": []
    }
  ]
}