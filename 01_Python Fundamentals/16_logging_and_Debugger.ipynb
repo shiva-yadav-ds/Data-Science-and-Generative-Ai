{
  "nbformat": 4,
  "nbformat_minor": 0,
  "metadata": {
    "colab": {
      "provenance": []
    },
    "kernelspec": {
      "name": "python3",
      "display_name": "Python 3"
    },
    "language_info": {
      "name": "python"
    }
  },
  "cells": [
    {
      "cell_type": "code",
      "execution_count": 9,
      "metadata": {
        "id": "mCIbgsbeEyoz",
        "colab": {
          "base_uri": "https://localhost:8080/"
        },
        "outputId": "8afcacea-3cf3-4dae-b4c8-1daab5d025fc"
      },
      "outputs": [
        {
          "output_type": "stream",
          "name": "stdout",
          "text": [
            "This is my print\n"
          ]
        }
      ],
      "source": [
        "print(\"This is my print\")"
      ]
    },
    {
      "cell_type": "code",
      "source": [
        "import logging"
      ],
      "metadata": {
        "id": "SYkL-G2FIFWE"
      },
      "execution_count": 10,
      "outputs": []
    },
    {
      "cell_type": "code",
      "source": [
        "logging.basicConfig(filename=\"test.log\",level=logging.INFO)"
      ],
      "metadata": {
        "id": "de1vypo9ItjL"
      },
      "execution_count": 11,
      "outputs": []
    },
    {
      "cell_type": "code",
      "source": [
        "logging.info(\"log this line of execution\")"
      ],
      "metadata": {
        "id": "n8X7Lrn2JGWR"
      },
      "execution_count": 12,
      "outputs": []
    },
    {
      "cell_type": "code",
      "source": [
        "logging.info(\"this is my print\")"
      ],
      "metadata": {
        "id": "36muHBF0JW5V"
      },
      "execution_count": 13,
      "outputs": []
    },
    {
      "cell_type": "code",
      "source": [
        "logging.debug(\"this is my msg\")"
      ],
      "metadata": {
        "id": "qPQxw-zRJbXP"
      },
      "execution_count": 14,
      "outputs": []
    },
    {
      "cell_type": "code",
      "source": [
        "logging.warning(\"this is my warning msg\")"
      ],
      "metadata": {
        "colab": {
          "base_uri": "https://localhost:8080/"
        },
        "id": "nWbW2L0zKBqQ",
        "outputId": "ff60611d-f674-4cea-d1bb-6f805f1f816b"
      },
      "execution_count": 15,
      "outputs": [
        {
          "output_type": "stream",
          "name": "stderr",
          "text": [
            "WARNING:root:this is my warning msg\n"
          ]
        }
      ]
    },
    {
      "cell_type": "code",
      "source": [
        "logging.error(\"this is my error\")"
      ],
      "metadata": {
        "colab": {
          "base_uri": "https://localhost:8080/"
        },
        "id": "NrFG-HaoKqCp",
        "outputId": "5ca8959d-bb2b-4f97-a888-948367d51613"
      },
      "execution_count": 16,
      "outputs": [
        {
          "output_type": "stream",
          "name": "stderr",
          "text": [
            "ERROR:root:this is my error\n"
          ]
        }
      ]
    },
    {
      "cell_type": "code",
      "source": [
        "logging.critical(\"this is my critical msg\")"
      ],
      "metadata": {
        "colab": {
          "base_uri": "https://localhost:8080/"
        },
        "id": "y8WJqdHpK4kw",
        "outputId": "9997cf1b-e692-46f2-e7e3-d8b7bb1e2440"
      },
      "execution_count": 17,
      "outputs": [
        {
          "output_type": "stream",
          "name": "stderr",
          "text": [
            "CRITICAL:root:this is my critical msg\n"
          ]
        }
      ]
    },
    {
      "cell_type": "code",
      "source": [
        "logging.shutdown()"
      ],
      "metadata": {
        "id": "nC4tLHZgOq1T"
      },
      "execution_count": 20,
      "outputs": []
    },
    {
      "cell_type": "code",
      "source": [
        "logging.basicConfig(filename=\"test1.log\",level=logging.DEBUG,format='%(asctime)s %(message)s')"
      ],
      "metadata": {
        "id": "VrQaFWlfLp6B"
      },
      "execution_count": 22,
      "outputs": []
    },
    {
      "cell_type": "code",
      "source": [
        "logging.info(\"this is my info log\")\n",
        "logging.debug(\"this is my debug log\")\n",
        "logging.warning(\"this is my warning log\")\n",
        "logging.error(\"this is my error log\")"
      ],
      "metadata": {
        "colab": {
          "base_uri": "https://localhost:8080/"
        },
        "id": "JUkPDlgFMcOB",
        "outputId": "dc66645e-2add-4aa3-d0f0-49a93c31c6ce"
      },
      "execution_count": 23,
      "outputs": [
        {
          "output_type": "stream",
          "name": "stderr",
          "text": [
            "WARNING:root:this is my warning log\n",
            "ERROR:root:this is my error log\n"
          ]
        }
      ]
    },
    {
      "cell_type": "code",
      "source": [
        "logging.shutdown()"
      ],
      "metadata": {
        "id": "p7aE6GNbOiLw"
      },
      "execution_count": 24,
      "outputs": []
    },
    {
      "cell_type": "code",
      "source": [
        "logging.basicConfig(filename=\"test2.log\",level=logging.DEBUG,format='%(asctime)s %(name)s %(levelname)s %(message)s')"
      ],
      "metadata": {
        "id": "aZUe-yI3Pocs"
      },
      "execution_count": 25,
      "outputs": []
    },
    {
      "cell_type": "code",
      "source": [
        "l = [1, 2, 3, 4, 5, 6,[4, 5, 2], \"shiva\", \"shubham\"]"
      ],
      "metadata": {
        "id": "15rvQ-GMPrms"
      },
      "execution_count": 27,
      "outputs": []
    },
    {
      "cell_type": "code",
      "source": [
        "l1_int = []\n",
        "l2_str = []\n",
        "for i in l :\n",
        "  logging.info(\"we are iterating through our list and our local var is {}\".format(l))\n",
        "  if type(i) == list :\n",
        "    logging.info(\"i am inside if statement and i am trying to check list type\" + str(i))\n",
        "    for j in i :\n",
        "      logging.info(\"i am in another for loop for list inside list element\"+str(j))\n",
        "      if type(j) == int :\n",
        "        logging.info(\"i am inside if statement\")\n",
        "        l1_int.append(j)\n",
        "\n",
        "  elif type(i) == int :\n",
        "    l1_int.append(i)\n",
        "  else :\n",
        "    l2_str.append(i)\n",
        "\n",
        "    logging.info(\"my final result for int is {l1} and str is {l2}\".format(l1=l1_int,l2=l2_str))"
      ],
      "metadata": {
        "id": "S9gTLqLaRIMZ"
      },
      "execution_count": 41,
      "outputs": []
    },
    {
      "cell_type": "code",
      "source": [
        "l1_int"
      ],
      "metadata": {
        "colab": {
          "base_uri": "https://localhost:8080/"
        },
        "id": "LfUjlkZdQ9I4",
        "outputId": "5cb2a456-c2c5-48ed-f072-81260f7291e3"
      },
      "execution_count": 42,
      "outputs": [
        {
          "output_type": "execute_result",
          "data": {
            "text/plain": [
              "[1, 2, 3, 4, 5, 6, 4, 5, 2]"
            ]
          },
          "metadata": {},
          "execution_count": 42
        }
      ]
    },
    {
      "cell_type": "code",
      "source": [
        "l2_str"
      ],
      "metadata": {
        "colab": {
          "base_uri": "https://localhost:8080/"
        },
        "id": "9OIv3GiLRm2J",
        "outputId": "1461918c-2a65-4568-9b4d-84dc64d748e3"
      },
      "execution_count": 43,
      "outputs": [
        {
          "output_type": "execute_result",
          "data": {
            "text/plain": [
              "['shiva', 'shubham']"
            ]
          },
          "metadata": {},
          "execution_count": 43
        }
      ]
    },
    {
      "cell_type": "code",
      "source": [],
      "metadata": {
        "id": "gGd-swRqRo0G"
      },
      "execution_count": null,
      "outputs": []
    }
  ]
}