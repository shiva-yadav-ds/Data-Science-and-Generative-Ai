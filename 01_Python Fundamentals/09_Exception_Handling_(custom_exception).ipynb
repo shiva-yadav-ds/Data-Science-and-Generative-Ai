{
  "nbformat": 4,
  "nbformat_minor": 0,
  "metadata": {
    "colab": {
      "provenance": []
    },
    "kernelspec": {
      "name": "python3",
      "display_name": "Python 3"
    },
    "language_info": {
      "name": "python"
    }
  },
  "cells": [
    {
      "cell_type": "code",
      "execution_count": 1,
      "metadata": {
        "colab": {
          "base_uri": "https://localhost:8080/"
        },
        "id": "_4i2ZtkNGRmL",
        "outputId": "e3724fcb-d4dd-486c-d1e1-e6b0f1bf64e6"
      },
      "outputs": [
        {
          "name": "stdout",
          "output_type": "stream",
          "text": [
            "Enter your age-484\n"
          ]
        }
      ],
      "source": [
        "age = int(input(\"Enter your age \"))"
      ]
    },
    {
      "cell_type": "code",
      "source": [
        "class validateage(Exception):\n",
        "    def __init__(self,msg):\n",
        "        self.msg = msg"
      ],
      "metadata": {
        "id": "mIgnzdNUHGAW"
      },
      "execution_count": 2,
      "outputs": []
    },
    {
      "cell_type": "code",
      "source": [
        "def validate_age(age):\n",
        "    if age < 0:\n",
        "        raise validateage(\"Entered age is negative\")\n",
        "    elif age > 150:\n",
        "        raise validateage(\"Entered age is very high\")\n",
        "    else:\n",
        "        print(\"Age is valid\")"
      ],
      "metadata": {
        "id": "E-JbbXkrHXtN"
      },
      "execution_count": 3,
      "outputs": []
    },
    {
      "cell_type": "code",
      "source": [
        "try :\n",
        "  age = int(input(\"Enter your age \"))\n",
        "  validate_age(age)\n",
        "except validateage as e:\n",
        "  print(e)"
      ],
      "metadata": {
        "colab": {
          "base_uri": "https://localhost:8080/"
        },
        "id": "_Y3wI_1wIO5n",
        "outputId": "3136c8c2-70c4-42ac-c6a7-3c96d2c4d6ce"
      },
      "execution_count": 5,
      "outputs": [
        {
          "output_type": "stream",
          "name": "stdout",
          "text": [
            "Enter your age 947\n",
            "Entered age is very high\n"
          ]
        }
      ]
    },
    {
      "cell_type": "code",
      "source": [],
      "metadata": {
        "id": "hNvLSP_vIq0o"
      },
      "execution_count": null,
      "outputs": []
    }
  ]
}