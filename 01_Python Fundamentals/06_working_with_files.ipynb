{
  "nbformat": 4,
  "nbformat_minor": 0,
  "metadata": {
    "colab": {
      "provenance": []
    },
    "kernelspec": {
      "name": "python3",
      "display_name": "Python 3"
    },
    "language_info": {
      "name": "python"
    }
  },
  "cells": [
    {
      "cell_type": "code",
      "execution_count": null,
      "metadata": {
        "colab": {
          "base_uri": "https://localhost:8080/"
        },
        "id": "E5ZR9HIceq4J",
        "outputId": "e8d1b358-8d9b-4882-f87f-80b172336f1a"
      },
      "outputs": [
        {
          "output_type": "execute_result",
          "data": {
            "text/plain": [
              "<function TextIOWrapper.write(text, /)>"
            ]
          },
          "metadata": {},
          "execution_count": 19
        }
      ],
      "source": [
        "f = open(\"dataset.csv\", \"w\")\n",
        "f.write"
      ]
    },
    {
      "cell_type": "code",
      "source": [
        "pwd"
      ],
      "metadata": {
        "colab": {
          "base_uri": "https://localhost:8080/",
          "height": 35
        },
        "id": "9CWophUQfIpM",
        "outputId": "eeb89124-8521-4b42-86fb-1834d7e47cc6"
      },
      "execution_count": null,
      "outputs": [
        {
          "output_type": "execute_result",
          "data": {
            "text/plain": [
              "'/content/sample_data'"
            ],
            "application/vnd.google.colaboratory.intrinsic+json": {
              "type": "string"
            }
          },
          "metadata": {},
          "execution_count": 20
        }
      ]
    },
    {
      "cell_type": "code",
      "source": [
        "ls"
      ],
      "metadata": {
        "colab": {
          "base_uri": "https://localhost:8080/"
        },
        "id": "ES0jJ1gBfKpO",
        "outputId": "2c8e4494-7d05-4a09-ab37-8895daf4646a"
      },
      "execution_count": null,
      "outputs": [
        {
          "output_type": "stream",
          "name": "stdout",
          "text": [
            "\u001b[0m\u001b[01;32manscombe.json\u001b[0m*               california_housing_train.csv  mnist_test.csv         \u001b[01;32mREADME.md\u001b[0m*\n",
            "california_housing_test.csv  dataset.csv                   mnist_train_small.csv\n"
          ]
        }
      ]
    },
    {
      "cell_type": "code",
      "source": [
        "cd sample_data\n"
      ],
      "metadata": {
        "colab": {
          "base_uri": "https://localhost:8080/"
        },
        "id": "Ho4Vg6PqfhvN",
        "outputId": "0645f6ba-8744-4bde-e107-bf53caef5e53"
      },
      "execution_count": null,
      "outputs": [
        {
          "output_type": "stream",
          "name": "stdout",
          "text": [
            "[Errno 2] No such file or directory: 'sample_data'\n",
            "/content/sample_data\n"
          ]
        }
      ]
    },
    {
      "cell_type": "code",
      "source": [
        "ls"
      ],
      "metadata": {
        "colab": {
          "base_uri": "https://localhost:8080/"
        },
        "id": "B4VyNMWLfkay",
        "outputId": "bd970c72-7582-425f-f382-28adc7f1d662"
      },
      "execution_count": null,
      "outputs": [
        {
          "output_type": "stream",
          "name": "stdout",
          "text": [
            "\u001b[0m\u001b[01;32manscombe.json\u001b[0m*               california_housing_train.csv  mnist_test.csv         \u001b[01;32mREADME.md\u001b[0m*\n",
            "california_housing_test.csv  dataset.csv                   mnist_train_small.csv\n"
          ]
        }
      ]
    },
    {
      "cell_type": "code",
      "source": [
        "f.write(\"this is my first file\\n\")\n",
        "f.write(\"this is my second line\\n\")\n",
        "f.write(\"this is my third line\\n\")"
      ],
      "metadata": {
        "colab": {
          "base_uri": "https://localhost:8080/"
        },
        "id": "EPjtW6agf07h",
        "outputId": "742e1fbe-5051-47bc-d687-6a02364cc4c4"
      },
      "execution_count": null,
      "outputs": [
        {
          "output_type": "execute_result",
          "data": {
            "text/plain": [
              "22"
            ]
          },
          "metadata": {},
          "execution_count": 24
        }
      ]
    },
    {
      "cell_type": "markdown",
      "source": [],
      "metadata": {
        "id": "EX8gLxwBgK4x"
      }
    },
    {
      "cell_type": "code",
      "source": [
        "f.close()"
      ],
      "metadata": {
        "id": "bA_arWLwgTcS"
      },
      "execution_count": null,
      "outputs": []
    },
    {
      "cell_type": "code",
      "source": [
        "f = open(\"dataset.csv\", \"w\")\n",
        "f.write(\"this is my first file\\n\")\n",
        "f.write(\"this is my second line\\n\")\n",
        "f.write(\"this is my third line\\n\")\n",
        "f.close()"
      ],
      "metadata": {
        "id": "Ji7H1jlcgVRp"
      },
      "execution_count": null,
      "outputs": []
    },
    {
      "cell_type": "code",
      "source": [
        "f = open(\"dataset.csv\", \"a\")\n",
        "f.write(\"this is shiva yadav from prayagraj utterpradesh and currently i am develope my skills in data science field\")\n",
        "f.close()"
      ],
      "metadata": {
        "id": "QvW1izcrg7Rl"
      },
      "execution_count": null,
      "outputs": []
    },
    {
      "cell_type": "code",
      "source": [
        "data = open(\"dataset.csv\", \"r\")\n",
        "data.read()"
      ],
      "metadata": {
        "colab": {
          "base_uri": "https://localhost:8080/",
          "height": 70
        },
        "id": "Lc07YxR9hp0V",
        "outputId": "a4a279ba-7ec2-4b35-a6c3-55e8ab0deafd"
      },
      "execution_count": null,
      "outputs": [
        {
          "output_type": "execute_result",
          "data": {
            "text/plain": [
              "'this is my first file\\nthis is my second line\\nthis is my third line\\nthis is shiva yadav from prayagraj utterpradesh and currently i am develope my skills in data science field'"
            ],
            "application/vnd.google.colaboratory.intrinsic+json": {
              "type": "string"
            }
          },
          "metadata": {},
          "execution_count": 29
        }
      ]
    },
    {
      "cell_type": "code",
      "source": [
        "data.readline()\n",
        "data.seek(0)"
      ],
      "metadata": {
        "colab": {
          "base_uri": "https://localhost:8080/"
        },
        "id": "PPeG5Zb4jGWU",
        "outputId": "800e92cd-da51-4048-a659-9153a5f4b79f"
      },
      "execution_count": null,
      "outputs": [
        {
          "output_type": "execute_result",
          "data": {
            "text/plain": [
              "0"
            ]
          },
          "metadata": {},
          "execution_count": 32
        }
      ]
    },
    {
      "cell_type": "code",
      "source": [
        "data.readline()"
      ],
      "metadata": {
        "colab": {
          "base_uri": "https://localhost:8080/",
          "height": 35
        },
        "id": "RRnXsoVajdQu",
        "outputId": "a12b429c-53a5-4a65-e6f9-eb760270424e"
      },
      "execution_count": null,
      "outputs": [
        {
          "output_type": "execute_result",
          "data": {
            "text/plain": [
              "'this is my first file\\n'"
            ],
            "application/vnd.google.colaboratory.intrinsic+json": {
              "type": "string"
            }
          },
          "metadata": {},
          "execution_count": 33
        }
      ]
    },
    {
      "cell_type": "code",
      "source": [
        "data.seek(10)\n",
        "data.read()\n"
      ],
      "metadata": {
        "colab": {
          "base_uri": "https://localhost:8080/",
          "height": 70
        },
        "id": "6bhz_2c8j3bT",
        "outputId": "1b5657dc-4c98-4855-ccc4-0dfedbe8b88f"
      },
      "execution_count": null,
      "outputs": [
        {
          "output_type": "execute_result",
          "data": {
            "text/plain": [
              "' first file\\nthis is my second line\\nthis is my third line\\nthis is shiva yadav from prayagraj utterpradesh and currently i am develope my skills in data science field'"
            ],
            "application/vnd.google.colaboratory.intrinsic+json": {
              "type": "string"
            }
          },
          "metadata": {},
          "execution_count": 34
        }
      ]
    },
    {
      "cell_type": "code",
      "source": [
        "data1 = open(\"dataset.csv\", 'r')\n",
        "for i in data1:\n",
        "  print(i)"
      ],
      "metadata": {
        "colab": {
          "base_uri": "https://localhost:8080/"
        },
        "id": "PkspR4A-kGwc",
        "outputId": "83f7934d-2ee3-480d-ed33-c09908010398"
      },
      "execution_count": null,
      "outputs": [
        {
          "output_type": "stream",
          "name": "stdout",
          "text": [
            "this is my first file\n",
            "\n",
            "this is my second line\n",
            "\n",
            "this is my third line\n",
            "\n",
            "this is shiva yadav from prayagraj utterpradesh and currently i am develope my skills in data science field\n"
          ]
        }
      ]
    },
    {
      "cell_type": "code",
      "source": [
        "import os"
      ],
      "metadata": {
        "id": "MGMxZuC-kgrR"
      },
      "execution_count": null,
      "outputs": []
    },
    {
      "cell_type": "code",
      "source": [
        "os.path.getsize(\"dataset.csv\")"
      ],
      "metadata": {
        "colab": {
          "base_uri": "https://localhost:8080/"
        },
        "id": "7f4ujDkwk46C",
        "outputId": "9e0e08f2-717f-40c0-c2aa-9fc6e7f5bd4a"
      },
      "execution_count": null,
      "outputs": [
        {
          "output_type": "execute_result",
          "data": {
            "text/plain": [
              "174"
            ]
          },
          "metadata": {},
          "execution_count": 38
        }
      ]
    },
    {
      "cell_type": "code",
      "source": [
        "os.remove(\"dataset.csv\")"
      ],
      "metadata": {
        "id": "m4l7AJ8RlAhB"
      },
      "execution_count": null,
      "outputs": []
    },
    {
      "cell_type": "code",
      "source": [
        "f = open(\"text.csv\", \"w\")\n",
        "f.write(\"this is my first file\\n\")\n",
        "f.write(\"this is my second line\\n\")\n",
        "f.write(\"this is my third line\\n\")\n",
        "f.close()"
      ],
      "metadata": {
        "id": "F50aRKudlTPj"
      },
      "execution_count": null,
      "outputs": []
    },
    {
      "cell_type": "code",
      "source": [
        "os.rename(\"text.csv\", \"new.text.csv\")"
      ],
      "metadata": {
        "id": "Vt_0U1DJlgmY"
      },
      "execution_count": null,
      "outputs": []
    },
    {
      "cell_type": "code",
      "source": [
        "import shutil"
      ],
      "metadata": {
        "id": "LMbK6rudl2ek"
      },
      "execution_count": null,
      "outputs": []
    },
    {
      "cell_type": "code",
      "source": [
        "shutil.copy(\"new.text.csv\", \"copy_new.text.csv\")"
      ],
      "metadata": {
        "colab": {
          "base_uri": "https://localhost:8080/",
          "height": 35
        },
        "id": "AL9-FkXul9q7",
        "outputId": "90e939e5-9c08-4123-8be0-23678adc94f3"
      },
      "execution_count": null,
      "outputs": [
        {
          "output_type": "execute_result",
          "data": {
            "text/plain": [
              "'copy_new.text.csv'"
            ],
            "application/vnd.google.colaboratory.intrinsic+json": {
              "type": "string"
            }
          },
          "metadata": {},
          "execution_count": 44
        }
      ]
    },
    {
      "cell_type": "code",
      "source": [
        "with open(\"new.text.csv\", \"r\") as f:\n",
        "  print(f.read())"
      ],
      "metadata": {
        "colab": {
          "base_uri": "https://localhost:8080/"
        },
        "id": "_AMzILS0mNnu",
        "outputId": "9ca18529-9186-4224-e281-9b14056dc278"
      },
      "execution_count": null,
      "outputs": [
        {
          "output_type": "stream",
          "name": "stdout",
          "text": [
            "this is my first file\n",
            "this is my second line\n",
            "this is my third line\n",
            "\n"
          ]
        }
      ]
    },
    {
      "cell_type": "code",
      "source": [],
      "metadata": {
        "id": "KgHYcr3cm27-"
      },
      "execution_count": null,
      "outputs": []
    }
  ]
}