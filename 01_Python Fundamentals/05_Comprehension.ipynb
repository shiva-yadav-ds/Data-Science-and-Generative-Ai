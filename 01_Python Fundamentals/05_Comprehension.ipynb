{
  "nbformat": 4,
  "nbformat_minor": 0,
  "metadata": {
    "colab": {
      "provenance": []
    },
    "kernelspec": {
      "name": "python3",
      "display_name": "Python 3"
    },
    "language_info": {
      "name": "python"
    }
  },
  "cells": [
    {
      "cell_type": "code",
      "execution_count": null,
      "metadata": {
        "colab": {
          "base_uri": "https://localhost:8080/"
        },
        "id": "X36URKkMahN2",
        "outputId": "0c667cdc-59f4-4de6-d2be-c3bdde77ef95"
      },
      "outputs": [
        {
          "output_type": "execute_result",
          "data": {
            "text/plain": [
              "[1, 4, 9, 16]"
            ]
          },
          "metadata": {},
          "execution_count": 1
        }
      ],
      "source": [
        "l = [1,2,3,4,]\n",
        "l1 = []\n",
        "for i in l:\n",
        "    l1.append(i**2)\n",
        "l1"
      ]
    },
    {
      "cell_type": "code",
      "source": [
        "l\n",
        "[i**2 for i in l]"
      ],
      "metadata": {
        "colab": {
          "base_uri": "https://localhost:8080/"
        },
        "id": "Vd9FZiRca-Re",
        "outputId": "e4f93001-8bc9-45a0-c7bd-2db1076dd9ba"
      },
      "execution_count": null,
      "outputs": [
        {
          "output_type": "execute_result",
          "data": {
            "text/plain": [
              "[1, 4, 9, 16]"
            ]
          },
          "metadata": {},
          "execution_count": 5
        }
      ]
    },
    {
      "cell_type": "code",
      "source": [
        "[i for i in l if i % 2 ==0]"
      ],
      "metadata": {
        "colab": {
          "base_uri": "https://localhost:8080/"
        },
        "id": "81iq9junbRGA",
        "outputId": "48d47690-9117-46b9-a076-d836b28eb68b"
      },
      "execution_count": null,
      "outputs": [
        {
          "output_type": "execute_result",
          "data": {
            "text/plain": [
              "[2, 4]"
            ]
          },
          "metadata": {},
          "execution_count": 7
        }
      ]
    },
    {
      "cell_type": "code",
      "source": [
        "l1 = [\"shiva\", \"shubham\", \"Sudhir\", \"naman\", \"karan\"]\n",
        "[i.upper() for i in l1]"
      ],
      "metadata": {
        "colab": {
          "base_uri": "https://localhost:8080/"
        },
        "id": "xBdTcK-4brOz",
        "outputId": "f3ac3c1b-310d-40a2-8662-faaf872c5ece"
      },
      "execution_count": null,
      "outputs": [
        {
          "output_type": "execute_result",
          "data": {
            "text/plain": [
              "['SHIVA', 'SHUBHAM', 'SUDHIR', 'NAMAN', 'KARAN']"
            ]
          },
          "metadata": {},
          "execution_count": 8
        }
      ]
    },
    {
      "cell_type": "code",
      "source": [
        "l\n",
        "list(i**2 for i in l)"
      ],
      "metadata": {
        "colab": {
          "base_uri": "https://localhost:8080/"
        },
        "id": "XoGYS0V1cCuo",
        "outputId": "ca5a7903-62cd-4638-c3e1-cc138ced4160"
      },
      "execution_count": null,
      "outputs": [
        {
          "output_type": "execute_result",
          "data": {
            "text/plain": [
              "[1, 4, 9, 16]"
            ]
          },
          "metadata": {},
          "execution_count": 10
        }
      ]
    },
    {
      "cell_type": "code",
      "source": [
        "d = {\"key\": 1, \"key1\": 2, \"key2\": 3, \"key4\": 4}\n",
        "squared_dict = {k: v**2 for k, v in d.items()}\n",
        "print(squared_dict)\n",
        "\n",
        "# d.items()\n",
        "print(d.items())"
      ],
      "metadata": {
        "colab": {
          "base_uri": "https://localhost:8080/"
        },
        "id": "JQWnYTIqcTZz",
        "outputId": "faaabb0e-a134-4763-d4a7-5c454624efdb"
      },
      "execution_count": null,
      "outputs": [
        {
          "output_type": "stream",
          "name": "stdout",
          "text": [
            "{'key': 1, 'key1': 4, 'key2': 9, 'key4': 16}\n",
            "dict_items([('key', 1), ('key1', 2), ('key2', 3), ('key4', 4)])\n"
          ]
        }
      ]
    },
    {
      "cell_type": "code",
      "source": [
        "{k : v for k,v in d.items() if v > 1}"
      ],
      "metadata": {
        "colab": {
          "base_uri": "https://localhost:8080/"
        },
        "id": "umbu0-_ZcynA",
        "outputId": "062bfd35-4c8d-4c31-ef67-5580c976a7c0"
      },
      "execution_count": null,
      "outputs": [
        {
          "output_type": "execute_result",
          "data": {
            "text/plain": [
              "{'key1': 2, 'key2': 3, 'key4': 4}"
            ]
          },
          "metadata": {},
          "execution_count": 20
        }
      ]
    },
    {
      "cell_type": "code",
      "source": [],
      "metadata": {
        "id": "khezy5BYeO0A"
      },
      "execution_count": null,
      "outputs": []
    }
  ]
}