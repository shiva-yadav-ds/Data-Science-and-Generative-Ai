{
  "cells": [
    {
      "cell_type": "code",
      "execution_count": 1,
      "metadata": {
        "id": "LTzSTKFHCEJ2"
      },
      "outputs": [],
      "source": [
        "import io"
      ]
    },
    {
      "cell_type": "code",
      "execution_count": null,
      "metadata": {
        "id": "qnW6WHcqCqv-"
      },
      "outputs": [],
      "source": [
        "with open (\"text.txt\", \"wb\") as f:\n",
        "  file = io.BufferedWriter(f)\n",
        "\n",
        "  file.write(b\"This is my first line\\n\")\n",
        "  file.write(b\"This is my second line\\n\")\n",
        "  file.flush()"
      ]
    },
    {
      "cell_type": "code",
      "execution_count": 5,
      "metadata": {
        "colab": {
          "base_uri": "https://localhost:8080/"
        },
        "id": "kuLjxaR_DReD",
        "outputId": "33cb352e-bf21-41c4-e79e-5732aa22701f"
      },
      "outputs": [
        {
          "name": "stdout",
          "output_type": "stream",
          "text": [
            "b'This is my first line\\nThis is my second line\\n'\n"
          ]
        }
      ],
      "source": [
        "with open (\"text.txt\", \"rb\") as f:\n",
        "  file = io.BufferedReader(f)\n",
        "  data = file.read(100)\n",
        "  print(data)"
      ]
    },
    {
      "cell_type": "code",
      "execution_count": null,
      "metadata": {
        "id": "IctVS5XpEB_Y"
      },
      "outputs": [],
      "source": []
    }
  ],
  "metadata": {
    "colab": {
      "provenance": []
    },
    "kernelspec": {
      "display_name": "Python 3",
      "name": "python3"
    },
    "language_info": {
      "name": "python"
    }
  },
  "nbformat": 4,
  "nbformat_minor": 0
}
