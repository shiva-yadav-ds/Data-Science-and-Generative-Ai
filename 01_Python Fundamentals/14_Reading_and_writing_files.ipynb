{
  "nbformat": 4,
  "nbformat_minor": 0,
  "metadata": {
    "colab": {
      "provenance": []
    },
    "kernelspec": {
      "name": "python3",
      "display_name": "Python 3"
    },
    "language_info": {
      "name": "python"
    }
  },
  "cells": [
    {
      "cell_type": "code",
      "execution_count": 2,
      "metadata": {
        "id": "rza9Fn_dgGFl"
      },
      "outputs": [],
      "source": [
        "data = {\n",
        "    \"name\": \"John\",\n",
        "    \"age\": 30,\n",
        "    \"city\": \"New York\",\n",
        "    \"subject\": [\"data science\", \"big data\", \"data analysis\"]\n",
        "}"
      ]
    },
    {
      "cell_type": "code",
      "source": [
        "import json"
      ],
      "metadata": {
        "id": "EAtnxbUANBuj"
      },
      "execution_count": 3,
      "outputs": []
    },
    {
      "cell_type": "code",
      "source": [
        "with open (\"data.json\", \"w\") as f:\n",
        "    json.dump(data, f)"
      ],
      "metadata": {
        "id": "1D1UBbuONmIB"
      },
      "execution_count": 4,
      "outputs": []
    },
    {
      "cell_type": "code",
      "source": [
        "with open(\"data.json\", \"r\") as f:\n",
        "       data1 = json.load(f)"
      ],
      "metadata": {
        "id": "iJO6dHxHNxVe"
      },
      "execution_count": 5,
      "outputs": []
    },
    {
      "cell_type": "code",
      "source": [
        "data1"
      ],
      "metadata": {
        "colab": {
          "base_uri": "https://localhost:8080/"
        },
        "id": "2Y2-Fs6_OaOv",
        "outputId": "8f57fabd-6bba-41e3-edad-a2d3dd33a934"
      },
      "execution_count": 6,
      "outputs": [
        {
          "output_type": "execute_result",
          "data": {
            "text/plain": [
              "{'name': 'John',\n",
              " 'age': 30,\n",
              " 'city': 'New York',\n",
              " 'subject': ['data science', 'big data', 'data analysis']}"
            ]
          },
          "metadata": {},
          "execution_count": 6
        }
      ]
    },
    {
      "cell_type": "code",
      "source": [
        " data1['subject'][1]"
      ],
      "metadata": {
        "colab": {
          "base_uri": "https://localhost:8080/",
          "height": 36
        },
        "id": "4x-1RyocOrGV",
        "outputId": "22c18b1c-e179-43a3-b36b-4737076bc516"
      },
      "execution_count": 7,
      "outputs": [
        {
          "output_type": "execute_result",
          "data": {
            "text/plain": [
              "'big data'"
            ],
            "application/vnd.google.colaboratory.intrinsic+json": {
              "type": "string"
            }
          },
          "metadata": {},
          "execution_count": 7
        }
      ]
    },
    {
      "cell_type": "code",
      "source": [
        "import csv"
      ],
      "metadata": {
        "id": "qVfmq062Pu0Z"
      },
      "execution_count": 8,
      "outputs": []
    },
    {
      "cell_type": "code",
      "source": [
        "data = [[\"name\", \"email\", \"Phone number\"],\n",
        "        [\"shubham\", \"Shubhamadavji1@gmail.com\", 73098111],\n",
        "        [\"shiva\", \"Shubhamadavji2@gmail.com\", 73098111],\n",
        "        [\"shivam\", \"Shubhamadavji3@gmail.com\", 73098111],\n",
        "        ]"
      ],
      "metadata": {
        "id": "dNZJJIXmP_35"
      },
      "execution_count": 14,
      "outputs": []
    },
    {
      "cell_type": "code",
      "source": [
        "with open (\"data.csv\", \"w\") as f:\n",
        "  writer = csv.writer(f)\n",
        "  for i in data:\n",
        "    writer.writerow(i)"
      ],
      "metadata": {
        "id": "NUfn8r5z1D6U"
      },
      "execution_count": 15,
      "outputs": []
    },
    {
      "cell_type": "code",
      "source": [
        "with open (\"data.csv\", \"r\") as f :\n",
        "  reader = csv.reader(f)\n",
        "  for i in reader:\n",
        "    print(i)"
      ],
      "metadata": {
        "colab": {
          "base_uri": "https://localhost:8080/"
        },
        "id": "qV6MPtpt2Eyz",
        "outputId": "1915b146-fa16-44cf-e732-acacfd81575d"
      },
      "execution_count": 17,
      "outputs": [
        {
          "output_type": "stream",
          "name": "stdout",
          "text": [
            "['name', 'email', 'Phone number']\n",
            "['shubham', 'Shubhamadavji1@gmail.com', '73098111']\n",
            "['shiva', 'Shubhamadavji2@gmail.com', '73098111']\n",
            "['shivam', 'Shubhamadavji3@gmail.com', '73098111']\n"
          ]
        }
      ]
    },
    {
      "cell_type": "code",
      "source": [
        "with open(\"test4.bin\", \"wb\") as f:\n",
        "  f.write(b\"x01\\x02\\x03\\x3454235\")"
      ],
      "metadata": {
        "id": "poSpiObX2zFN"
      },
      "execution_count": 18,
      "outputs": []
    },
    {
      "cell_type": "code",
      "source": [
        "with open(\"test4.bin\", \"rb\") as f:\n",
        "  print(f.read())"
      ],
      "metadata": {
        "colab": {
          "base_uri": "https://localhost:8080/"
        },
        "id": "1i-CBrWYBc5K",
        "outputId": "c54d4c78-eee9-4c84-bf39-ad8ecfd78195"
      },
      "execution_count": 19,
      "outputs": [
        {
          "output_type": "stream",
          "name": "stdout",
          "text": [
            "b'x01\\x02\\x03454235'\n"
          ]
        }
      ]
    },
    {
      "cell_type": "code",
      "source": [],
      "metadata": {
        "id": "_F5LetMFBs5H"
      },
      "execution_count": null,
      "outputs": []
    }
  ]
}