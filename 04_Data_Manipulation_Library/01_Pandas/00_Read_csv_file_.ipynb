{
 "cells": [
  {
   "cell_type": "code",
   "execution_count": 8,
   "id": "72e187e6",
   "metadata": {},
   "outputs": [],
   "source": [
    "import pandas as pd\n",
    "import sys"
   ]
  },
  {
   "cell_type": "markdown",
   "id": "6e2e9401",
   "metadata": {},
   "source": [
    "# Reading CSV Files in Python\n",
    "\n",
    "When reading CSV files in Python with pandas, keep these points in mind:\n",
    "\n",
    "1. **File Path Format**\n",
    "   - Use forward slashes (/) or double backslashes (\\\\\\\\) for paths\n",
    "   - Paths are case-sensitive on Linux/Mac\n",
    "   - Relative paths are relative to the notebook location\n",
    "\n",
    "2. **Common Issues**\n",
    "   - File not found errors (wrong path or filename)\n",
    "   - Encoding issues (specify with `encoding` parameter if needed)\n",
    "   - Delimiter issues (use `sep` parameter if not comma-separated)\n",
    "\n",
    "3. **Best Practices**\n",
    "   - Always use error handling (try/except)\n",
    "   - Check the data after loading (using `.head()`, `.info()`, etc.)\n",
    "   - Verify the file exists before trying to read it"
   ]
  },
  {
   "cell_type": "code",
   "execution_count": 16,
   "id": "f8ce0b4a",
   "metadata": {},
   "outputs": [
    {
     "name": "stdout",
     "output_type": "stream",
     "text": [
      "Data successfully loaded!\n",
      "\n",
      "First few rows of the data:\n",
      "         day  temp Condition\n",
      "0     Monday    12     Sunny\n",
      "1    Tuesday    14      Rain\n",
      "2  Wednesday    12      Rain\n",
      "3   Thursday    18    Cloudy\n",
      "4     Friday    20     Sunny\n"
     ]
    }
   ],
   "source": [
    "# Using proper path with forward slashes\n",
    "try:\n",
    "    df = pd.read_csv(\"Data/Weather_data.csv\")\n",
    "    print(\"Data successfully loaded!\")\n",
    "    print(\"\\nFirst few rows of the data:\")\n",
    "    # print(df) it wil print full data\n",
    "    print(df.head())  # Display the first few rows of the DataFrame\n",
    "except FileNotFoundError:\n",
    "    print(\"Error: File not found. Please check if the file exists in the Data folder.\")\n",
    "except Exception as e:\n",
    "    print(f\"An error occurred: {str(e)}\")"
   ]
  },
  {
   "cell_type": "code",
   "execution_count": 11,
   "id": "53cd4e9a",
   "metadata": {},
   "outputs": [
    {
     "name": "stdout",
     "output_type": "stream",
     "text": [
      "Dataset Information:\n",
      "\n",
      "Shape of the dataset: (7, 3)\n",
      "\n",
      "Column names: ['day', 'temp', 'Condition']\n",
      "\n",
      "Data types of columns:\n",
      "day          object\n",
      "temp          int64\n",
      "Condition    object\n",
      "dtype: object\n",
      "\n",
      "Checking for missing values:\n",
      "day          0\n",
      "temp         0\n",
      "Condition    0\n",
      "dtype: int64\n"
     ]
    }
   ],
   "source": [
    "# After successfully loading the data, let's examine it\n",
    "if 'df' in locals():\n",
    "    print(\"Dataset Information:\")\n",
    "    print(\"\\nShape of the dataset:\", df.shape)\n",
    "    print(\"\\nColumn names:\", df.columns.tolist())\n",
    "    print(\"\\nData types of columns:\")\n",
    "    print(df.dtypes)\n",
    "    print(\"\\nChecking for missing values:\")\n",
    "    print(df.isnull().sum())"
   ]
  },
  {
   "cell_type": "code",
   "execution_count": 14,
   "id": "2c2b0190",
   "metadata": {},
   "outputs": [
    {
     "name": "stdout",
     "output_type": "stream",
     "text": [
      "0    12\n",
      "1    14\n",
      "2    12\n",
      "3    18\n",
      "4    20\n",
      "5    22\n",
      "6    24\n",
      "Name: temp, dtype: int64\n"
     ]
    }
   ],
   "source": [
    "print(df.temp)"
   ]
  },
  {
   "cell_type": "code",
   "execution_count": null,
   "id": "7c4b3939",
   "metadata": {},
   "outputs": [],
   "source": []
  }
 ],
 "metadata": {
  "kernelspec": {
   "display_name": "ds-env",
   "language": "python",
   "name": "python3"
  },
  "language_info": {
   "codemirror_mode": {
    "name": "ipython",
    "version": 3
   },
   "file_extension": ".py",
   "mimetype": "text/x-python",
   "name": "python",
   "nbconvert_exporter": "python",
   "pygments_lexer": "ipython3",
   "version": "3.12.11"
  }
 },
 "nbformat": 4,
 "nbformat_minor": 5
}
