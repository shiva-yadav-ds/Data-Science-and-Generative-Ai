{
 "cells": [
  {
   "cell_type": "code",
   "execution_count": 34,
   "id": "f3cc977f",
   "metadata": {},
   "outputs": [],
   "source": [
    "import pandas as pd\n",
    "import sys"
   ]
  },
  {
   "cell_type": "markdown",
   "id": "562e31c6",
   "metadata": {},
   "source": [
    "# Working with DataFrames and Series in Pandas\n",
    "\n",
    "## Common DataFrame Operations\n",
    "\n",
    "1. **Reading Data**\n",
    "   - Use `pd.read_csv()` with appropriate parameters\n",
    "   - Check file separator (comma, tab, pipe, etc.)\n",
    "   - Verify column names and data types\n",
    "\n",
    "2. **Accessing Data**\n",
    "   - Columns can be accessed using `df['column_name']`\n",
    "   - Returns a Pandas Series object\n",
    "   - Can be converted to Python list using `.to_list()`\n",
    "\n",
    "3. **Basic Analysis**\n",
    "   - Check data shape using `df.shape`\n",
    "   - View column names using `df.columns`\n",
    "   - Convert to different formats using `to_dict()`, `to_list()`, etc.\n",
    "\n",
    "4. **Best Practices**\n",
    "   - Always verify data after reading\n",
    "   - Check for missing values\n",
    "   - Confirm data types are correct"
   ]
  },
  {
   "cell_type": "code",
   "execution_count": 43,
   "id": "bf70ac21",
   "metadata": {},
   "outputs": [
    {
     "name": "stdout",
     "output_type": "stream",
     "text": [
      "First few rows of the data:\n",
      "         day  temp Condition\n",
      "0     Monday    12     Sunny\n",
      "1    Tuesday    14      Rain\n",
      "2  Wednesday    12      Rain\n",
      "3   Thursday    18    Cloudy\n",
      "4     Friday    20     Sunny\n",
      "5   Saturday    22     Sunny\n",
      "6     Sunday    24     Sunny\n",
      "\n",
      "DataFrame Type:\n",
      "<class 'pandas.core.frame.DataFrame'>\n"
     ]
    }
   ],
   "source": [
    "# Read the CSV file with correct separator\n",
    "df = pd.read_csv(\"Data/Weather_data.csv\")  # Remove sep=\"|\" as the file uses commas\n",
    "print(\"First few rows of the data:\")\n",
    "# print(df.head())\n",
    "print(df)\n",
    "print(\"\\nDataFrame Type:\")\n",
    "print(type(df))"
   ]
  },
  {
   "cell_type": "code",
   "execution_count": 36,
   "id": "a27bdf56",
   "metadata": {},
   "outputs": [
    {
     "name": "stdout",
     "output_type": "stream",
     "text": [
      "\n",
      "DataFrame Columns:\n",
      "Index(['day', 'temp', 'Condition'], dtype='object')\n"
     ]
    }
   ],
   "source": [
    "print(\"\\nDataFrame Columns:\")\n",
    "print(df.columns)"
   ]
  },
  {
   "cell_type": "code",
   "execution_count": 37,
   "id": "5d5220d3",
   "metadata": {},
   "outputs": [
    {
     "name": "stdout",
     "output_type": "stream",
     "text": [
      "{'day': {0: 'Monday', 1: 'Tuesday', 2: 'Wednesday', 3: 'Thursday', 4: 'Friday', 5: 'Saturday', 6: 'Sunday'}, 'temp': {0: 12, 1: 14, 2: 12, 3: 18, 4: 20, 5: 22, 6: 24}, 'Condition': {0: 'Sunny', 1: 'Rain', 2: 'Rain', 3: 'Cloudy', 4: 'Sunny', 5: 'Sunny', 6: 'Sunny'}}\n"
     ]
    }
   ],
   "source": [
    "df_dict = df.to_dict()\n",
    "print(df_dict)\n"
   ]
  },
  {
   "cell_type": "code",
   "execution_count": 38,
   "id": "ca8b18b8",
   "metadata": {},
   "outputs": [
    {
     "name": "stdout",
     "output_type": "stream",
     "text": [
      "Number of temperature readings: 7\n",
      "Temperature values: [12, 14, 12, 18, 20, 22, 24]\n",
      "\n",
      "Average temperature: 17.43\n"
     ]
    }
   ],
   "source": [
    "# Convert temperature column to list and show basic statistics\n",
    "temp_list = df['temp'].to_list()\n",
    "print(f\"Number of temperature readings: {len(temp_list)}\")\n",
    "print(f\"Temperature values: {temp_list}\")\n",
    "print(f\"\\nAverage temperature: {sum(temp_list)/len(temp_list):.2f}\")"
   ]
  },
  {
   "cell_type": "code",
   "execution_count": 40,
   "id": "6d87ec08",
   "metadata": {},
   "outputs": [
    {
     "name": "stdout",
     "output_type": "stream",
     "text": [
      "DataFrame Info:\n",
      "<class 'pandas.core.frame.DataFrame'>\n",
      "RangeIndex: 7 entries, 0 to 6\n",
      "Data columns (total 3 columns):\n",
      " #   Column     Non-Null Count  Dtype \n",
      "---  ------     --------------  ----- \n",
      " 0   day        7 non-null      object\n",
      " 1   temp       7 non-null      int64 \n",
      " 2   Condition  7 non-null      object\n",
      "dtypes: int64(1), object(2)\n",
      "memory usage: 300.0+ bytes\n",
      "None\n",
      "\n",
      "Basic Statistics:\n",
      "            temp\n",
      "count   7.000000\n",
      "mean   17.428571\n",
      "std     4.859943\n",
      "min    12.000000\n",
      "25%    13.000000\n",
      "50%    18.000000\n",
      "75%    21.000000\n",
      "max    24.000000\n",
      "\n",
      "Unique values in 'Condition' column:\n",
      "['Sunny' 'Rain' 'Cloudy']\n"
     ]
    }
   ],
   "source": [
    "# More DataFrame operations\n",
    "print(\"DataFrame Info:\")\n",
    "print(df.info())\n",
    "\n",
    "print(\"\\nBasic Statistics:\")\n",
    "print(df.describe())\n",
    "\n",
    "print(\"\\nUnique values in 'Condition' column:\")\n",
    "print(df['Condition'].unique())"
   ]
  },
  {
   "cell_type": "code",
   "execution_count": 41,
   "id": "28419c9d",
   "metadata": {},
   "outputs": [
    {
     "name": "stdout",
     "output_type": "stream",
     "text": [
      "24\n"
     ]
    }
   ],
   "source": [
    "print(max(df['temp']))"
   ]
  },
  {
   "cell_type": "code",
   "execution_count": 45,
   "id": "3cb8c60d",
   "metadata": {},
   "outputs": [
    {
     "name": "stdout",
     "output_type": "stream",
     "text": [
      "      day  temp Condition\n",
      "6  Sunday    24     Sunny\n"
     ]
    }
   ],
   "source": [
    "print(df[df.temp == df.temp.max()])"
   ]
  },
  {
   "cell_type": "code",
   "execution_count": 47,
   "id": "c98f1c8c",
   "metadata": {},
   "outputs": [],
   "source": [
    "monday = df[df['day'] == 'Monday']"
   ]
  },
  {
   "cell_type": "code",
   "execution_count": 52,
   "id": "d31f24da",
   "metadata": {},
   "outputs": [
    {
     "name": "stdout",
     "output_type": "stream",
     "text": [
      "\n",
      "Monday's temperature readings: 53.6°F\n"
     ]
    },
    {
     "name": "stderr",
     "output_type": "stream",
     "text": [
      "/tmp/ipykernel_46449/2037521370.py:1: FutureWarning: Calling int on a single element Series is deprecated and will raise a TypeError in the future. Use int(ser.iloc[0]) instead\n",
      "  monday_temp = int(monday.temp)\n"
     ]
    }
   ],
   "source": [
    "monday_temp = int(monday.temp)\n",
    "monday_temp_f = monday_temp * 9/5 + 32  # Convert Celsius to Fahrenheit\n",
    "print(f\"\\nMonday's temperature readings: {monday_temp_f}°F\")"
   ]
  },
  {
   "cell_type": "code",
   "execution_count": 57,
   "id": "ff5eb70c",
   "metadata": {},
   "outputs": [
    {
     "name": "stdout",
     "output_type": "stream",
     "text": [
      "\n",
      "DataFrame created from dictionary:\n",
      "  teachers subjects  years_of_experience  is_full_time\n",
      "0    Alice     Math                    5          True\n",
      "1      Bob  Science                   10          True\n",
      "2  Charlie  History                    3         False\n"
     ]
    }
   ],
   "source": [
    "data_dict = {\n",
    "    \"teachers\": [\"Alice\", \"Bob\", \"Charlie\"],\n",
    "    \"subjects\": [\"Math\", \"Science\", \"History\"],\n",
    "    \"years_of_experience\": [5, 10, 3],\n",
    "    \"is_full_time\": [True, True, False]\n",
    "}\n",
    "df = pd.DataFrame(data_dict)\n",
    "print(\"\\nDataFrame created from dictionary:\")\n",
    "print(df)\n",
    "df.to_csv(\"Data/teachers_data.csv\", index=False)"
   ]
  },
  {
   "cell_type": "code",
   "execution_count": null,
   "id": "8b400fbb",
   "metadata": {},
   "outputs": [],
   "source": []
  }
 ],
 "metadata": {
  "kernelspec": {
   "display_name": "ds-env",
   "language": "python",
   "name": "python3"
  },
  "language_info": {
   "codemirror_mode": {
    "name": "ipython",
    "version": 3
   },
   "file_extension": ".py",
   "mimetype": "text/x-python",
   "name": "python",
   "nbconvert_exporter": "python",
   "pygments_lexer": "ipython3",
   "version": "3.12.11"
  }
 },
 "nbformat": 4,
 "nbformat_minor": 5
}
