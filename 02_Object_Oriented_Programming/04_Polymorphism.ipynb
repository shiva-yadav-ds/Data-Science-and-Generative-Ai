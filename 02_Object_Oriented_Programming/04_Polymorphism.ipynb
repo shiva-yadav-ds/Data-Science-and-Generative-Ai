{
 "cells": [
  {
   "cell_type": "markdown",
   "id": "2a1bff6a",
   "metadata": {},
   "source": [
    "# Polymorphism in Programming\n",
    "\n",
    "## Introduction\n",
    "Polymorphism is a core concept in object-oriented programming (OOP) that allows objects of different classes to be treated as objects of a common superclass. It enables a single interface to represent different underlying forms (data types).\n",
    "\n",
    "## Importance\n",
    "- **Code Reusability:** Promotes writing generic and reusable code.\n",
    "- **Flexibility:** Allows new classes to be introduced with minimal changes to existing code.\n",
    "- **Maintainability:** Simplifies code maintenance and extension.\n",
    "\n",
    "## Uses\n",
    "- **Method Overriding:** Subclasses provide specific implementations of methods defined in a superclass.\n",
    "- **Interface Implementation:** Multiple classes implement the same interface, allowing uniform access.\n",
    "- **Dynamic Method Dispatch:** The method to be executed is determined at runtime based on the object type.\n",
    "\n",
    "## Example\n",
    "\n",
    "```python\n",
    "class Animal:\n",
    "    def speak(self):\n",
    "        print(\"Animal speaks\")\n",
    "\n",
    "class Dog(Animal):\n",
    "    def speak(self):\n",
    "        print(\"Dog barks\")\n",
    "\n",
    "class Cat(Animal):\n",
    "    def speak(self):\n",
    "        print(\"Cat meows\")\n",
    "\n",
    "def animal_sound(animal):\n",
    "    animal.speak()\n",
    "\n",
    "dog = Dog()\n",
    "cat = Cat()\n",
    "\n",
    "animal_sound(dog)  # Output: Dog barks\n",
    "animal_sound(cat)  # Output: Cat meows\n",
    "```\n",
    "\n",
    "## Advanced Topics\n",
    "- **Duck Typing:** In languages like Python, an object's suitability is determined by the presence of certain methods, not its inheritance.\n",
    "- **Operator Overloading:** Customizing the behavior of operators for user-defined types.\n",
    "- **Abstract Classes and Interfaces:** Enforcing polymorphic behavior through abstract methods.\n",
    "- **Covariance and Contravariance:** Advanced type relationships in method parameters and return types.\n",
    "- **Polymorphism in Functional Programming:** Achieved through higher-order functions and type classes."
   ]
  },
  {
   "cell_type": "code",
   "execution_count": 62,
   "id": "0e278993",
   "metadata": {},
   "outputs": [],
   "source": [
    "def test(a, b):\n",
    "    return a + b\n",
    "def test2(a, b):\n",
    "    return a * b   "
   ]
  },
  {
   "cell_type": "code",
   "execution_count": 63,
   "id": "84dd4ab1",
   "metadata": {},
   "outputs": [
    {
     "data": {
      "text/plain": [
       "5"
      ]
     },
     "execution_count": 63,
     "metadata": {},
     "output_type": "execute_result"
    }
   ],
   "source": [
    "test(2, 3)  # Example usage"
   ]
  },
  {
   "cell_type": "code",
   "execution_count": 64,
   "id": "6ef9b56f",
   "metadata": {},
   "outputs": [
    {
     "data": {
      "text/plain": [
       "12"
      ]
     },
     "execution_count": 64,
     "metadata": {},
     "output_type": "execute_result"
    }
   ],
   "source": [
    "test2(2, 6) # Example usage"
   ]
  },
  {
   "cell_type": "code",
   "execution_count": 65,
   "id": "e7012968",
   "metadata": {},
   "outputs": [
    {
     "data": {
      "text/plain": [
       "'Shiva Yadav'"
      ]
     },
     "execution_count": 65,
     "metadata": {},
     "output_type": "execute_result"
    }
   ],
   "source": [
    "test(\"Shiva\", \" Yadav\")  # Example usage with strings"
   ]
  },
  {
   "cell_type": "code",
   "execution_count": 66,
   "id": "19ba8392",
   "metadata": {},
   "outputs": [
    {
     "data": {
      "text/plain": [
       "[3, 5, 3, 3, 5, 3]"
      ]
     },
     "execution_count": 66,
     "metadata": {},
     "output_type": "execute_result"
    }
   ],
   "source": [
    "test([3, 5, 3], [3, 5, 3])  # Example usage with lists"
   ]
  },
  {
   "cell_type": "code",
   "execution_count": 67,
   "id": "130792e4",
   "metadata": {},
   "outputs": [],
   "source": [
    "class Data_ScienceBootcamp:\n",
    "    def course_details(self):\n",
    "        print(\"Data Science Bootcamp Details:\")"
   ]
  },
  {
   "cell_type": "code",
   "execution_count": 68,
   "id": "21fa56ac",
   "metadata": {},
   "outputs": [],
   "source": [
    "class Web_Development:\n",
    "    def course_details(self):\n",
    "        print(\"Web Development Course Details:\")"
   ]
  },
  {
   "cell_type": "code",
   "execution_count": 69,
   "id": "e868e419",
   "metadata": {},
   "outputs": [],
   "source": [
    "def class_parcer(class_obj):\n",
    "    for i in class_obj:\n",
    "        i.course_details()"
   ]
  },
  {
   "cell_type": "code",
   "execution_count": 70,
   "id": "89f24505",
   "metadata": {},
   "outputs": [],
   "source": [
    "Data_ScienceBootcamp = Data_ScienceBootcamp()\n",
    "Web_Development = Web_Development()"
   ]
  },
  {
   "cell_type": "code",
   "execution_count": 71,
   "id": "e2c92158",
   "metadata": {},
   "outputs": [],
   "source": [
    "class_obj = [Data_ScienceBootcamp, Web_Development]"
   ]
  },
  {
   "cell_type": "code",
   "execution_count": 72,
   "id": "a61f27a9",
   "metadata": {},
   "outputs": [
    {
     "name": "stdout",
     "output_type": "stream",
     "text": [
      "Data Science Bootcamp Details:\n",
      "Web Development Course Details:\n"
     ]
    }
   ],
   "source": [
    "class_parcer(class_obj)\n"
   ]
  },
  {
   "cell_type": "code",
   "execution_count": 73,
   "id": "8ab588c8",
   "metadata": {},
   "outputs": [
    {
     "name": "stdout",
     "output_type": "stream",
     "text": [
      "Data Science Bootcamp Details:\n",
      "Web Development Course Details:\n",
      "None\n"
     ]
    }
   ],
   "source": [
    "both_data = class_parcer(class_obj)\n",
    "print(both_data)  # This will print the course details of both classes"
   ]
  },
  {
   "cell_type": "code",
   "execution_count": null,
   "id": "75afa66f",
   "metadata": {},
   "outputs": [],
   "source": []
  }
 ],
 "metadata": {
  "kernelspec": {
   "display_name": "ds-env",
   "language": "python",
   "name": "python3"
  },
  "language_info": {
   "codemirror_mode": {
    "name": "ipython",
    "version": 3
   },
   "file_extension": ".py",
   "mimetype": "text/x-python",
   "name": "python",
   "nbconvert_exporter": "python",
   "pygments_lexer": "ipython3",
   "version": "3.12.11"
  }
 },
 "nbformat": 4,
 "nbformat_minor": 5
}
