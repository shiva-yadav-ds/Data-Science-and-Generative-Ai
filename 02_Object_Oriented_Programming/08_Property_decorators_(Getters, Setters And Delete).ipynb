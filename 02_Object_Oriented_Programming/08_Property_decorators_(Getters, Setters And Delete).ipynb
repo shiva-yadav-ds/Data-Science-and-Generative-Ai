{
 "cells": [
  {
   "cell_type": "markdown",
   "id": "56d7cb66",
   "metadata": {},
   "source": [
    "# Property Decorators (Getters, Setters, and Delete)\n",
    "\n",
    "## Introduction\n",
    "\n",
    "Property decorators in Python (`@property`, `@<property>.setter`, and `@<property>.deleter`) provide a way to manage attribute access in classes. They allow you to define methods that get, set, or delete an attribute, while keeping the syntax clean and intuitive.\n",
    "\n",
    "---\n",
    "\n",
    "## How to Use Property Decorators\n",
    "\n",
    "- `@property`: Defines a method as a getter for an attribute.\n",
    "- `@<property>.setter`: Defines a method to set the value of the attribute.\n",
    "- `@<property>.deleter`: Defines a method to delete the attribute.\n",
    "\n",
    "---\n",
    "\n",
    "## Example\n",
    "\n",
    "```python\n",
    "class Person:\n",
    "    def __init__(self, name):\n",
    "        self._name = name\n",
    "\n",
    "    @property\n",
    "    def name(self):\n",
    "        \"\"\"Getter for name\"\"\"\n",
    "        return self._name\n",
    "\n",
    "    @name.setter\n",
    "    def name(self, value):\n",
    "        \"\"\"Setter for name\"\"\"\n",
    "        if not value:\n",
    "            raise ValueError(\"Name cannot be empty\")\n",
    "        self._name = value\n",
    "\n",
    "    @name.deleter\n",
    "    def name(self):\n",
    "        \"\"\"Deleter for name\"\"\"\n",
    "        print(\"Deleting name...\")\n",
    "        del self._name\n",
    "\n",
    "# Usage\n",
    "p = Person(\"Alice\")\n",
    "print(p.name)      # Getter\n",
    "p.name = \"Bob\"     # Setter\n",
    "del p.name         # Deleter\n",
    "```\n",
    "\n",
    "---\n",
    "\n",
    "## Importance\n",
    "\n",
    "- **Encapsulation**: Controls access to private attributes.\n",
    "- **Validation**: Allows validation logic when setting values.\n",
    "- **Readability**: Keeps attribute access syntax simple (`obj.attr`).\n",
    "- **Backward Compatibility**: Enables changing implementation without affecting external code.\n",
    "\n",
    "Property decorators are essential for writing robust, maintainable, and Pythonic classes."
   ]
  },
  {
   "cell_type": "code",
   "execution_count": 42,
   "id": "a3cfe9bf",
   "metadata": {},
   "outputs": [],
   "source": [
    "class pwskills:\n",
    "    def __init__(self, course_price, course_name):\n",
    "        self.__course_price = course_price\n",
    "        self.__course_name = course_name\n",
    "\n",
    "    @property\n",
    "    def course_price(self):\n",
    "        return self.__course_price\n",
    "    \n",
    "    @course_price.setter\n",
    "    def course_price(self, price):\n",
    "        if price > 3500:  # Only set if price is greater than 3500\n",
    "            self.__course_price = price\n",
    "    \n",
    "    @property\n",
    "    def course_name(self):\n",
    "        return self.__course_name\n",
    "    \n",
    "    @course_name.setter\n",
    "    def course_name(self, name):\n",
    "        self.__course_name = name\n",
    "     \n",
    "    @course_name.deleter    \n",
    "    def delete_course_name(self):\n",
    "        print(f\"Deleting course: {self.course_name}\")\n",
    "        del self.__course_name    "
   ]
  },
  {
   "cell_type": "code",
   "execution_count": 43,
   "id": "ad81bd3f",
   "metadata": {},
   "outputs": [
    {
     "name": "stdout",
     "output_type": "stream",
     "text": [
      "Initial course price: 3000\n",
      "Initial course name: Python Programming\n"
     ]
    }
   ],
   "source": [
    "# Create an instance of pwskills\n",
    "pw = pwskills(3000, \"Python Programming\")\n",
    "print(f\"Initial course price: {pw.course_price}\")\n",
    "print(f\"Initial course name: {pw.course_name}\")"
   ]
  },
  {
   "cell_type": "code",
   "execution_count": 44,
   "id": "805db4d8",
   "metadata": {},
   "outputs": [
    {
     "name": "stdout",
     "output_type": "stream",
     "text": [
      "Trying to set price to 3000 (should not change):\n",
      "Course price: 3000\n",
      "\n",
      "Trying to set price to 5000 (should change):\n",
      "Course price: 5000\n"
     ]
    }
   ],
   "source": [
    "# Try setting different prices\n",
    "print(\"Trying to set price to 3000 (should not change):\")\n",
    "pw.course_price = 3000\n",
    "print(f\"Course price: {pw.course_price}\")\n",
    "\n",
    "print(\"\\nTrying to set price to 5000 (should change):\")\n",
    "pw.course_price = 5000\n",
    "print(f\"Course price: {pw.course_price}\")"
   ]
  },
  {
   "cell_type": "code",
   "execution_count": 45,
   "id": "de51af64",
   "metadata": {},
   "outputs": [
    {
     "name": "stdout",
     "output_type": "stream",
     "text": [
      "Updated course name: Advanced Python Programming\n"
     ]
    }
   ],
   "source": [
    "# Try changing the course name\n",
    "pw.course_name = \"Advanced Python Programming\"\n",
    "print(f\"Updated course name: {pw.course_name}\")"
   ]
  },
  {
   "cell_type": "code",
   "execution_count": 46,
   "id": "596ccdb0",
   "metadata": {},
   "outputs": [
    {
     "data": {
      "text/plain": [
       "'Advanced Python Programming'"
      ]
     },
     "execution_count": 46,
     "metadata": {},
     "output_type": "execute_result"
    }
   ],
   "source": [
    "pw.course_name"
   ]
  },
  {
   "cell_type": "code",
   "execution_count": 47,
   "id": "7cf633b7",
   "metadata": {},
   "outputs": [
    {
     "name": "stdout",
     "output_type": "stream",
     "text": [
      "Deleting course: Advanced Python Programming\n"
     ]
    }
   ],
   "source": [
    "del pw.delete_course_name  # Deleting the course name"
   ]
  },
  {
   "cell_type": "code",
   "execution_count": 48,
   "id": "25dcaeeb",
   "metadata": {},
   "outputs": [
    {
     "ename": "AttributeError",
     "evalue": "'pwskills' object has no attribute '_pwskills__course_name'",
     "output_type": "error",
     "traceback": [
      "\u001b[31m---------------------------------------------------------------------------\u001b[39m",
      "\u001b[31mAttributeError\u001b[39m                            Traceback (most recent call last)",
      "\u001b[36mCell\u001b[39m\u001b[36m \u001b[39m\u001b[32mIn[48]\u001b[39m\u001b[32m, line 1\u001b[39m\n\u001b[32m----> \u001b[39m\u001b[32m1\u001b[39m pw.course_name\n",
      "\u001b[36mCell\u001b[39m\u001b[36m \u001b[39m\u001b[32mIn[42]\u001b[39m\u001b[32m, line 17\u001b[39m, in \u001b[36mpwskills.course_name\u001b[39m\u001b[34m(self)\u001b[39m\n\u001b[32m     15\u001b[39m \u001b[38;5;129m@property\u001b[39m\n\u001b[32m     16\u001b[39m \u001b[38;5;28;01mdef\u001b[39;00m\u001b[38;5;250m \u001b[39m\u001b[34mcourse_name\u001b[39m(\u001b[38;5;28mself\u001b[39m):\n\u001b[32m---> \u001b[39m\u001b[32m17\u001b[39m     \u001b[38;5;28;01mreturn\u001b[39;00m \u001b[38;5;28mself\u001b[39m.__course_name\n",
      "\u001b[31mAttributeError\u001b[39m: 'pwskills' object has no attribute '_pwskills__course_name'"
     ]
    }
   ],
   "source": [
    "pw.course_name"
   ]
  },
  {
   "cell_type": "code",
   "execution_count": null,
   "id": "4e1d4191",
   "metadata": {},
   "outputs": [],
   "source": []
  }
 ],
 "metadata": {
  "kernelspec": {
   "display_name": "ds-env",
   "language": "python",
   "name": "python3"
  },
  "language_info": {
   "codemirror_mode": {
    "name": "ipython",
    "version": 3
   },
   "file_extension": ".py",
   "mimetype": "text/x-python",
   "name": "python",
   "nbconvert_exporter": "python",
   "pygments_lexer": "ipython3",
   "version": "3.12.11"
  }
 },
 "nbformat": 4,
 "nbformat_minor": 5
}
