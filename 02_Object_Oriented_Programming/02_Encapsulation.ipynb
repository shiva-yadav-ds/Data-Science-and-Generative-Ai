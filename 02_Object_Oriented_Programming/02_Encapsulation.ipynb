{
  "cells": [
    {
      "cell_type": "code",
      "execution_count": 28,
      "metadata": {
        "id": "1ldihluNh6Xq"
      },
      "outputs": [],
      "source": [
        "class test :\n",
        "\n",
        "  def __init__(sefl, a, b):\n",
        "    sefl.a = a\n",
        "    sefl.b = b"
      ]
    },
    {
      "cell_type": "code",
      "execution_count": 29,
      "metadata": {
        "id": "10e-VZycGGj7"
      },
      "outputs": [],
      "source": [
        "t = test(23, 24)"
      ]
    },
    {
      "cell_type": "code",
      "execution_count": 30,
      "metadata": {
        "id": "KBn8dZWdGLiL"
      },
      "outputs": [],
      "source": [
        "t.a = 2345345"
      ]
    },
    {
      "cell_type": "code",
      "execution_count": 31,
      "metadata": {
        "colab": {
          "base_uri": "https://localhost:8080/"
        },
        "id": "wzZAICVyGQKw",
        "outputId": "4730d639-2a86-4fe1-f630-eae37cef93d3"
      },
      "outputs": [
        {
          "data": {
            "text/plain": [
              "2345345"
            ]
          },
          "execution_count": 31,
          "metadata": {},
          "output_type": "execute_result"
        }
      ],
      "source": [
        "t.a"
      ]
    },
    {
      "cell_type": "code",
      "execution_count": 32,
      "metadata": {
        "id": "BiJUE6xgGZjf"
      },
      "outputs": [],
      "source": [
        "class Car:\n",
        "    def __init__(self, year, make, model, speed):\n",
        "        self.__year = year\n",
        "        self.__make = make\n",
        "        self.__model = model\n",
        "        self.__speed = 0\n",
        "        self.set_speed(speed)\n",
        "\n",
        "    def set_speed(self, speed):\n",
        "        self.__speed = 0 if speed < 0 else speed\n",
        "\n",
        "    def get_speed(self):\n",
        "        return self.__speed\n"
      ]
    },
    {
      "cell_type": "code",
      "execution_count": 33,
      "metadata": {
        "colab": {
          "base_uri": "https://localhost:8080/"
        },
        "id": "ClPuuzrOHzwQ",
        "outputId": "ce885755-97a6-4f8a-8c76-7be4130f242e"
      },
      "outputs": [
        {
          "name": "stdout",
          "output_type": "stream",
          "text": [
            "0\n"
          ]
        }
      ],
      "source": [
        "c = Car(2021, 'toyota', 'innova', 120)\n",
        "c.set_speed(-323)\n",
        "print(c.get_speed())  # 0\n"
      ]
    },
    {
      "cell_type": "code",
      "execution_count": 34,
      "metadata": {
        "colab": {
          "base_uri": "https://localhost:8080/"
        },
        "id": "ys_zQFvqIzWd",
        "outputId": "0bce945a-39ea-44e3-d390-47a766610dd8"
      },
      "outputs": [
        {
          "name": "stdout",
          "output_type": "stream",
          "text": [
            "200\n"
          ]
        }
      ],
      "source": [
        "c.set_speed(200)\n",
        "print(c.get_speed())  # 200"
      ]
    },
    {
      "cell_type": "code",
      "execution_count": 35,
      "metadata": {
        "colab": {
          "base_uri": "https://localhost:8080/",
          "height": 110
        },
        "id": "Zdgz7Q-9LIZV",
        "outputId": "dab96858-5463-44cb-c912-acfa4239a959"
      },
      "outputs": [],
      "source": [
        "class bank_account:\n",
        "    def __init__(self, balance):\n",
        "        self.__balance = balance\n",
        "\n",
        "    def deposit(self, amount):\n",
        "      self.__balance = self.__balance + amount\n",
        "\n",
        "    def withdraw(self, amount):\n",
        "      if self.__balance >= amount:\n",
        "        self.__balance = self.__balance - amount\n",
        "        return True\n",
        "      else:\n",
        "        return False\n",
        "\n",
        "    def get_balance(self):\n",
        "      return self.__balance"
      ]
    },
    {
      "cell_type": "code",
      "execution_count": 36,
      "metadata": {
        "id": "nSrdCFzwMiwH"
      },
      "outputs": [],
      "source": [
        "shiva = bank_account(97484)"
      ]
    },
    {
      "cell_type": "code",
      "execution_count": 37,
      "metadata": {
        "id": "SczZQguiM4US"
      },
      "outputs": [],
      "source": [
        "shiva.deposit(1000)"
      ]
    },
    {
      "cell_type": "code",
      "execution_count": 38,
      "metadata": {
        "colab": {
          "base_uri": "https://localhost:8080/"
        },
        "id": "3QtzxnBTNCnx",
        "outputId": "9e419b0b-b21b-4942-a46b-e5fcefcc6560"
      },
      "outputs": [
        {
          "data": {
            "text/plain": [
              "98484"
            ]
          },
          "execution_count": 38,
          "metadata": {},
          "output_type": "execute_result"
        }
      ],
      "source": [
        "shiva.get_balance()"
      ]
    },
    {
      "cell_type": "code",
      "execution_count": 39,
      "metadata": {
        "colab": {
          "base_uri": "https://localhost:8080/"
        },
        "id": "v1udgcv4N0ec",
        "outputId": "f29c8873-6d96-4715-f4b4-ad1b4914effd"
      },
      "outputs": [
        {
          "data": {
            "text/plain": [
              "True"
            ]
          },
          "execution_count": 39,
          "metadata": {},
          "output_type": "execute_result"
        }
      ],
      "source": [
        "shiva.withdraw(2000)"
      ]
    },
    {
      "cell_type": "code",
      "execution_count": 40,
      "metadata": {
        "colab": {
          "base_uri": "https://localhost:8080/"
        },
        "id": "mBEP26pHOLKz",
        "outputId": "60c50d04-e52b-4283-aa3d-3abe9d838f21"
      },
      "outputs": [
        {
          "data": {
            "text/plain": [
              "96484"
            ]
          },
          "execution_count": 40,
          "metadata": {},
          "output_type": "execute_result"
        }
      ],
      "source": [
        "shiva.get_balance()"
      ]
    },
    {
      "cell_type": "code",
      "execution_count": null,
      "metadata": {
        "id": "of3YhORyOhQc"
      },
      "outputs": [],
      "source": []
    }
  ],
  "metadata": {
    "colab": {
      "provenance": []
    },
    "kernelspec": {
      "display_name": "ds-env",
      "language": "python",
      "name": "python3"
    },
    "language_info": {
      "codemirror_mode": {
        "name": "ipython",
        "version": 3
      },
      "file_extension": ".py",
      "mimetype": "text/x-python",
      "name": "python",
      "nbconvert_exporter": "python",
      "pygments_lexer": "ipython3",
      "version": "3.12.11"
    }
  },
  "nbformat": 4,
  "nbformat_minor": 0
}
