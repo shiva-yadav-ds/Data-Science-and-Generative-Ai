{
  "nbformat": 4,
  "nbformat_minor": 0,
  "metadata": {
    "colab": {
      "provenance": []
    },
    "kernelspec": {
      "name": "python3",
      "display_name": "Python 3"
    },
    "language_info": {
      "name": "python"
    }
  },
  "cells": [
    {
      "cell_type": "code",
      "execution_count": null,
      "metadata": {
        "id": "1ldihluNh6Xq"
      },
      "outputs": [],
      "source": [
        "class test :\n",
        "\n",
        "  def __init__(sefl, a, b):\n",
        "    sefl.a = a\n",
        "    sefl.b = b"
      ]
    },
    {
      "cell_type": "code",
      "source": [
        "t = test(23, 24)"
      ],
      "metadata": {
        "id": "10e-VZycGGj7"
      },
      "execution_count": null,
      "outputs": []
    },
    {
      "cell_type": "code",
      "source": [
        "t.a = 2345345"
      ],
      "metadata": {
        "id": "KBn8dZWdGLiL"
      },
      "execution_count": null,
      "outputs": []
    },
    {
      "cell_type": "code",
      "source": [
        "t.a"
      ],
      "metadata": {
        "colab": {
          "base_uri": "https://localhost:8080/"
        },
        "id": "wzZAICVyGQKw",
        "outputId": "4730d639-2a86-4fe1-f630-eae37cef93d3"
      },
      "execution_count": null,
      "outputs": [
        {
          "output_type": "execute_result",
          "data": {
            "text/plain": [
              "2345345"
            ]
          },
          "metadata": {},
          "execution_count": 4
        }
      ]
    },
    {
      "cell_type": "code",
      "source": [
        "class Car:\n",
        "    def __init__(self, year, make, model, speed):\n",
        "        self.__year = year\n",
        "        self.__make = make\n",
        "        self.__model = model\n",
        "        self.__speed = 0\n",
        "        self.set_speed(speed)\n",
        "\n",
        "    def set_speed(self, speed):\n",
        "        self.__speed = 0 if speed < 0 else speed\n",
        "\n",
        "    def get_speed(self):\n",
        "        return self.__speed\n"
      ],
      "metadata": {
        "id": "BiJUE6xgGZjf"
      },
      "execution_count": null,
      "outputs": []
    },
    {
      "cell_type": "code",
      "source": [
        "c = car(2021, 'toyota', 'innova', 120)"
      ],
      "metadata": {
        "id": "DVun0XwxHI-Q"
      },
      "execution_count": null,
      "outputs": []
    },
    {
      "cell_type": "code",
      "source": [
        "c._car__year"
      ],
      "metadata": {
        "colab": {
          "base_uri": "https://localhost:8080/"
        },
        "id": "dqz18cp9HMtl",
        "outputId": "482eeb62-e2d4-4c47-b6aa-140111647b2c"
      },
      "execution_count": null,
      "outputs": [
        {
          "output_type": "execute_result",
          "data": {
            "text/plain": [
              "2023"
            ]
          },
          "metadata": {},
          "execution_count": 18
        }
      ]
    },
    {
      "cell_type": "code",
      "source": [
        "c = Car(2021, 'toyota', 'innova', 120)\n",
        "c.set_speed(-323)\n",
        "print(c.get_speed())  # 0\n"
      ],
      "metadata": {
        "colab": {
          "base_uri": "https://localhost:8080/"
        },
        "id": "ClPuuzrOHzwQ",
        "outputId": "ce885755-97a6-4f8a-8c76-7be4130f242e"
      },
      "execution_count": null,
      "outputs": [
        {
          "output_type": "stream",
          "name": "stdout",
          "text": [
            "0\n"
          ]
        }
      ]
    },
    {
      "cell_type": "code",
      "source": [
        "c.set_speed(200)\n",
        "print(c.get_speed())  # 200"
      ],
      "metadata": {
        "colab": {
          "base_uri": "https://localhost:8080/"
        },
        "id": "ys_zQFvqIzWd",
        "outputId": "0bce945a-39ea-44e3-d390-47a766610dd8"
      },
      "execution_count": null,
      "outputs": [
        {
          "output_type": "stream",
          "name": "stdout",
          "text": [
            "200\n"
          ]
        }
      ]
    },
    {
      "cell_type": "code",
      "source": [
        "class bank_account:\n",
        "    def __init__(self, balance):\n",
        "        self.__balance = balance\n",
        "\n",
        "    def deposit(self, amount):\n",
        "      self.__balance = self.__balance + amount\n",
        "\n",
        "    def withdraw(self, amount):\n",
        "      if self.__balance >= amount:\n",
        "        self.__balance = self.__balance - amount\n",
        "        retutrn True\n",
        "      else:\n",
        "        return False\n",
        "\n",
        "    def get_balance(self):\n",
        "      return self.__balance"
      ],
      "metadata": {
        "colab": {
          "base_uri": "https://localhost:8080/",
          "height": 110
        },
        "id": "Zdgz7Q-9LIZV",
        "outputId": "dab96858-5463-44cb-c912-acfa4239a959"
      },
      "execution_count": null,
      "outputs": [
        {
          "output_type": "error",
          "ename": "SyntaxError",
          "evalue": "invalid syntax (ipython-input-1828259034.py, line 11)",
          "traceback": [
            "\u001b[0;36m  File \u001b[0;32m\"/tmp/ipython-input-1828259034.py\"\u001b[0;36m, line \u001b[0;32m11\u001b[0m\n\u001b[0;31m    retutrn True\u001b[0m\n\u001b[0m            ^\u001b[0m\n\u001b[0;31mSyntaxError\u001b[0m\u001b[0;31m:\u001b[0m invalid syntax\n"
          ]
        }
      ]
    },
    {
      "cell_type": "code",
      "source": [
        "shiva = bank_account(97484)"
      ],
      "metadata": {
        "id": "nSrdCFzwMiwH"
      },
      "execution_count": null,
      "outputs": []
    },
    {
      "cell_type": "code",
      "source": [
        "shiva.deposit(1000)"
      ],
      "metadata": {
        "id": "SczZQguiM4US"
      },
      "execution_count": null,
      "outputs": []
    },
    {
      "cell_type": "code",
      "source": [
        "shiva.get_balance()"
      ],
      "metadata": {
        "colab": {
          "base_uri": "https://localhost:8080/"
        },
        "id": "3QtzxnBTNCnx",
        "outputId": "9e419b0b-b21b-4942-a46b-e5fcefcc6560"
      },
      "execution_count": null,
      "outputs": [
        {
          "output_type": "execute_result",
          "data": {
            "text/plain": [
              "98484"
            ]
          },
          "metadata": {},
          "execution_count": 48
        }
      ]
    },
    {
      "cell_type": "code",
      "source": [
        "shiva.withdraw(2000)"
      ],
      "metadata": {
        "colab": {
          "base_uri": "https://localhost:8080/"
        },
        "id": "v1udgcv4N0ec",
        "outputId": "f29c8873-6d96-4715-f4b4-ad1b4914effd"
      },
      "execution_count": null,
      "outputs": [
        {
          "output_type": "execute_result",
          "data": {
            "text/plain": [
              "True"
            ]
          },
          "metadata": {},
          "execution_count": 58
        }
      ]
    },
    {
      "cell_type": "code",
      "source": [
        "shiva.get_balance()"
      ],
      "metadata": {
        "colab": {
          "base_uri": "https://localhost:8080/"
        },
        "id": "mBEP26pHOLKz",
        "outputId": "60c50d04-e52b-4283-aa3d-3abe9d838f21"
      },
      "execution_count": null,
      "outputs": [
        {
          "output_type": "execute_result",
          "data": {
            "text/plain": [
              "88484"
            ]
          },
          "metadata": {},
          "execution_count": 59
        }
      ]
    },
    {
      "cell_type": "code",
      "source": [],
      "metadata": {
        "id": "of3YhORyOhQc"
      },
      "execution_count": null,
      "outputs": []
    }
  ]
}