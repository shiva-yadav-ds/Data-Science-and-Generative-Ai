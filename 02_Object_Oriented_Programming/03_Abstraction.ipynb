{
 "cells": [
  {
   "cell_type": "markdown",
   "id": "3312c820",
   "metadata": {},
   "source": [
    "# Abstraction in Python\n",
    "\n",
    "## Introduction\n",
    "Abstraction is a core principle of object-oriented programming (OOP) that enables programmers to hide complex implementation details and expose only the necessary features of an object. This allows users to interact with objects at a higher level without needing to understand their inner workings.\n",
    "\n",
    "## Importance\n",
    "- **Simplifies code:** By focusing on essential features, abstraction makes code easier to read and maintain.\n",
    "- **Enhances security:** Internal details are hidden, reducing the risk of accidental misuse.\n",
    "- **Promotes reusability:** Abstract classes and interfaces can be reused across different implementations.\n",
    "- **Improves flexibility:** Changes to internal implementation do not affect external code that uses the abstraction.\n",
    "\n",
    "## Uses\n",
    "In Python, abstraction is typically implemented using abstract classes and methods. The `abc` module provides tools for defining abstract base classes, which serve as templates for other classes.\n",
    "\n",
    "## How It Works\n",
    "- An abstract class is created by inheriting from `abc.ABC`.\n",
    "- Abstract methods are defined using the `@abc.abstractmethod` decorator.\n",
    "- Abstract classes cannot be instantiated directly.\n",
    "- Subclasses must implement all abstract methods to be instantiated.\n",
    "\n",
    "## Example\n",
    "\n",
    "```python\n",
    "import abc\n",
    "\n",
    "class pwskill(abc.ABC):\n",
    "    @abc.abstractmethod\n",
    "    def students_details(self):\n",
    "        pass\n",
    "\n",
    "    @abc.abstractmethod\n",
    "    def course_details(self):\n",
    "        pass\n",
    "\n",
    "    @abc.abstractmethod\n",
    "    def instructor_details(self):\n",
    "        pass\n",
    "\n",
    "class pwskill_implementation(pwskill):\n",
    "    def students_details(self):\n",
    "        return {\n",
    "            \"name\": \"John Doe\",\n",
    "            \"age\": 20,\n",
    "            \"skills\": [\"Python\", \"Data Analysis\", \"Machine Learning\"]\n",
    "        }\n",
    "\n",
    "    def course_details(self):\n",
    "        return {\n",
    "            \"course_name\": \"Data Science Bootcamp\",\n",
    "            \"duration\": \"3 months\",\n",
    "            \"topics\": [\"Python\", \"Statistics\", \"Machine Learning\", \"Data Visualization\"]\n",
    "        }\n",
    "\n",
    "    def instructor_details(self):\n",
    "        return {\n",
    "            \"instructor_name\": \"Jane Smith\",\n",
    "            \"experience\": \"5 years in Data Science\",\n",
    "            \"specialization\": \"Machine Learning and AI\"\n",
    "        }\n",
    "```\n",
    "\n",
    "In this example, `pwskill` is an abstract class with three abstract methods. The `pwskill_implementation` class provides concrete implementations for these methods, allowing it to be instantiated and used. This demonstrates how abstraction helps define a clear interface while hiding implementation details."
   ]
  },
  {
   "cell_type": "code",
   "execution_count": 5,
   "id": "f6b11986",
   "metadata": {},
   "outputs": [],
   "source": [
    "import abc\n",
    "class pwskill:\n",
    "    @abc.abstractmethod\n",
    "    def students_details(self):\n",
    "        pass\n",
    "    @abc.abstractmethod    \n",
    "    def course_details(self):\n",
    "        pass\n",
    "    @abc.abstractmethod    \n",
    "    def instructor_details(self):\n",
    "       pass"
   ]
  },
  {
   "cell_type": "code",
   "execution_count": 8,
   "id": "105685e0",
   "metadata": {},
   "outputs": [],
   "source": [
    "class pwskill_implementation(pwskill):   \n",
    "    def students_details(self):\n",
    "        return {\n",
    "            \"name\": \"John Doe\",\n",
    "            \"age\": 20,\n",
    "            \"skills\": [\"Python\", \"Data Analysis\", \"Machine Learning\"]\n",
    "        }  \n",
    "    def course_details(self):\n",
    "        return {\n",
    "            \"course_name\": \"Data Science Bootcamp\",\n",
    "            \"duration\": \"3 months\",\n",
    "            \"topics\": [\"Python\", \"Statistics\", \"Machine Learning\", \"Data Visualization\"]\n",
    "        }  \n",
    "    def instructor_details(self):\n",
    "        return {\n",
    "            \"instructor_name\": \"Jane Smith\",\n",
    "            \"experience\": \"5 years in Data Science\",\n",
    "            \"specialization\": \"Machine Learning and AI\"\n",
    "        }  "
   ]
  },
  {
   "cell_type": "code",
   "execution_count": 11,
   "id": "4c5ab9ea",
   "metadata": {},
   "outputs": [],
   "source": [
    "class pwskill_implementation2(pwskill):\n",
    "    def students_details(self):\n",
    "        return {\n",
    "            \"name\": \"Alice Johnson\",\n",
    "            \"age\": 22,\n",
    "            \"skills\": [\"Python\", \"Data Visualization\", \"Deep Learning\"]\n",
    "        }  \n",
    "    def course_details(self):\n",
    "        return {\n",
    "            \"course_name\": \"AI and Deep Learning\",\n",
    "            \"duration\": \"4 months\",\n",
    "            \"topics\": [\"Neural Networks\", \"Computer Vision\", \"Natural Language Processing\"]\n",
    "        }  \n",
    "    def instructor_details(self):\n",
    "        return {\n",
    "            \"instructor_name\": \"Bob Brown\",\n",
    "            \"experience\": \"7 years in AI\",\n",
    "            \"specialization\": \"Deep Learning and Computer Vision\"\n",
    "        }"
   ]
  },
  {
   "cell_type": "code",
   "execution_count": 12,
   "id": "1e7f8417",
   "metadata": {},
   "outputs": [
    {
     "data": {
      "text/plain": [
       "{'name': 'Alice Johnson',\n",
       " 'age': 22,\n",
       " 'skills': ['Python', 'Data Visualization', 'Deep Learning']}"
      ]
     },
     "execution_count": 12,
     "metadata": {},
     "output_type": "execute_result"
    }
   ],
   "source": [
    "pwskill_implementation2().students_details()  # Example usage"
   ]
  },
  {
   "cell_type": "code",
   "execution_count": 16,
   "id": "82d9a047",
   "metadata": {},
   "outputs": [
    {
     "data": {
      "text/plain": [
       "{'course_name': 'Data Science Bootcamp',\n",
       " 'duration': '3 months',\n",
       " 'topics': ['Python', 'Statistics', 'Machine Learning', 'Data Visualization']}"
      ]
     },
     "execution_count": 16,
     "metadata": {},
     "output_type": "execute_result"
    }
   ],
   "source": [
    "pwskill_implementation().course_details()  # Example usage"
   ]
  },
  {
   "cell_type": "code",
   "execution_count": null,
   "id": "8c5987ca",
   "metadata": {},
   "outputs": [],
   "source": []
  }
 ],
 "metadata": {
  "kernelspec": {
   "display_name": "ds-env",
   "language": "python",
   "name": "python3"
  },
  "language_info": {
   "codemirror_mode": {
    "name": "ipython",
    "version": 3
   },
   "file_extension": ".py",
   "mimetype": "text/x-python",
   "name": "python",
   "nbconvert_exporter": "python",
   "pygments_lexer": "ipython3",
   "version": "3.12.11"
  }
 },
 "nbformat": 4,
 "nbformat_minor": 5
}
