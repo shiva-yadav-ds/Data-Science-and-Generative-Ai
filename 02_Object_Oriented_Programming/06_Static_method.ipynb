{
 "cells": [
  {
   "cell_type": "markdown",
   "id": "ee5f33d5",
   "metadata": {},
   "source": [
    "# Static Method in Python\n",
    "\n",
    "## Introduction\n",
    "A **static method** is a method that belongs to a class rather than an instance of the class. It does not require access to any properties or methods of the class or its instances.\n",
    "\n",
    "## Importance\n",
    "- Promotes code organization by grouping related functions inside classes.\n",
    "- Useful for utility functions that have logical connections to the class but do not need to access or modify class/instance data.\n",
    "- Improves code readability and maintainability.\n",
    "\n",
    "## Uses\n",
    "- Performing operations that are relevant to the class but do not need class or instance data.\n",
    "- Utility/helper functions.\n",
    "- Factory methods that create objects in a controlled way.\n",
    "\n",
    "## How It Works\n",
    "- Defined using the `@staticmethod` decorator.\n",
    "- Does not take `self` or `cls` as the first parameter.\n",
    "- Can be called using the class name or an instance.\n",
    "\n",
    "## Example\n",
    "\n",
    "```python\n",
    "class MathUtils:\n",
    "    @staticmethod\n",
    "    def add(a, b):\n",
    "        return a + b\n",
    "\n",
    "# Usage\n",
    "result = MathUtils.add(5, 3)\n",
    "print(result)  # Output: 8\n",
    "```\n",
    "\n",
    "In this example, `add` is a static method because it does not depend on any instance or class variables."
   ]
  },
  {
   "cell_type": "code",
   "execution_count": 22,
   "id": "57dd360a",
   "metadata": {},
   "outputs": [],
   "source": [
    "class pwskill:\n",
    "    def student(self, name, age, grade):\n",
    "        print(f\"Name: {name}, Age: {age}, Grade: {grade}\")"
   ]
  },
  {
   "cell_type": "code",
   "execution_count": 23,
   "id": "86d5469a",
   "metadata": {},
   "outputs": [],
   "source": [
    "pw = pwskill()"
   ]
  },
  {
   "cell_type": "code",
   "execution_count": 24,
   "id": "1e5a1bad",
   "metadata": {},
   "outputs": [
    {
     "name": "stdout",
     "output_type": "stream",
     "text": [
      "Name: Shiva, Age: 25, Grade: A\n",
      "Name: John, Age: 22, Grade: B\n",
      "Name: Alice, Age: 23, Grade: A+\n",
      "Name: Bob, Age: 24, Grade: B-\n"
     ]
    }
   ],
   "source": [
    "pw.student(\"Shiva\", 25, \"A\")\n",
    "pw.student(\"John\", 22, \"B\")\n",
    "pw.student(\"Alice\", 23, \"A+\")\n",
    "pw.student(\"Bob\", 24, \"B-\")"
   ]
  },
  {
   "cell_type": "code",
   "execution_count": 25,
   "id": "ccc6d4bd",
   "metadata": {},
   "outputs": [],
   "source": [
    "class pwskill1:\n",
    "    def student(self, name, age, grade):\n",
    "        print(f\"Name: {name}, Age: {age}, Grade: {grade}\")\n",
    "    @staticmethod\n",
    "    def mentor(name, age, subject):\n",
    "        print(f\"Name: {name}, Age: {age}, Subject: {subject}\")    "
   ]
  },
  {
   "cell_type": "code",
   "execution_count": 26,
   "id": "44108d85",
   "metadata": {},
   "outputs": [
    {
     "name": "stdout",
     "output_type": "stream",
     "text": [
      "Name: Dr. Smith, Age: 40, Subject: Mathematics\n"
     ]
    }
   ],
   "source": [
    "pwskill1.mentor(\"Dr. Smith\", 40, \"Mathematics\")"
   ]
  },
  {
   "cell_type": "code",
   "execution_count": 27,
   "id": "fbf5eb87",
   "metadata": {},
   "outputs": [],
   "source": [
    "stu1 = pwskill1()"
   ]
  },
  {
   "cell_type": "code",
   "execution_count": 28,
   "id": "b4fedd46",
   "metadata": {},
   "outputs": [],
   "source": [
    "stu2 = pwskill1()"
   ]
  },
  {
   "cell_type": "code",
   "execution_count": 29,
   "id": "f648d744",
   "metadata": {},
   "outputs": [],
   "source": [
    "stu3 = pwskill1()"
   ]
  },
  {
   "cell_type": "code",
   "execution_count": 30,
   "id": "e6658973",
   "metadata": {},
   "outputs": [],
   "source": [
    "class pwskill2:\n",
    "    def student(self, name, age, grade):\n",
    "        print(f\"Name: {name}, Age: {age}, Grade: {grade}\")\n",
    "    \n",
    "    @staticmethod\n",
    "    def mentor_mail_id(mail_ids):\n",
    "        for mail_id in mail_ids:\n",
    "            print(f\"Mail ID: {mail_id}\") \n",
    "    \n",
    "    @staticmethod\n",
    "    def mentor_class(list_mentor):\n",
    "        print(f\"Mentors in class:\")\n",
    "        for mentor in list_mentor:\n",
    "            print(f\"- {mentor}\")\n",
    "    \n",
    "    @classmethod \n",
    "    def class_name(cls, name):\n",
    "        print(f\"Class: {name}\")   \n",
    "    \n",
    "    def mentor(self, mentor_list):\n",
    "        print(\"Regular method for mentors:\")\n",
    "        for mentor in mentor_list:\n",
    "            print(f\"Mentor: {mentor}\")"
   ]
  },
  {
   "cell_type": "code",
   "execution_count": 31,
   "id": "e188b99f",
   "metadata": {},
   "outputs": [
    {
     "name": "stdout",
     "output_type": "stream",
     "text": [
      "Mentors in class:\n",
      "- Dr. Smith\n",
      "- Dr. John\n",
      "- Dr. Alice\n",
      "- Dr. Bob\n",
      "Mail ID: smith@example.com\n",
      "Mail ID: john@example.com\n",
      "Mail ID: alice@example.com\n",
      "Mail ID: bob@example.com\n",
      "Class: Python Programming\n",
      "Regular method for mentors:\n",
      "Mentor: Dr. Smith\n",
      "Mentor: Dr. John\n",
      "Mentor: Dr. Alice\n",
      "Mentor: Dr. Bob\n"
     ]
    }
   ],
   "source": [
    "# Using static methods\n",
    "mentor_list = [\"Dr. Smith\", \"Dr. John\", \"Dr. Alice\", \"Dr. Bob\"]\n",
    "pwskill2.mentor_class(mentor_list)\n",
    "\n",
    "# Using static method for email IDs\n",
    "email_list = [\"smith@example.com\", \"john@example.com\", \"alice@example.com\", \"bob@example.com\"]\n",
    "pwskill2.mentor_mail_id(email_list)\n",
    "\n",
    "# Using class method\n",
    "pwskill2.class_name(\"Python Programming\")\n",
    "\n",
    "# Creating instance and using regular method\n",
    "pw2 = pwskill2()\n",
    "pw2.mentor(mentor_list)"
   ]
  },
  {
   "cell_type": "code",
   "execution_count": null,
   "id": "39a15de6",
   "metadata": {},
   "outputs": [],
   "source": []
  }
 ],
 "metadata": {
  "kernelspec": {
   "display_name": "ds-env",
   "language": "python",
   "name": "python3"
  },
  "language_info": {
   "codemirror_mode": {
    "name": "ipython",
    "version": 3
   },
   "file_extension": ".py",
   "mimetype": "text/x-python",
   "name": "python",
   "nbconvert_exporter": "python",
   "pygments_lexer": "ipython3",
   "version": "3.12.11"
  }
 },
 "nbformat": 4,
 "nbformat_minor": 5
}
