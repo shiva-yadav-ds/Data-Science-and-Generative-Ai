{
 "cells": [
  {
   "cell_type": "markdown",
   "id": "8c87854d",
   "metadata": {},
   "source": [
    "## Notes on Class Method in Python\n",
    "\n",
    "### What is a Class Method?\n",
    "A class method is a method that is bound to the class and not the instance of the class. It can access and modify class state that applies across all instances of the class.\n",
    "\n",
    "### How to Use a Class Method\n",
    "- Use the `@classmethod` decorator above the method definition.\n",
    "- The first parameter is always `cls`, which refers to the class itself.\n",
    "\n",
    "```python\n",
    "class MyClass:\n",
    "    count = 0\n",
    "\n",
    "    @classmethod\n",
    "    def increment_count(cls):\n",
    "        cls.count += 1\n",
    "```\n",
    "\n",
    "### Importance of Class Methods\n",
    "- They allow you to work with class variables and not just instance variables.\n",
    "- Useful for factory methods that instantiate objects in different ways.\n",
    "\n",
    "### Uses of Class Methods\n",
    "- Modifying class-level data.\n",
    "- Creating alternative constructors.\n",
    "- Implementing factory patterns.\n",
    "\n",
    "### Example\n",
    "\n",
    "```python\n",
    "class Person:\n",
    "    population = 0\n",
    "\n",
    "    def __init__(self, name):\n",
    "        self.name = name\n",
    "        Person.population += 1\n",
    "\n",
    "    @classmethod\n",
    "    def get_population(cls):\n",
    "        return cls.population\n",
    "\n",
    "# Usage\n",
    "print(Person.get_population())\n",
    "p1 = Person(\"Alice\")\n",
    "print(Person.get_population())\n",
    "```\n",
    "\n",
    "### Advanced Topics\n",
    "- **Alternative Constructors:** Class methods can be used to create objects with different initialization logic.\n",
    "- **Inheritance:** Class methods respect inheritance and can be overridden in subclasses.\n",
    "- **Metaprogramming:** Used in metaclasses and frameworks for dynamic behavior.\n",
    "\n",
    "```python\n",
    "class Date:\n",
    "    def __init__(self, year, month, day):\n",
    "        self.year = year\n",
    "        self.month = month\n",
    "        self.day = day\n",
    "\n",
    "    @classmethod\n",
    "    def from_string(cls, date_str):\n",
    "        year, month, day = map(int, date_str.split('-'))\n",
    "        return cls(year, month, day)\n",
    "\n",
    "d = Date.from_string(\"2024-06-01\")\n",
    "```\n",
    "\n",
    "### Summary\n",
    "Class methods are powerful tools for managing class-level data and providing flexible object creation patterns. Use them when you need to interact with the class itself rather than individual instances."
   ]
  },
  {
   "cell_type": "code",
   "execution_count": 54,
   "id": "a44f5f93",
   "metadata": {},
   "outputs": [],
   "source": [
    "class pwskills:\n",
    "    def __init__(self, course_name, duration):\n",
    "        self.course_name = course_name\n",
    "        self.duration = duration\n",
    "    \n",
    "    @classmethod \n",
    "    def details(cls, course_name, duration):\n",
    "        return cls(course_name, duration)\n",
    "\n",
    "    def course_details(self):\n",
    "        print(f\"Course Name: {self.course_name}, Duration: {self.duration}\")"
   ]
  },
  {
   "cell_type": "code",
   "execution_count": 55,
   "id": "c9a93ccb",
   "metadata": {},
   "outputs": [
    {
     "name": "stdout",
     "output_type": "stream",
     "text": [
      "Course Name: Data Science Bootcamp, Duration: 3 months\n"
     ]
    }
   ],
   "source": [
    "pw = pwskills(\"Data Science Bootcamp\", \"3 months\")\n",
    "pw.course_details()"
   ]
  },
  {
   "cell_type": "code",
   "execution_count": 56,
   "id": "d677743a",
   "metadata": {},
   "outputs": [
    {
     "data": {
      "text/plain": [
       "'3 months'"
      ]
     },
     "execution_count": 56,
     "metadata": {},
     "output_type": "execute_result"
    }
   ],
   "source": [
    "pw.duration"
   ]
  },
  {
   "cell_type": "code",
   "execution_count": 57,
   "id": "3f9628b9",
   "metadata": {},
   "outputs": [
    {
     "data": {
      "text/plain": [
       "'Data Science Bootcamp'"
      ]
     },
     "execution_count": 57,
     "metadata": {},
     "output_type": "execute_result"
    }
   ],
   "source": [
    "pw.course_name"
   ]
  },
  {
   "cell_type": "code",
   "execution_count": 58,
   "id": "7857dd77",
   "metadata": {},
   "outputs": [
    {
     "data": {
      "text/plain": [
       "<__main__.pwskills at 0x784324528800>"
      ]
     },
     "execution_count": 58,
     "metadata": {},
     "output_type": "execute_result"
    }
   ],
   "source": [
    "pwskills.details(\"Web Development\", \"6 months\")"
   ]
  },
  {
   "cell_type": "code",
   "execution_count": 59,
   "id": "1d8efe75",
   "metadata": {},
   "outputs": [],
   "source": [
    "pw1 = pwskills.details(\"Web Development\", \"6 months\")"
   ]
  },
  {
   "cell_type": "code",
   "execution_count": 60,
   "id": "cc53fb9b",
   "metadata": {},
   "outputs": [
    {
     "data": {
      "text/plain": [
       "'Web Development'"
      ]
     },
     "execution_count": 60,
     "metadata": {},
     "output_type": "execute_result"
    }
   ],
   "source": [
    "pw1.course_name"
   ]
  },
  {
   "cell_type": "code",
   "execution_count": 61,
   "id": "e4a4b8a4",
   "metadata": {},
   "outputs": [
    {
     "data": {
      "text/plain": [
       "'6 months'"
      ]
     },
     "execution_count": 61,
     "metadata": {},
     "output_type": "execute_result"
    }
   ],
   "source": [
    "pw1.duration"
   ]
  },
  {
   "cell_type": "code",
   "execution_count": 62,
   "id": "c9fa9a9d",
   "metadata": {},
   "outputs": [],
   "source": [
    "class pwskills2:\n",
    "    \n",
    "    mob_num = \"1234567890\"\n",
    "    \n",
    "    def __init__(self, course_name, duration):\n",
    "        self.course_name = course_name\n",
    "        self.duration = duration\n",
    "    \n",
    "    @classmethod \n",
    "    def change_num(cls, mobile_number):\n",
    "        pwskills2.mob_num = mobile_number\n",
    "        \n",
    "    \n",
    "    @classmethod \n",
    "    def details(cls, course_name, duration):\n",
    "        return cls(course_name, duration)\n",
    "\n",
    "    def course_details(self):\n",
    "        print(f\"Course Name: {self.course_name}, Duration: {self.duration}, Mobile Number: {pwskills2.mob_num}\")"
   ]
  },
  {
   "cell_type": "code",
   "execution_count": 63,
   "id": "dcd0fcf1",
   "metadata": {},
   "outputs": [
    {
     "data": {
      "text/plain": [
       "'1234567890'"
      ]
     },
     "execution_count": 63,
     "metadata": {},
     "output_type": "execute_result"
    }
   ],
   "source": [
    "pwskills2.mob_num"
   ]
  },
  {
   "cell_type": "code",
   "execution_count": 64,
   "id": "ff0d8608",
   "metadata": {},
   "outputs": [],
   "source": [
    "pwskills2.change_num(\"0987654321\")"
   ]
  },
  {
   "cell_type": "code",
   "execution_count": 65,
   "id": "fc0ea069",
   "metadata": {},
   "outputs": [
    {
     "data": {
      "text/plain": [
       "'0987654321'"
      ]
     },
     "execution_count": 65,
     "metadata": {},
     "output_type": "execute_result"
    }
   ],
   "source": [
    "pwskills2.mob_num\n"
   ]
  },
  {
   "cell_type": "code",
   "execution_count": 66,
   "id": "fac2ebad",
   "metadata": {},
   "outputs": [],
   "source": [
    "class pwskills3:\n",
    "    \n",
    "    mob_num = \"1234567890\"\n",
    "    \n",
    "    def __init__(self, course_name, duration):\n",
    "        self.course_name = course_name\n",
    "        self.duration = duration\n",
    "    \n",
    "    @classmethod \n",
    "    def change_num(cls, mobile_number):\n",
    "        pwskills2.mob_num = mobile_number\n",
    "        \n",
    "    \n",
    "    @classmethod \n",
    "    def details(cls, course_name, duration):\n",
    "        return cls(course_name, duration)\n",
    "\n",
    "    def course_details(self):\n",
    "        print(f\"Course Name: {self.course_name}, Duration: {self.duration}, Mobile Number: {pwskills2.mob_num}\")"
   ]
  },
  {
   "cell_type": "code",
   "execution_count": 67,
   "id": "0c87d781",
   "metadata": {},
   "outputs": [],
   "source": [
    "def course_details(cls, course_name, duration, mob_num):\n",
    "    print(f\"Course Name: {course_name}, Duration: {duration}, Mobile Number: {mob_num}\")"
   ]
  },
  {
   "cell_type": "code",
   "execution_count": 68,
   "id": "07187789",
   "metadata": {},
   "outputs": [],
   "source": [
    "pwskills3.course_details = classmethod(course_details)"
   ]
  },
  {
   "cell_type": "code",
   "execution_count": 70,
   "id": "3cff19a5",
   "metadata": {},
   "outputs": [
    {
     "name": "stdout",
     "output_type": "stream",
     "text": [
      "Course Name: AI Engineering, Duration: 4 months, Mobile Number: 1234567890\n"
     ]
    }
   ],
   "source": [
    "pwskills3.course_details(\"AI Engineering\", \"4 months\", pwskills3.mob_num)"
   ]
  },
  {
   "cell_type": "code",
   "execution_count": 71,
   "id": "d3c45a06",
   "metadata": {},
   "outputs": [],
   "source": [
    "def mentor(cls, list_of_mentors):\n",
    "    print(f\"List of Mentors: {list_of_mentors}\")"
   ]
  },
  {
   "cell_type": "code",
   "execution_count": 72,
   "id": "84bc7e26",
   "metadata": {},
   "outputs": [],
   "source": [
    "pwskills3.mentor= classmethod(mentor)"
   ]
  },
  {
   "cell_type": "code",
   "execution_count": 73,
   "id": "cbc7822e",
   "metadata": {},
   "outputs": [
    {
     "data": {
      "text/plain": [
       "<bound method mentor of <class '__main__.pwskills3'>>"
      ]
     },
     "execution_count": 73,
     "metadata": {},
     "output_type": "execute_result"
    }
   ],
   "source": [
    "pwskills3.mentor"
   ]
  },
  {
   "cell_type": "code",
   "execution_count": 74,
   "id": "348f8dfb",
   "metadata": {},
   "outputs": [
    {
     "name": "stdout",
     "output_type": "stream",
     "text": [
      "List of Mentors: ['Alice', 'Bob', 'Charlie']\n"
     ]
    }
   ],
   "source": [
    "pwskills3.mentor([\"Alice\", \"Bob\", \"Charlie\"])"
   ]
  },
  {
   "cell_type": "code",
   "execution_count": 76,
   "id": "0db30c66",
   "metadata": {},
   "outputs": [],
   "source": [
    "class pwskills4:\n",
    "    \n",
    "    mob_num = \"1234567890\"\n",
    "    \n",
    "    def __init__(self, course_name, duration):\n",
    "        self.course_name = course_name\n",
    "        self.duration = duration\n",
    "    \n",
    "    @classmethod \n",
    "    def change_num(cls, mobile_number):\n",
    "        pwskills2.mob_num = mobile_number\n",
    "        \n",
    "    \n",
    "    @classmethod \n",
    "    def details(cls, course_name, duration):\n",
    "        return cls(course_name, duration)\n",
    "\n",
    "    def course_details(self):\n",
    "        print(f\"Course Name: {self.course_name}, Duration: {self.duration}, Mobile Number: {pwskills2.mob_num}\")"
   ]
  },
  {
   "cell_type": "code",
   "execution_count": 77,
   "id": "1dc8fad2",
   "metadata": {},
   "outputs": [],
   "source": [
    "del pwskills4.change_num"
   ]
  },
  {
   "cell_type": "code",
   "execution_count": 78,
   "id": "893851e9",
   "metadata": {},
   "outputs": [
    {
     "ename": "AttributeError",
     "evalue": "type object 'pwskills4' has no attribute 'change_num'",
     "output_type": "error",
     "traceback": [
      "\u001b[31m---------------------------------------------------------------------------\u001b[39m",
      "\u001b[31mAttributeError\u001b[39m                            Traceback (most recent call last)",
      "\u001b[36mCell\u001b[39m\u001b[36m \u001b[39m\u001b[32mIn[78]\u001b[39m\u001b[32m, line 1\u001b[39m\n\u001b[32m----> \u001b[39m\u001b[32m1\u001b[39m pwskills4.change_num(\u001b[32m379267824842\u001b[39m)\n",
      "\u001b[31mAttributeError\u001b[39m: type object 'pwskills4' has no attribute 'change_num'"
     ]
    }
   ],
   "source": [
    "pwskills4.change_num(379267824842)"
   ]
  },
  {
   "cell_type": "code",
   "execution_count": 79,
   "id": "6f0f2017",
   "metadata": {},
   "outputs": [
    {
     "ename": "AttributeError",
     "evalue": "type object 'pwskills4' has no attribute 'change_num'",
     "output_type": "error",
     "traceback": [
      "\u001b[31m---------------------------------------------------------------------------\u001b[39m",
      "\u001b[31mAttributeError\u001b[39m                            Traceback (most recent call last)",
      "\u001b[36mCell\u001b[39m\u001b[36m \u001b[39m\u001b[32mIn[79]\u001b[39m\u001b[32m, line 1\u001b[39m\n\u001b[32m----> \u001b[39m\u001b[32m1\u001b[39m \u001b[38;5;28mdelattr\u001b[39m(pwskills4, \u001b[33m'\u001b[39m\u001b[33mchange_num\u001b[39m\u001b[33m'\u001b[39m)\n",
      "\u001b[31mAttributeError\u001b[39m: type object 'pwskills4' has no attribute 'change_num'"
     ]
    }
   ],
   "source": [
    "delattr(pwskills4, 'change_num')"
   ]
  },
  {
   "cell_type": "code",
   "execution_count": null,
   "id": "9664fd8f",
   "metadata": {},
   "outputs": [],
   "source": []
  }
 ],
 "metadata": {
  "kernelspec": {
   "display_name": "ds-env",
   "language": "python",
   "name": "python3"
  },
  "language_info": {
   "codemirror_mode": {
    "name": "ipython",
    "version": 3
   },
   "file_extension": ".py",
   "mimetype": "text/x-python",
   "name": "python",
   "nbconvert_exporter": "python",
   "pygments_lexer": "ipython3",
   "version": "3.12.11"
  }
 },
 "nbformat": 4,
 "nbformat_minor": 5
}
