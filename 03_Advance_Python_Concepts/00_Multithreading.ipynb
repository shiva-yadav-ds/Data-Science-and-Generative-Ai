{
  "cells": [
    {
      "cell_type": "markdown",
      "metadata": {
        "id": "cf402573"
      },
      "source": [
        "# Multithreading\n",
        "\n",
        "## Introduction\n",
        "\n",
        "Multithreading is a technique that allows a program to execute multiple parts of itself concurrently. These parts are called threads. Each thread runs independently within the same program, sharing resources like memory space.\n",
        "\n",
        "## Use Cases\n",
        "\n",
        "Multithreading is useful in various scenarios, including:\n",
        "\n",
        "* **Improving responsiveness:** In applications with user interfaces, multithreading can prevent the program from freezing while performing long-running tasks.\n",
        "* **Performing background tasks:** Tasks that don't require immediate user interaction can be run in separate threads, allowing the main program to continue.\n",
        "* **Utilizing multi-core processors:** Multithreading can take advantage of multi-core processors by distributing tasks across different cores, leading to faster execution.\n",
        "* **Handling multiple client requests:** Servers often use multithreading to handle multiple client connections simultaneously.\n",
        "\n",
        "## Importance\n",
        "\n",
        "Multithreading is important for several reasons:\n",
        "\n",
        "* **Increased performance:** By allowing concurrent execution, multithreading can significantly improve the performance of applications, especially on multi-core systems.\n",
        "* **Better resource utilization:** Threads share resources, which can lead to more efficient use of system resources compared to creating separate processes.\n",
        "* **Improved user experience:** For interactive applications, multithreading can make the application feel more responsive and less laggy.\n",
        "\n",
        "## Example (Conceptual)\n",
        "\n",
        "Here's a conceptual example of how multithreading might be used in a simple application:\n",
        "\n",
        "Imagine a program that needs to download multiple images from the internet. Without multithreading, the program would download each image one after another. This means the user would have to wait for each download to complete before the next one starts.\n",
        "\n",
        "With multithreading, the program could create a separate thread for each image download. These threads could then run concurrently, downloading multiple images at the same time. This would significantly reduce the overall time it takes to download all the images and provide a better user experience."
      ]
    },
    {
      "cell_type": "code",
      "execution_count": 46,
      "metadata": {
        "colab": {
          "base_uri": "https://localhost:8080/"
        },
        "id": "34adf41a",
        "outputId": "9e121716-c996-4dfe-c2ce-c456382a715f"
      },
      "outputs": [
        {
          "name": "stdout",
          "output_type": "stream",
          "text": [
            "Thread 1: 0\n",
            "Thread 2: a\n",
            "Thread 1: 1\n",
            "Thread 2: b\n",
            "Thread 1: 2\n",
            "Thread 1: 3\n",
            "Thread 2: c\n",
            "Thread 1: 4\n",
            "Thread 2: d\n",
            "Thread 2: e\n",
            "Both threads finished.\n"
          ]
        }
      ],
      "source": [
        "import threading\n",
        "import time\n",
        "\n",
        "def print_numbers():\n",
        "  for i in range(5):\n",
        "    time.sleep(0.5) # Simulate some work\n",
        "    print(f\"Thread 1: {i}\")\n",
        "\n",
        "def print_letters():\n",
        "  for letter in ['a', 'b', 'c', 'd', 'e']:\n",
        "    time.sleep(0.7) # Simulate some work\n",
        "    print(f\"Thread 2: {letter}\")\n",
        "\n",
        "# Create two threads\n",
        "thread1 = threading.Thread(target=print_numbers)\n",
        "thread2 = threading.Thread(target=print_letters)\n",
        "\n",
        "# Start the threads\n",
        "thread1.start()\n",
        "thread2.start()\n",
        "\n",
        "# Wait for both threads to complete\n",
        "thread1.join()\n",
        "thread2.join()\n",
        "\n",
        "print(\"Both threads finished.\")"
      ]
    },
    {
      "cell_type": "code",
      "execution_count": 47,
      "metadata": {
        "id": "QOuKLSUXzUrA"
      },
      "outputs": [],
      "source": [
        "import threading"
      ]
    },
    {
      "cell_type": "code",
      "execution_count": 48,
      "metadata": {
        "id": "u3pPLhsczZeI"
      },
      "outputs": [],
      "source": [
        "def  test(id):\n",
        "  print(\"prog start \", id)"
      ]
    },
    {
      "cell_type": "code",
      "execution_count": 49,
      "metadata": {
        "colab": {
          "base_uri": "https://localhost:8080/"
        },
        "id": "cUpj7dP-zoCF",
        "outputId": "bb61d242-2891-4549-f890-e734754b7d4b"
      },
      "outputs": [
        {
          "name": "stdout",
          "output_type": "stream",
          "text": [
            "prog start  45\n"
          ]
        }
      ],
      "source": [
        "test(45)"
      ]
    },
    {
      "cell_type": "code",
      "execution_count": 50,
      "metadata": {
        "id": "1Q3Jo3VBzurk"
      },
      "outputs": [],
      "source": [
        "thread = [threading.Thread(target=test, args=(i,))for i in range(10)]"
      ]
    },
    {
      "cell_type": "code",
      "execution_count": 51,
      "metadata": {
        "colab": {
          "base_uri": "https://localhost:8080/"
        },
        "id": "R4roFFP5z8bT",
        "outputId": "09ee8116-ddbc-4b29-8951-148e16f03061"
      },
      "outputs": [
        {
          "name": "stdout",
          "output_type": "stream",
          "text": [
            "prog start prog start  1\n",
            " 0\n",
            "prog start  2\n",
            "prog start  3\n",
            "prog start  4\n",
            "prog start  5\n",
            "prog start  6\n",
            "prog start  7\n",
            "prog start  8\n",
            "prog start  9\n"
          ]
        }
      ],
      "source": [
        "for  t in thread:\n",
        "  t.start()"
      ]
    },
    {
      "cell_type": "code",
      "execution_count": 52,
      "metadata": {
        "colab": {
          "base_uri": "https://localhost:8080/"
        },
        "id": "NpMlj0Jh0ePg",
        "outputId": "deafe849-cd7f-41f2-bfe4-bc3449949498"
      },
      "outputs": [
        {
          "data": {
            "text/plain": [
              "[0, 1, 2, 3, 4, 5, 6, 7, 8, 9]"
            ]
          },
          "execution_count": 52,
          "metadata": {},
          "output_type": "execute_result"
        }
      ],
      "source": [
        "list(range(10))"
      ]
    },
    {
      "cell_type": "code",
      "execution_count": 53,
      "metadata": {
        "colab": {
          "base_uri": "https://localhost:8080/"
        },
        "id": "dr1uYNnb09k6",
        "outputId": "284090bc-0229-4c01-8bb9-b5c61932d490"
      },
      "outputs": [
        {
          "data": {
            "text/plain": [
              "[<Thread(Thread-49 (test), stopped 138976765490752)>,\n",
              " <Thread(Thread-50 (test), stopped 138976773883456)>,\n",
              " <Thread(Thread-51 (test), stopped 138976685979200)>,\n",
              " <Thread(Thread-52 (test), stopped 138976765490752)>,\n",
              " <Thread(Thread-53 (test), stopped 138976765490752)>,\n",
              " <Thread(Thread-54 (test), stopped 138976685979200)>,\n",
              " <Thread(Thread-55 (test), stopped 138976765490752)>,\n",
              " <Thread(Thread-56 (test), stopped 138976685979200)>,\n",
              " <Thread(Thread-57 (test), stopped 138976773883456)>,\n",
              " <Thread(Thread-58 (test), stopped 138976773883456)>]"
            ]
          },
          "execution_count": 53,
          "metadata": {},
          "output_type": "execute_result"
        }
      ],
      "source": [
        "thread"
      ]
    },
    {
      "cell_type": "code",
      "execution_count": 54,
      "metadata": {
        "colab": {
          "base_uri": "https://localhost:8080/"
        },
        "id": "8-DU3i9Z1Ijh",
        "outputId": "eb5aa689-9e5a-4c70-c58b-584bba60e9a8"
      },
      "outputs": [
        {
          "data": {
            "text/plain": [
              "138976756210688"
            ]
          },
          "execution_count": 54,
          "metadata": {},
          "output_type": "execute_result"
        }
      ],
      "source": [
        "id(thread)"
      ]
    },
    {
      "cell_type": "code",
      "execution_count": 55,
      "metadata": {
        "id": "5RWqQiNq1Ml4"
      },
      "outputs": [],
      "source": [
        "import threading\n",
        "import urllib.request\n",
        "\n",
        "def file_download(url, filename):\n",
        "  urllib.request.urlretrieve(url, filename)"
      ]
    },
    {
      "cell_type": "code",
      "execution_count": 56,
      "metadata": {
        "id": "5HoCw5fv1xb8"
      },
      "outputs": [],
      "source": [
        "file_download('https://raw.githubusercontent.com/itsfoss/text-files/master/agatha.txt', 'test.txt')"
      ]
    },
    {
      "cell_type": "code",
      "execution_count": 57,
      "metadata": {
        "id": "VA_SJkCn2NAz"
      },
      "outputs": [],
      "source": [
        "url_list = ['https://raw.githubusercontent.com/itsfoss/text-files/master/agatha.txt',]"
      ]
    },
    {
      "cell_type": "code",
      "execution_count": 58,
      "metadata": {
        "id": "r358Oa4F220w"
      },
      "outputs": [],
      "source": [
        "file_name_list = ['data1.txt', 'data2.txt', 'data3.txt']"
      ]
    },
    {
      "cell_type": "code",
      "execution_count": 59,
      "metadata": {
        "colab": {
          "base_uri": "https://localhost:8080/"
        },
        "id": "MfmDyw9m3QWA",
        "outputId": "cf5ead6c-3f16-4081-b31f-f657cdcef936"
      },
      "outputs": [
        {
          "name": "stdout",
          "output_type": "stream",
          "text": [
            "All downloads finished.\n"
          ]
        }
      ],
      "source": [
        "threads = [threading.Thread(target=file_download, args=(url_list[i], file_name_list[i])) for i in range(len(url_list))]\n",
        "\n",
        "for t in threads:\n",
        "    t.start()\n",
        "\n",
        "# Optional: Wait for all threads to complete\n",
        "for t in threads:\n",
        "    t.join()\n",
        "\n",
        "print(\"All downloads finished.\")"
      ]
    },
    {
      "cell_type": "code",
      "execution_count": 60,
      "metadata": {
        "id": "dEbKuwDr4a_9"
      },
      "outputs": [],
      "source": [
        "import time"
      ]
    },
    {
      "cell_type": "code",
      "execution_count": 81,
      "metadata": {
        "id": "nx9o1SmM5AMY"
      },
      "outputs": [],
      "source": [
        "def test1(id):\n",
        "  for i in range(3):\n",
        "    print(\"test1 %d printing %d %s\" %(id,i, time.ctime()))\n",
        "    time.sleep(1)"
      ]
    },
    {
      "cell_type": "code",
      "execution_count": 82,
      "metadata": {
        "colab": {
          "base_uri": "https://localhost:8080/"
        },
        "id": "cOrtpsPX5UP3",
        "outputId": "98c79e82-458f-4c3e-f06d-679f1a64ce32"
      },
      "outputs": [
        {
          "name": "stdout",
          "output_type": "stream",
          "text": [
            "test1 1 printing 0 Sat Aug 16 17:44:52 2025\n",
            "test1 1 printing 1 Sat Aug 16 17:44:53 2025\n",
            "test1 1 printing 2 Sat Aug 16 17:44:54 2025\n"
          ]
        }
      ],
      "source": [
        "test1(1)"
      ]
    },
    {
      "cell_type": "code",
      "execution_count": 83,
      "metadata": {
        "colab": {
          "base_uri": "https://localhost:8080/"
        },
        "id": "wLGcexRw6TXR",
        "outputId": "18e56b7a-505e-4ee8-c69c-a0b3e0952aea"
      },
      "outputs": [
        {
          "name": "stdout",
          "output_type": "stream",
          "text": [
            "test1 0 printing 0 Sat Aug 16 17:45:13 2025\n",
            "test1 0 printing 1 Sat Aug 16 17:45:14 2025\n",
            "test1 0 printing 2 Sat Aug 16 17:45:15 2025\n",
            "test1 1 printing 0 Sat Aug 16 17:45:16 2025\n",
            "test1 1 printing 1 Sat Aug 16 17:45:17 2025\n",
            "test1 1 printing 2 Sat Aug 16 17:45:18 2025\n",
            "test1 2 printing 0 Sat Aug 16 17:45:19 2025\n",
            "test1 2 printing 1 Sat Aug 16 17:45:20 2025\n",
            "test1 2 printing 2 Sat Aug 16 17:45:21 2025\n"
          ]
        }
      ],
      "source": [
        "thread10 = [threading.Thread(target=test1, args=(i,)) for i in range(3)]\n",
        "for t in thread10:\n",
        "  t.start()\n",
        "  t.join() # Add this line to wait for each thread to finish"
      ]
    },
    {
      "cell_type": "code",
      "execution_count": 89,
      "metadata": {
        "id": "KmtWNkAh6cLu"
      },
      "outputs": [],
      "source": [
        "shared_var = 0\n",
        "lock_var = threading.Lock()"
      ]
    },
    {
      "cell_type": "code",
      "execution_count": 90,
      "metadata": {
        "id": "Kpt6jeYX_arh"
      },
      "outputs": [],
      "source": [
        "shared_var = 0\n",
        "lock_var = threading.Lock()\n",
        "def test2(id):\n",
        "  global shared_var\n",
        "  with lock_var:\n",
        "    shared_var = shared_var+1\n",
        "    print(\"test2 id is %d has increase the shared variable by %d \"%(id, shared_var))"
      ]
    },
    {
      "cell_type": "code",
      "execution_count": 86,
      "metadata": {
        "id": "FPBA5CtOAMRs"
      },
      "outputs": [],
      "source": [
        "ther3 = [threading.Thread(target=test2, args=(i,)) for i in range(3)]"
      ]
    },
    {
      "cell_type": "code",
      "execution_count": 91,
      "metadata": {
        "colab": {
          "base_uri": "https://localhost:8080/"
        },
        "id": "5pNIQmZXAU1o",
        "outputId": "3af4a433-0679-41a1-be6f-b1c12995fe5a"
      },
      "outputs": [
        {
          "name": "stdout",
          "output_type": "stream",
          "text": [
            "test2 id is 0 has increase the shared variable by 1 \n",
            "test2 id is 1 has increase the shared variable by 2 \n",
            "test2 id is 2 has increase the shared variable by 3 \n"
          ]
        }
      ],
      "source": [
        "for t in ther3:\n",
        "  t.start()"
      ]
    },
    {
      "cell_type": "code",
      "execution_count": 92,
      "metadata": {
        "colab": {
          "base_uri": "https://localhost:8080/"
        },
        "id": "wne1GeZwAWVY",
        "outputId": "c56620ae-34c2-481f-ee9c-87fe46736cf9"
      },
      "outputs": [
        {
          "name": "stdout",
          "output_type": "stream",
          "text": [
            "test2 id is 0 has increase the shared variable by 4 \n"
          ]
        }
      ],
      "source": [
        "test2(0)"
      ]
    },
    {
      "cell_type": "code",
      "execution_count": null,
      "metadata": {
        "id": "swIhqmHrBBxX"
      },
      "outputs": [],
      "source": []
    }
  ],
  "metadata": {
    "colab": {
      "provenance": []
    },
    "kernelspec": {
      "display_name": "ds-env",
      "language": "python",
      "name": "python3"
    },
    "language_info": {
      "name": "python",
      "version": "3.12.11"
    }
  },
  "nbformat": 4,
  "nbformat_minor": 0
}
