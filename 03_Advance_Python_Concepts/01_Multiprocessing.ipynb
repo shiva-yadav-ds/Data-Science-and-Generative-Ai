{
  "cells": [
    {
      "cell_type": "code",
      "execution_count": null,
      "metadata": {
        "id": "T7CqyFRiB3kI"
      },
      "outputs": [],
      "source": []
    },
    {
      "cell_type": "markdown",
      "metadata": {
        "id": "0b4565d0"
      },
      "source": [
        "## Multiprocessing in Python\n",
        "\n",
        "Multiprocessing is a technique that allows a program to use multiple CPU cores to execute tasks concurrently. This is different from multithreading, which uses multiple threads within a single process. Multiprocessing can significantly improve performance for CPU-bound tasks.\n",
        "\n",
        "### Uses of Multiprocessing\n",
        "\n",
        "*   **CPU-bound tasks:** Ideal for tasks that require significant processing power and can be broken down into smaller, independent subtasks. Examples include scientific simulations, data processing, and complex calculations.\n",
        "*   **Parallel execution:** Allows different parts of a program to run simultaneously on different cores, reducing the overall execution time.\n",
        "*   **Avoiding the Global Interpreter Lock (GIL):** Unlike multithreading in CPython, multiprocessing is not subject to the GIL, which can be a bottleneck for CPU-bound tasks in multithreaded applications.\n",
        "\n",
        "### How to Use Multiprocessing\n",
        "\n",
        "Python's `multiprocessing` module provides the tools to create and manage processes. The basic steps are:\n",
        "\n",
        "1.  **Import the `multiprocessing` module.**\n",
        "2.  **Create `Process` objects:** Define the function that each process will execute and create `Process` objects with the target function.\n",
        "3.  **Start the processes:** Use the `start()` method to begin the execution of each process.\n",
        "4.  **Join the processes:** Use the `join()` method to wait for each process to complete before the main program continues.\n",
        "\n",
        "### Importance of Multiprocessing\n",
        "\n",
        "*   **Improved performance:** By utilizing multiple cores, multiprocessing can drastically reduce the execution time of CPU-bound tasks.\n",
        "*   **Increased responsiveness:** Can prevent the main program from becoming unresponsive while performing lengthy computations.\n",
        "*   **Scalability:** Can scale to take advantage of systems with more CPU cores.\n",
        "\n",
        "### Example\n",
        "\n",
        "Here's a simple example of using multiprocessing to perform a calculation in parallel:"
      ]
    },
    {
      "cell_type": "code",
      "execution_count": 1,
      "metadata": {
        "colab": {
          "base_uri": "https://localhost:8080/"
        },
        "id": "b54dc30b",
        "outputId": "4b39f3e2-9e21-487c-c7bf-30dcf25e9ac8"
      },
      "outputs": [
        {
          "name": "stdout",
          "output_type": "stream",
          "text": [
            "Processing 4...Processing 3...Processing 1...\n",
            "\n",
            "\n",
            "Processing 5...Processing 2...\n",
            "\n",
            "Result for 4: 16Result for 3: 9Result for 1: 1Result for 5: 25\n",
            "\n",
            "\n",
            "Result for 2: 4\n",
            "\n",
            "All processes finished.\n"
          ]
        }
      ],
      "source": [
        "import multiprocessing\n",
        "import time\n",
        "\n",
        "def square_number(number):\n",
        "  \"\"\"Calculates the square of a number and prints it.\"\"\"\n",
        "  print(f\"Processing {number}...\")\n",
        "  time.sleep(1) # Simulate some work\n",
        "  result = number * number\n",
        "  print(f\"Result for {number}: {result}\")\n",
        "\n",
        "if __name__ == \"__main__\":\n",
        "  numbers = [1, 2, 3, 4, 5]\n",
        "  processes = []\n",
        "\n",
        "  # Create and start processes\n",
        "  for num in numbers:\n",
        "    process = multiprocessing.Process(target=square_number, args=(num,))\n",
        "    processes.append(process)\n",
        "    process.start()\n",
        "\n",
        "  # Wait for all processes to complete\n",
        "  for process in processes:\n",
        "    process.join()\n",
        "\n",
        "  print(\"All processes finished.\")"
      ]
    },
    {
      "cell_type": "code",
      "execution_count": 2,
      "metadata": {
        "colab": {
          "base_uri": "https://localhost:8080/"
        },
        "id": "qiZ1qaT5HJkf",
        "outputId": "5fc8fba5-d70f-48a0-b751-6461539761c7"
      },
      "outputs": [
        {
          "name": "stdout",
          "output_type": "stream",
          "text": [
            "this is my main program\n",
            "this is my multiprocessing program\n"
          ]
        }
      ],
      "source": [
        "import multiprocessing\n",
        "def test():\n",
        "  print(\"this is my multiprocessing program\")\n",
        "\n",
        "if __name__=='__main__':\n",
        "   m = multiprocessing.Process(target=test)\n",
        "   print(\"this is my main program\")\n",
        "   m.start()\n",
        "   m.join()"
      ]
    },
    {
      "cell_type": "code",
      "execution_count": 3,
      "metadata": {
        "colab": {
          "base_uri": "https://localhost:8080/"
        },
        "id": "KurxBkp0ImMM",
        "outputId": "be80bb31-cc9a-4b89-f26b-999b9699b235"
      },
      "outputs": [
        {
          "name": "stdout",
          "output_type": "stream",
          "text": [
            "this is my multiprocessing program\n"
          ]
        }
      ],
      "source": [
        "test()"
      ]
    },
    {
      "cell_type": "code",
      "execution_count": 4,
      "metadata": {
        "colab": {
          "base_uri": "https://localhost:8080/"
        },
        "id": "tDQJQ-iXIoMn",
        "outputId": "a68abb52-b556-4101-e899-bbee684e8583"
      },
      "outputs": [
        {
          "name": "stdout",
          "output_type": "stream",
          "text": [
            "[1, 4, 9, 16, 25, 36, 49, 64, 81]\n"
          ]
        }
      ],
      "source": [
        "def square(n):\n",
        "  return n**2\n",
        "\n",
        "if __name__=='__main__':\n",
        "  with multiprocessing.Pool(processes=4) as pool:\n",
        "    out=pool.map(square,[1,2,3,4,5,6,7,8,9])\n",
        "    print(out)"
      ]
    },
    {
      "cell_type": "code",
      "execution_count": 5,
      "metadata": {
        "colab": {
          "base_uri": "https://localhost:8080/"
        },
        "id": "iEJMnAVvI0MC",
        "outputId": "f25d4585-e7f1-4a60-e839-8488dd4e8356"
      },
      "outputs": [
        {
          "name": "stdout",
          "output_type": "stream",
          "text": [
            "consumed 0\n",
            "consumed 1\n",
            "consumed 2\n",
            "consumed 3\n",
            "consumed 4\n",
            "consumed 5\n",
            "consumed 6\n",
            "consumed 7\n",
            "consumed 8\n",
            "consumed 9\n",
            "consumed Shiva\n",
            "consumed Yadav\n"
          ]
        }
      ],
      "source": [
        "def producer(q):\n",
        "  for i in range(10):\n",
        "    q.put(i)\n",
        "def consumer(q):\n",
        "  while True:\n",
        "    item=q.get()\n",
        "    if item is None:\n",
        "      break\n",
        "    print(f\"consumed {item}\")\n",
        "\n",
        "if __name__ == '__main__':\n",
        "  queue = multiprocessing.Queue()\n",
        "  m1 = multiprocessing.Process(target=producer, args= (queue,))\n",
        "  m2 = multiprocessing.Process(target=consumer, args= (queue,))\n",
        "  m1.start()\n",
        "  m2.start()\n",
        "  queue.put(\"Shiva\")\n",
        "  queue.put(\"Yadav\")\n",
        "  m1.join()\n",
        "  # m2.join() # Joining m2 would cause the program to hang because the consumer is in an infinite loop.\n",
        "  queue.put(None) # Signal the consumer to exit\n",
        "  m2.join()"
      ]
    },
    {
      "cell_type": "code",
      "execution_count": 6,
      "metadata": {
        "colab": {
          "base_uri": "https://localhost:8080/"
        },
        "id": "D5pgOZNJKy7R",
        "outputId": "3aaa7f3a-51f4-44b1-a0da-5daf15acf757"
      },
      "outputs": [
        {
          "name": "stdout",
          "output_type": "stream",
          "text": [
            "[4, 9, 16, 25, 36, 49, 64]\n"
          ]
        }
      ],
      "source": [
        "def square(index,value):\n",
        "  value[index]=value[index]**2\n",
        "\n",
        "if __name__=='__main__':\n",
        "  arr=multiprocessing.Array('i',[2,3,4,5,6,7,8])\n",
        "  process=[]\n",
        "  for i in range(7):\n",
        "    m=multiprocessing.Process(target=square,args=(i,arr))\n",
        "    process.append(m)\n",
        "    m.start()\n",
        "  for m in process:\n",
        "    m.join()\n",
        "  print(list(arr))"
      ]
    },
    {
      "cell_type": "code",
      "execution_count": null,
      "metadata": {
        "colab": {
          "base_uri": "https://localhost:8080/"
        },
        "id": "yy-qjB1ZNRDT",
        "outputId": "3623de46-e2d7-4906-dda9-7a41d1ef7a51"
      },
      "outputs": [
        {
          "name": "stdout",
          "output_type": "stream",
          "text": [
            "my name is shiva\n"
          ]
        },
        {
          "name": "stdout",
          "output_type": "stream",
          "text": [
            "this is msg to second person\n",
            "i am talking class for multiprocesing\n"
          ]
        }
      ],
      "source": [
        "def sender(conn,msg):\n",
        "  for i in msg:\n",
        "    conn.send(i)\n",
        "    time.sleep(1)\n",
        "  conn.close()\n",
        "\n",
        "def receive(conn):\n",
        "  while True:\n",
        "    try:\n",
        "      msg=conn.recv()\n",
        "    except Exception as e:\n",
        "      print(e)\n",
        "      break\n",
        "    print(msg)\n",
        "    time.sleep(1)\n",
        "\n",
        "if __name__ == \"__main__\":\n",
        "  msg = [\"my name is shiva\", \"this is msg to second person\", \"i am talking class for multiprocesing\"]\n",
        "  parent_conn, child_conn = multiprocessing.Pipe()\n",
        "  m1=multiprocessing.Process(target=sender,args=(child_conn,msg))\n",
        "  m2=multiprocessing.Process(target=receive,args=(parent_conn,))\n",
        "  m1.start()\n",
        "  m2.start()\n",
        "  m1.join()\n",
        "  m2.join()\n",
        "  child_conn.close()\n",
        "  parent_conn.close()"
      ]
    },
    {
      "cell_type": "code",
      "execution_count": null,
      "metadata": {},
      "outputs": [],
      "source": []
    }
  ],
  "metadata": {
    "colab": {
      "provenance": []
    },
    "kernelspec": {
      "display_name": "ds-env",
      "language": "python",
      "name": "python3"
    },
    "language_info": {
      "codemirror_mode": {
        "name": "ipython",
        "version": 3
      },
      "file_extension": ".py",
      "mimetype": "text/x-python",
      "name": "python",
      "nbconvert_exporter": "python",
      "pygments_lexer": "ipython3",
      "version": "3.12.11"
    }
  },
  "nbformat": 4,
  "nbformat_minor": 0
}
